{
 "cells": [
  {
   "cell_type": "markdown",
   "metadata": {
    "deletable": true,
    "editable": true
   },
   "source": [
    "# MNIST Image Classification with TensorFlow on Cloud ML Engine\n",
    "\n",
    "This notebook demonstrates how to implement different image models on MNIST using Estimator. \n",
    "\n",
    "Note the MODEL_TYPE; change it to try out different models"
   ]
  },
  {
   "cell_type": "code",
   "execution_count": 22,
   "metadata": {
    "collapsed": false,
    "deletable": true,
    "editable": true
   },
   "outputs": [],
   "source": [
    "import os\n",
    "import tensorflow as tf\n",
    "PROJECT = \"qwiklabs-gcp-636667ae83e902b6\"  # Replace with your PROJECT\n",
    "BUCKET =  \"qwiklabs-gcp-636667ae83e902b6_al\"  # Replace with your BUCKET\n",
    "REGION = \"us-east1\"            # Choose an available region for AI Platform  \n",
    "MODEL_TYPE = \"cnn\"  # \"linear\", \"dnn\", \"dnn_dropout\", or \"cnn\"\n",
    "\n",
    "# do not change these\n",
    "os.environ[\"PROJECT\"] = PROJECT\n",
    "os.environ[\"BUCKET\"] = BUCKET\n",
    "os.environ[\"REGION\"] = REGION\n",
    "os.environ[\"MODEL_TYPE\"] = MODEL_TYPE\n",
    "os.environ[\"TFVERSION\"] = \"1.13\"  # Tensorflow version"
   ]
  },
  {
   "cell_type": "code",
   "execution_count": 23,
   "metadata": {
    "collapsed": false,
    "deletable": true,
    "editable": true
   },
   "outputs": [
    {
     "name": "stderr",
     "output_type": "stream",
     "text": [
      "Updated property [core/project].\n",
      "Updated property [compute/region].\n"
     ]
    }
   ],
   "source": [
    "%%bash\n",
    "gcloud config set project $PROJECT\n",
    "gcloud config set compute/region $REGION"
   ]
  },
  {
   "cell_type": "markdown",
   "metadata": {
    "deletable": true,
    "editable": true
   },
   "source": [
    "## Run as a Python module\n",
    "\n",
    "In the previous notebook (mnist_linear.ipynb) we ran our code directly from the notebook.\n",
    "\n",
    "Now since we want to run our code on Cloud ML Engine, we've packaged it as a python module.\n",
    "\n",
    "The `model.py` and `task.py` containing the model code is in <a href=\"mnistmodel/trainer\">mnistmodel/trainer</a>\n",
    "\n",
    "**Complete the TODOs in `model.py` before proceeding!**\n",
    "\n",
    "Once you've completed the TODOs, set MODEL_TYPE and run it locally for a few steps to test the code."
   ]
  },
  {
   "cell_type": "code",
   "execution_count": 24,
   "metadata": {
    "collapsed": false,
    "deletable": true,
    "editable": true
   },
   "outputs": [
    {
     "name": "stderr",
     "output_type": "stream",
     "text": [
      "WARNING: Logging before flag parsing goes to stderr.\n",
      "W0725 15:06:01.784848 139974355895744 deprecation_wrapper.py:119] From trainer/model.py:23: The name tf.logging.set_verbosity is deprecated. Please use tf.compat.v1.logging.set_verbosity instead.\n",
      "\n",
      "W0725 15:06:01.785161 139974355895744 deprecation_wrapper.py:119] From trainer/model.py:23: The name tf.logging.INFO is deprecated. Please use tf.compat.v1.logging.INFO instead.\n",
      "\n",
      "W0725 15:06:01.786645 139974355895744 deprecation_wrapper.py:119] From trainer/model.py:110: The name tf.summary.FileWriterCache is deprecated. Please use tf.compat.v1.summary.FileWriterCache instead.\n",
      "\n",
      "W0725 15:06:02.620280 139974355895744 deprecation_wrapper.py:119] From trainer/model.py:130: The name tf.estimator.inputs is deprecated. Please use tf.compat.v1.estimator.inputs instead.\n",
      "\n",
      "W0725 15:06:02.620625 139974355895744 deprecation_wrapper.py:119] From trainer/model.py:130: The name tf.estimator.inputs.numpy_input_fn is deprecated. Please use tf.compat.v1.estimator.inputs.numpy_input_fn instead.\n",
      "\n",
      "W0725 15:06:02.627008 139974355895744 deprecation.py:506] From /usr/local/lib/python2.7/dist-packages/tensorflow/python/ops/init_ops.py:1251: calling __init__ (from tensorflow.python.ops.init_ops) with dtype is deprecated and will be removed in a future version.\n",
      "Instructions for updating:\n",
      "Call initializer instance with the dtype argument instead of passing it to the constructor\n",
      "I0725 15:06:02.812582 139974355895744 run_config.py:528] TF_CONFIG environment variable: {u'environment': u'cloud', u'cluster': {}, u'job': {u'args': [u'--output_dir=/home/jupyter/training-data-analyst/courses/machine_learning/deepdive/08_image_keras/labs/mnist_trained', u'--train_steps=100', u'--learning_rate=0.01', u'--model=cnn'], u'job_name': u'trainer.task'}, u'task': {}}\n",
      "I0725 15:06:02.813359 139974355895744 keras.py:424] Using the Keras model provided.\n",
      "2019-07-25 15:06:02.813958: I tensorflow/core/platform/cpu_feature_guard.cc:145] This TensorFlow binary is optimized with Intel(R) MKL-DNN to use the following CPU instructions in performance critical operations:  AVX2 FMA\n",
      "To enable them in non-MKL-DNN operations, rebuild TensorFlow with the appropriate compiler flags.\n",
      "2019-07-25 15:06:02.825096: I tensorflow/core/platform/profile_utils/cpu_utils.cc:94] CPU Frequency: 2200000000 Hz\n",
      "2019-07-25 15:06:02.825770: I tensorflow/compiler/xla/service/service.cc:168] XLA service 0x55a6d2f17920 executing computations on platform Host. Devices:\n",
      "2019-07-25 15:06:02.825816: I tensorflow/compiler/xla/service/service.cc:175]   StreamExecutor device (0): <undefined>, <undefined>\n",
      "2019-07-25 15:06:02.826295: I tensorflow/core/common_runtime/process_util.cc:115] Creating new thread pool with default inter op setting: 2. Tune using inter_op_parallelism_threads for best performance.\n",
      "W0725 15:06:02.833636 139974355895744 deprecation.py:506] From /usr/local/lib/python2.7/dist-packages/tensorflow/python/ops/init_ops.py:97: calling __init__ (from tensorflow.python.ops.init_ops) with dtype is deprecated and will be removed in a future version.\n",
      "Instructions for updating:\n",
      "Call initializer instance with the dtype argument instead of passing it to the constructor\n",
      "W0725 15:06:02.834036 139974355895744 deprecation.py:506] From /usr/local/lib/python2.7/dist-packages/tensorflow/python/ops/init_ops.py:97: calling __init__ (from tensorflow.python.ops.init_ops) with dtype is deprecated and will be removed in a future version.\n",
      "Instructions for updating:\n",
      "Call initializer instance with the dtype argument instead of passing it to the constructor\n",
      "2019-07-25 15:06:03.495531: W tensorflow/compiler/jit/mark_for_compilation_pass.cc:1412] (One-time warning): Not using XLA:CPU for cluster because envvar TF_XLA_FLAGS=--tf_xla_cpu_global_jit was not set.  If you want XLA:CPU, either set that envvar, or use experimental_jit_scope to enable XLA:CPU.  To confirm that XLA is active, pass --vmodule=xla_compilation_cache=1 (as a proper command-line flag, not via TF_XLA_FLAGS) or set the envvar XLA_FLAGS=--xla_hlo_profile.\n",
      "I0725 15:06:03.803747 139974355895744 estimator.py:209] Using config: {'_save_checkpoints_secs': 60, '_num_ps_replicas': 0, '_keep_checkpoint_max': 5, '_task_type': 'worker', '_global_id_in_cluster': 0, '_is_chief': True, '_cluster_spec': <tensorflow.python.training.server_lib.ClusterSpec object at 0x7f4e11623f50>, '_model_dir': '/home/jupyter/training-data-analyst/courses/machine_learning/deepdive/08_image_keras/labs/mnist_trained/', '_protocol': None, '_save_checkpoints_steps': None, '_keep_checkpoint_every_n_hours': 10000, '_service': None, '_session_config': allow_soft_placement: true\n",
      "graph_options {\n",
      "  rewrite_options {\n",
      "    meta_optimizer_iterations: ONE\n",
      "  }\n",
      "}\n",
      ", '_tf_random_seed': None, '_save_summary_steps': 100, '_device_fn': None, '_experimental_distribute': None, '_num_worker_replicas': 1, '_task_id': 0, '_log_step_count_steps': 100, '_experimental_max_worker_delay_secs': None, '_evaluation_master': '', '_eval_distribute': None, '_train_distribute': None, '_master': ''}\n",
      "I0725 15:06:03.804688 139974355895744 estimator_training.py:186] Not using Distribute Coordinator.\n",
      "I0725 15:06:03.804959 139974355895744 training.py:612] Running training and evaluation locally (non-distributed).\n",
      "I0725 15:06:03.805264 139974355895744 training.py:700] Start train and evaluate loop. The evaluate will happen after every checkpoint. Checkpoint frequency is determined based on RunConfig arguments: save_checkpoints_steps None or save_checkpoints_secs 60.\n",
      "W0725 15:06:03.810467 139974355895744 deprecation.py:323] From /usr/local/lib/python2.7/dist-packages/tensorflow/python/training/training_util.py:236: initialized_value (from tensorflow.python.ops.variables) is deprecated and will be removed in a future version.\n",
      "Instructions for updating:\n",
      "Use Variable.read_value. Variables in 2.X are initialized automatically both in eager and graph (inside tf.defun) contexts.\n",
      "W0725 15:06:03.823191 139974355895744 deprecation.py:323] From /usr/local/lib/python2.7/dist-packages/tensorflow_estimator/python/estimator/inputs/queues/feeding_queue_runner.py:62: __init__ (from tensorflow.python.training.queue_runner_impl) is deprecated and will be removed in a future version.\n",
      "Instructions for updating:\n",
      "To construct input pipelines, use the `tf.data` module.\n",
      "W0725 15:06:03.824399 139974355895744 deprecation.py:323] From /usr/local/lib/python2.7/dist-packages/tensorflow_estimator/python/estimator/inputs/queues/feeding_functions.py:500: add_queue_runner (from tensorflow.python.training.queue_runner_impl) is deprecated and will be removed in a future version.\n",
      "Instructions for updating:\n",
      "To construct input pipelines, use the `tf.data` module.\n",
      "I0725 15:06:03.832583 139974355895744 estimator.py:1145] Calling model_fn.\n",
      "I0725 15:06:04.252490 139974355895744 estimator.py:1147] Done calling model_fn.\n",
      "I0725 15:06:04.252806 139974355895744 estimator.py:1364] Warm-starting with WarmStartSettings: WarmStartSettings(ckpt_to_initialize_from='/home/jupyter/training-data-analyst/courses/machine_learning/deepdive/08_image_keras/labs/mnist_trained/keras/keras_model.ckpt', vars_to_warm_start='.*', var_name_to_vocab_info={}, var_name_to_prev_var_name={})\n",
      "I0725 15:06:04.252876 139974355895744 warm_starting_util.py:419] Warm-starting from: ('/home/jupyter/training-data-analyst/courses/machine_learning/deepdive/08_image_keras/labs/mnist_trained/keras/keras_model.ckpt',)\n",
      "I0725 15:06:04.252970 139974355895744 warm_starting_util.py:333] Warm-starting variables only in TRAINABLE_VARIABLES.\n",
      "I0725 15:06:04.290070 139974355895744 warm_starting_util.py:481] Warm-started 10 variables.\n",
      "I0725 15:06:04.291548 139974355895744 basic_session_run_hooks.py:541] Create CheckpointSaverHook.\n",
      "W0725 15:06:04.399806 139974355895744 deprecation.py:323] From /usr/local/lib/python2.7/dist-packages/tensorflow/python/ops/array_ops.py:1354: where (from tensorflow.python.ops.array_ops) is deprecated and will be removed in a future version.\n",
      "Instructions for updating:\n",
      "Use tf.where in 2.0, which has the same broadcast rule as np.where\n",
      "I0725 15:06:04.491543 139974355895744 monitored_session.py:240] Graph was finalized.\n",
      "I0725 15:06:04.628027 139974355895744 session_manager.py:500] Running local_init_op.\n",
      "I0725 15:06:04.641123 139974355895744 session_manager.py:502] Done running local_init_op.\n",
      "W0725 15:06:04.696985 139974355895744 deprecation.py:323] From /usr/local/lib/python2.7/dist-packages/tensorflow/python/training/monitored_session.py:875: start_queue_runners (from tensorflow.python.training.queue_runner_impl) is deprecated and will be removed in a future version.\n",
      "Instructions for updating:\n",
      "To construct input pipelines, use the `tf.data` module.\n",
      "I0725 15:06:05.078645 139974355895744 basic_session_run_hooks.py:606] Saving checkpoints for 0 into /home/jupyter/training-data-analyst/courses/machine_learning/deepdive/08_image_keras/labs/mnist_trained/model.ckpt.\n",
      "I0725 15:06:05.630254 139974355895744 basic_session_run_hooks.py:262] loss = 2.3079994, step = 1\n",
      "I0725 15:06:17.227396 139974355895744 basic_session_run_hooks.py:606] Saving checkpoints for 100 into /home/jupyter/training-data-analyst/courses/machine_learning/deepdive/08_image_keras/labs/mnist_trained/model.ckpt.\n",
      "I0725 15:06:17.521012 139974355895744 estimator.py:1145] Calling model_fn.\n",
      "I0725 15:06:17.714590 139974355895744 estimator.py:1147] Done calling model_fn.\n",
      "I0725 15:06:17.734307 139974355895744 evaluation.py:255] Starting evaluation at 2019-07-25T15:06:17Z\n",
      "I0725 15:06:17.817945 139974355895744 monitored_session.py:240] Graph was finalized.\n",
      "W0725 15:06:17.818578 139974355895744 deprecation.py:323] From /usr/local/lib/python2.7/dist-packages/tensorflow/python/training/saver.py:1276: checkpoint_exists (from tensorflow.python.training.checkpoint_management) is deprecated and will be removed in a future version.\n",
      "Instructions for updating:\n",
      "Use standard file APIs to check for files with this prefix.\n",
      "I0725 15:06:17.819962 139974355895744 saver.py:1280] Restoring parameters from /home/jupyter/training-data-analyst/courses/machine_learning/deepdive/08_image_keras/labs/mnist_trained/model.ckpt-100\n",
      "I0725 15:06:17.873769 139974355895744 session_manager.py:500] Running local_init_op.\n",
      "I0725 15:06:17.888839 139974355895744 session_manager.py:502] Done running local_init_op.\n",
      "I0725 15:06:21.903673 139974355895744 evaluation.py:275] Finished evaluation at 2019-07-25-15:06:21\n",
      "I0725 15:06:21.904264 139974355895744 estimator.py:2039] Saving dict for global step 100: acc = 0.9288, global_step = 100, loss = 0.25257242\n",
      "I0725 15:06:21.979630 139974355895744 estimator.py:2099] Saving 'checkpoint_path' summary for global step 100: /home/jupyter/training-data-analyst/courses/machine_learning/deepdive/08_image_keras/labs/mnist_trained/model.ckpt-100\n",
      "W0725 15:06:21.987559 139974355895744 deprecation_wrapper.py:119] From trainer/model.py:86: The name tf.placeholder is deprecated. Please use tf.compat.v1.placeholder instead.\n",
      "\n",
      "I0725 15:06:22.003073 139974355895744 estimator.py:1145] Calling model_fn.\n",
      "I0725 15:06:22.123198 139974355895744 estimator.py:1147] Done calling model_fn.\n",
      "W0725 15:06:22.123516 139974355895744 deprecation.py:323] From /usr/local/lib/python2.7/dist-packages/tensorflow/python/saved_model/signature_def_utils_impl.py:201: build_tensor_info (from tensorflow.python.saved_model.utils_impl) is deprecated and will be removed in a future version.\n",
      "Instructions for updating:\n",
      "This function will only be available through the v1 compatibility library as tf.compat.v1.saved_model.utils.build_tensor_info or tf.compat.v1.saved_model.build_tensor_info.\n",
      "I0725 15:06:22.123784 139974355895744 export_utils.py:170] Signatures INCLUDED in export for Eval: None\n",
      "I0725 15:06:22.123862 139974355895744 export_utils.py:170] Signatures INCLUDED in export for Classify: None\n",
      "I0725 15:06:22.123914 139974355895744 export_utils.py:170] Signatures INCLUDED in export for Regress: None\n",
      "I0725 15:06:22.123970 139974355895744 export_utils.py:170] Signatures INCLUDED in export for Predict: ['serving_default']\n",
      "I0725 15:06:22.124017 139974355895744 export_utils.py:170] Signatures INCLUDED in export for Train: None\n",
      "I0725 15:06:22.347515 139974355895744 saver.py:1280] Restoring parameters from /home/jupyter/training-data-analyst/courses/machine_learning/deepdive/08_image_keras/labs/mnist_trained/model.ckpt-100\n",
      "I0725 15:06:22.370830 139974355895744 builder_impl.py:661] Assets added to graph.\n",
      "I0725 15:06:22.371052 139974355895744 builder_impl.py:456] No assets to write.\n",
      "I0725 15:06:22.420386 139974355895744 builder_impl.py:421] SavedModel written to: /home/jupyter/training-data-analyst/courses/machine_learning/deepdive/08_image_keras/labs/mnist_trained/export/exporter/temp-1564067181/saved_model.pb\n",
      "I0725 15:06:22.506899 139974355895744 estimator.py:368] Loss for final step: 0.38503242.\n"
     ]
    }
   ],
   "source": [
    "%%bash\n",
    "rm -rf mnistmodel.tar.gz mnist_trained\n",
    "gcloud ai-platform local train \\\n",
    "    --module-name=trainer.task \\\n",
    "    --package-path=${PWD}/mnistmodel/trainer \\\n",
    "    -- \\\n",
    "    --output_dir=${PWD}/mnist_trained \\\n",
    "    --train_steps=100 \\\n",
    "    --learning_rate=0.01 \\\n",
    "    --model=$MODEL_TYPE"
   ]
  },
  {
   "cell_type": "code",
   "execution_count": null,
   "metadata": {},
   "outputs": [],
   "source": []
  },
  {
   "cell_type": "markdown",
   "metadata": {
    "deletable": true,
    "editable": true
   },
   "source": [
    "**Now, let's do it on Cloud ML Engine so we can train on GPU:** `--scale-tier=BASIC_GPU`\n",
    "\n",
    "Note the GPU speed up depends on the model type. You'll notice the more complex CNN model trains significantly faster on GPU, however the speed up on the simpler models is not as pronounced."
   ]
  },
  {
   "cell_type": "code",
   "execution_count": 33,
   "metadata": {},
   "outputs": [],
   "source": [
    "tf.summary.FileWriterCache.clear() # ensure filewriter cache is clear for TensorBoard events file"
   ]
  },
  {
   "cell_type": "code",
   "execution_count": 34,
   "metadata": {
    "collapsed": false,
    "deletable": true,
    "editable": true
   },
   "outputs": [
    {
     "name": "stdout",
     "output_type": "stream",
     "text": [
      "gs://qwiklabs-gcp-636667ae83e902b6_al/mnist/trained_cnn us-east1 mnist_cnn_190725_152407\n",
      "jobId: mnist_cnn_190725_152407\n",
      "state: QUEUED\n"
     ]
    },
    {
     "name": "stderr",
     "output_type": "stream",
     "text": [
      "Removing gs://qwiklabs-gcp-636667ae83e902b6_al/mnist/trained_cnn/checkpoint#1564066643012451...\n",
      "Removing gs://qwiklabs-gcp-636667ae83e902b6_al/mnist/trained_cnn/eval/#1564066564606604...\n",
      "Removing gs://qwiklabs-gcp-636667ae83e902b6_al/mnist/trained_cnn/#1564066641836037...\n",
      "Removing gs://qwiklabs-gcp-636667ae83e902b6_al/mnist/trained_cnn/eval/events.out.tfevents.1564066564.cmle-training-16404510780514480312#1564066645893363...\n",
      "Removing gs://qwiklabs-gcp-636667ae83e902b6_al/mnist/trained_cnn/events.out.tfevents.1564066491.cmle-training-16404510780514480312#1564066650642132...\n",
      "Removing gs://qwiklabs-gcp-636667ae83e902b6_al/mnist/trained_cnn/export/#1564066566112540...\n",
      "Removing gs://qwiklabs-gcp-636667ae83e902b6_al/mnist/trained_cnn/export/exporter/1564066565/variables/variables.data-00000-of-00001#1564066569956951...\n",
      "Removing gs://qwiklabs-gcp-636667ae83e902b6_al/mnist/trained_cnn/export/exporter/1564066645/saved_model.pb#1564066649888256...\n",
      "Removing gs://qwiklabs-gcp-636667ae83e902b6_al/mnist/trained_cnn/export/exporter/#1564066566273527...\n",
      "Removing gs://qwiklabs-gcp-636667ae83e902b6_al/mnist/trained_cnn/export/exporter/1564066565/#1564066569541448...\n",
      "Removing gs://qwiklabs-gcp-636667ae83e902b6_al/mnist/trained_cnn/export/exporter/1564066565/saved_model.pb#1564066569668042...\n",
      "Removing gs://qwiklabs-gcp-636667ae83e902b6_al/mnist/trained_cnn/export/exporter/1564066565/variables/variables.index#1564066570101002...\n",
      "Removing gs://qwiklabs-gcp-636667ae83e902b6_al/mnist/trained_cnn/export/exporter/1564066645/variables/variables.data-00000-of-00001#1564066650168965...\n",
      "Removing gs://qwiklabs-gcp-636667ae83e902b6_al/mnist/trained_cnn/export/exporter/1564066645/#1564066649751615...\n",
      "Removing gs://qwiklabs-gcp-636667ae83e902b6_al/mnist/trained_cnn/export/exporter/1564066645/variables/#1564066650029359...\n",
      "Removing gs://qwiklabs-gcp-636667ae83e902b6_al/mnist/trained_cnn/graph.pbtxt#1564066495001769...\n",
      "Removing gs://qwiklabs-gcp-636667ae83e902b6_al/mnist/trained_cnn/export/exporter/1564066565/variables/#1564066569814493...\n",
      "Removing gs://qwiklabs-gcp-636667ae83e902b6_al/mnist/trained_cnn/keras/#1564066487253472...\n",
      "Removing gs://qwiklabs-gcp-636667ae83e902b6_al/mnist/trained_cnn/keras/checkpoint#1564066488524407...\n",
      "Removing gs://qwiklabs-gcp-636667ae83e902b6_al/mnist/trained_cnn/export/exporter/1564066645/variables/variables.index#1564066650321125...\n",
      "Removing gs://qwiklabs-gcp-636667ae83e902b6_al/mnist/trained_cnn/keras/keras_model.ckpt.data-00000-of-00001#1564066487696869...\n",
      "Removing gs://qwiklabs-gcp-636667ae83e902b6_al/mnist/trained_cnn/keras/keras_model.ckpt.index#1564066488076355...\n",
      "Removing gs://qwiklabs-gcp-636667ae83e902b6_al/mnist/trained_cnn/keras/keras_model.ckpt.meta#1564066489249352...\n",
      "Removing gs://qwiklabs-gcp-636667ae83e902b6_al/mnist/trained_cnn/model.ckpt-0.data-00000-of-00001#1564066497129097...\n",
      "Removing gs://qwiklabs-gcp-636667ae83e902b6_al/mnist/trained_cnn/model.ckpt-0.index#1564066497333707...\n",
      "Removing gs://qwiklabs-gcp-636667ae83e902b6_al/mnist/trained_cnn/model.ckpt-0.meta#1564066498580265...\n",
      "Removing gs://qwiklabs-gcp-636667ae83e902b6_al/mnist/trained_cnn/model.ckpt-10000.data-00000-of-00001#1564066642175645...\n",
      "Removing gs://qwiklabs-gcp-636667ae83e902b6_al/mnist/trained_cnn/model.ckpt-10000.index#1564066642406245...\n",
      "Removing gs://qwiklabs-gcp-636667ae83e902b6_al/mnist/trained_cnn/model.ckpt-10000.meta#1564066643582162...\n",
      "Removing gs://qwiklabs-gcp-636667ae83e902b6_al/mnist/trained_cnn/model.ckpt-4069.data-00000-of-00001#1564066560327385...\n",
      "Removing gs://qwiklabs-gcp-636667ae83e902b6_al/mnist/trained_cnn/model.ckpt-4069.index#1564066560540466...\n",
      "Removing gs://qwiklabs-gcp-636667ae83e902b6_al/mnist/trained_cnn/model.ckpt-4069.meta#1564066561747644...\n",
      "Removing gs://qwiklabs-gcp-636667ae83e902b6_al/mnist/trained_cnn/model.ckpt-8319.data-00000-of-00001#1564066620253337...\n",
      "Removing gs://qwiklabs-gcp-636667ae83e902b6_al/mnist/trained_cnn/model.ckpt-8319.index#1564066620451043...\n",
      "Removing gs://qwiklabs-gcp-636667ae83e902b6_al/mnist/trained_cnn/model.ckpt-8319.meta#1564066621573284...\n",
      "/ [35/35 objects] 100% Done                                                     \n",
      "Operation completed over 35 objects.                                             \n",
      "Job [mnist_cnn_190725_152407] submitted successfully.\n",
      "Your job is still active. You may view the status of your job with the command\n",
      "\n",
      "  $ gcloud ai-platform jobs describe mnist_cnn_190725_152407\n",
      "\n",
      "or continue streaming the logs with the command\n",
      "\n",
      "  $ gcloud ai-platform jobs stream-logs mnist_cnn_190725_152407\n"
     ]
    }
   ],
   "source": [
    "%%bash\n",
    "OUTDIR=gs://${BUCKET}/mnist/trained_${MODEL_TYPE}\n",
    "JOBNAME=mnist_${MODEL_TYPE}_$(date -u +%y%m%d_%H%M%S)\n",
    "echo $OUTDIR $REGION $JOBNAME\n",
    "gsutil -m rm -rf $OUTDIR\n",
    "gcloud ai-platform jobs submit training $JOBNAME \\\n",
    "    --region=$REGION \\\n",
    "    --module-name=trainer.task \\\n",
    "    --package-path=${PWD}/mnistmodel/trainer \\\n",
    "    --job-dir=$OUTDIR \\\n",
    "    --staging-bucket=gs://$BUCKET \\\n",
    "    --scale-tier=BASIC_GPU \\\n",
    "    --runtime-version=$TFVERSION \\\n",
    "    -- \\\n",
    "    --output_dir=$OUTDIR \\\n",
    "    --train_steps=10000 --learning_rate=0.01 --train_batch_size=512 \\\n",
    "    --model=$MODEL_TYPE --batch_norm"
   ]
  },
  {
   "cell_type": "markdown",
   "metadata": {
    "deletable": true,
    "editable": true
   },
   "source": [
    "## Monitoring training with TensorBoard\n",
    "\n",
    "Use this cell to launch tensorboard"
   ]
  },
  {
   "cell_type": "code",
   "execution_count": 35,
   "metadata": {
    "collapsed": false,
    "deletable": true,
    "editable": true
   },
   "outputs": [],
   "source": [
    "OUTDIR=\"gs://{}/mnist/trained_{}\".format(BUCKET, MODEL_TYPE)"
   ]
  },
  {
   "cell_type": "code",
   "execution_count": 36,
   "metadata": {
    "collapsed": false,
    "deletable": true,
    "editable": true
   },
   "outputs": [],
   "source": [
    "get_ipython().system_raw(\n",
    "    \"tensorboard --logdir gs://qwiklabs-gcp-636667ae83e902b6_al/mnist/trained_cnn --host 0.0.0.0 --port 6006 &\"\n",
    ")\n",
    "\n",
    "get_ipython().system_raw(\"/home/jupyter/training-data-analyst/courses/machine_learning/asl/02_tensorflow/assets/ngrok http 6006 &\")"
   ]
  },
  {
   "cell_type": "code",
   "execution_count": 37,
   "metadata": {
    "collapsed": false,
    "deletable": true,
    "editable": true
   },
   "outputs": [
    {
     "name": "stdout",
     "output_type": "stream",
     "text": [
      "https://ec6f12e8.ngrok.io\n"
     ]
    }
   ],
   "source": [
    "!curl -s http://localhost:4040/api/tunnels | python3 -c \"import sys, json; print(json.load(sys.stdin)['tunnels'][0]['public_url'])\""
   ]
  },
  {
   "cell_type": "markdown",
   "metadata": {
    "deletable": true,
    "editable": true
   },
   "source": [
    "Here are my results:\n",
    "\n",
    "Model | Accuracy | Time taken | Model description | Run time parameters\n",
    "--- | :---: | ---\n",
    "linear | 91.53 | 3 min | linear | 100 steps, LR=0.01, Batch=512\n",
    "linear | 92.73 | 8 min | linear | 1000 steps, LR=0.01, Batch=512\n",
    "linear | 92.29 | 18 min | linear | 10000 steps, LR=0.01, Batch=512\n",
    "dnn | 98.14 | 15 min | 300-100-30 nodes fully connected | 10000 steps, LR=0.01, Batch=512\n",
    "dnn | 97.99 | 48 min | 300-100-30 nodes fully connected | 100000 steps, LR=0.01, Batch=512\n",
    "dnn_dropout | 97.84 | 29 min | 300-100-30-DL(0.1)- nodes | 20000 steps, LR=0.01, Batch=512\n",
    "cnn | 98.97 | 35 min | maxpool(10 5x5 cnn, 2)-maxpool(20 5x5 cnn, 2)-300-DL(0.25) | 20000 steps, LR=0.01, Batch=512\n",
    "cnn | 98.93 | 35 min | maxpool(10 11x11 cnn, 2)-maxpool(20 3x3 cnn, 2)-300-DL(0.25) | 20000 steps, LR=0.01, Batch=512\n",
    "cnn | 99.17 | 35 min | maxpool(10 11x11 cnn, 2)-maxpool(20 3x3 cnn, 2)-300-DL(0.25), batch_norm (logits only) | 20000 steps, LR=0.01, Batch=512\n",
    "cnn | 99.27 | 35 min | maxpool(10 11x11 cnn, 2)-maxpool(20 3x3 cnn, 2)-300-DL(0.25), batch_norm (logits, deep) | 10000 steps, LR=0.01, Batch=512\n",
    "cnn | 99.48 | 12 hr | as-above but nfil1=20, nfil2=27, dprob=0.1, lr=0.001, batchsize=233 | (hyperparameter optimization)\n",
    "\n",
    "Create a table to keep track of your own results as you experiment with model type and hyperparameters!"
   ]
  },
  {
   "cell_type": "markdown",
   "metadata": {
    "deletable": true,
    "editable": true
   },
   "source": [
    "## Deploying and predicting with model\n",
    "\n",
    "Deploy the model:"
   ]
  },
  {
   "cell_type": "code",
   "execution_count": 38,
   "metadata": {
    "collapsed": false,
    "deletable": true,
    "editable": true
   },
   "outputs": [
    {
     "name": "stdout",
     "output_type": "stream",
     "text": [
      "Deleting and deploying mnist cnn from gs://qwiklabs-gcp-636667ae83e902b6_al/mnist/trained_cnn/export/exporter/1564068637/ ... this will take a few minutes\n"
     ]
    },
    {
     "name": "stderr",
     "output_type": "stream",
     "text": [
      "WARNING: The `gcloud ml-engine` commands have been renamed and will soon be removed. Please use `gcloud ai-platform` instead.\n",
      "Created ml engine model [projects/qwiklabs-gcp-636667ae83e902b6/models/mnist].\n",
      "WARNING: The `gcloud ml-engine` commands have been renamed and will soon be removed. Please use `gcloud ai-platform` instead.\n",
      "Creating version (this might take a few minutes)......\n",
      ".......................................................................................................................................................................................................................................................................................................................................................................................done.\n"
     ]
    }
   ],
   "source": [
    "%%bash\n",
    "MODEL_NAME=\"mnist\"\n",
    "MODEL_VERSION=${MODEL_TYPE}\n",
    "MODEL_LOCATION=$(gsutil ls gs://${BUCKET}/mnist/trained_${MODEL_TYPE}/export/exporter | tail -1)\n",
    "echo \"Deleting and deploying $MODEL_NAME $MODEL_VERSION from $MODEL_LOCATION ... this will take a few minutes\"\n",
    "#gcloud ml-engine versions delete ${MODEL_VERSION} --model ${MODEL_NAME}\n",
    "#gcloud ml-engine models delete ${MODEL_NAME}\n",
    "gcloud ml-engine models create ${MODEL_NAME} --regions $REGION\n",
    "gcloud ml-engine versions create ${MODEL_VERSION} --model ${MODEL_NAME} --origin ${MODEL_LOCATION} --runtime-version=$TFVERSION"
   ]
  },
  {
   "cell_type": "markdown",
   "metadata": {
    "deletable": true,
    "editable": true
   },
   "source": [
    "To predict with the model, let's take one of the example images."
   ]
  },
  {
   "cell_type": "code",
   "execution_count": 47,
   "metadata": {
    "collapsed": false,
    "deletable": true,
    "editable": true
   },
   "outputs": [
    {
     "data": {
      "image/png": "[encoded data removed]",
      "text/plain": [
       "<Figure size 432x288 with 1 Axes>"
      ]
     },
     "metadata": {
      "needs_background": "light"
     },
     "output_type": "display_data"
    }
   ],
   "source": [
    "import json, codecs\n",
    "import matplotlib.pyplot as plt\n",
    "import tensorflow as tf\n",
    "\n",
    "HEIGHT = 28\n",
    "WIDTH = 28\n",
    "\n",
    "# Get mnist data\n",
    "mnist = tf.keras.datasets.mnist\n",
    "\n",
    "(_, _), (x_test, _) = mnist.load_data()\n",
    "\n",
    "# Scale our features between 0 and 1\n",
    "x_test = x_test / 255.0 \n",
    "\n",
    "IMGNO = 40 # CHANGE THIS to get different images\n",
    "jsondata = {\"image\": x_test[IMGNO].reshape(HEIGHT, WIDTH).tolist()}\n",
    "json.dump(jsondata, codecs.open(\"test.json\", 'w', encoding = \"utf-8\"))\n",
    "plt.imshow(x_test[IMGNO].reshape(HEIGHT, WIDTH));"
   ]
  },
  {
   "cell_type": "markdown",
   "metadata": {
    "deletable": true,
    "editable": true
   },
   "source": [
    "Send it to the prediction service"
   ]
  },
  {
   "cell_type": "code",
   "execution_count": 48,
   "metadata": {
    "collapsed": false,
    "deletable": true,
    "editable": true
   },
   "outputs": [
    {
     "name": "stdout",
     "output_type": "stream",
     "text": [
      "PROBABILITIES\n",
      "[1.1342117289814269e-07, 0.999981164932251, 8.340186319344411e-09, 7.945415880783457e-09, 6.566759136461542e-09, 3.7124738128113677e-07, 1.2292305839878281e-08, 3.865041975359418e-08, 1.817613338062074e-05, 1.3766094753009384e-07]\n"
     ]
    }
   ],
   "source": [
    "%%bash\n",
    "gcloud ai-platform predict \\\n",
    "   --model=mnist \\\n",
    "   --version=${MODEL_TYPE} \\\n",
    "   --json-instances=./test.json"
   ]
  },
  {
   "cell_type": "markdown",
   "metadata": {
    "deletable": true,
    "editable": true
   },
   "source": [
    "<pre>\n",
    "# Copyright 2017 Google Inc. All Rights Reserved.\n",
    "#\n",
    "# Licensed under the Apache License, Version 2.0 (the \"License\");\n",
    "# you may not use this file except in compliance with the License.\n",
    "# You may obtain a copy of the License at\n",
    "#\n",
    "#      http://www.apache.org/licenses/LICENSE-2.0\n",
    "#\n",
    "# Unless required by applicable law or agreed to in writing, software\n",
    "# distributed under the License is distributed on an \"AS IS\" BASIS,\n",
    "# WITHOUT WARRANTIES OR CONDITIONS OF ANY KIND, either express or implied.\n",
    "# See the License for the specific language governing permissions and\n",
    "# limitations under the License.\n",
    "</pre>"
   ]
  }
 ],
 "metadata": {
  "kernelspec": {
   "display_name": "Python 3",
   "language": "python",
   "name": "python3"
  },
  "language_info": {
   "codemirror_mode": {
    "name": "ipython",
    "version": 3
   },
   "file_extension": ".py",
   "mimetype": "text/x-python",
   "name": "python",
   "nbconvert_exporter": "python",
   "pygments_lexer": "ipython3",
   "version": "3.5.3"
  }
 },
 "nbformat": 4,
 "nbformat_minor": 2
}
