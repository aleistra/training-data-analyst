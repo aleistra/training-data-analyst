{
 "cells": [
  {
   "cell_type": "markdown",
   "metadata": {
    "colab_type": "text",
    "id": "t90y1ms_7_ML"
   },
   "source": [
    "# Gradient Boosting From Scratch"
   ]
  },
  {
   "cell_type": "markdown",
   "metadata": {
    "colab_type": "text",
    "id": "m7TY2Grc8B9J"
   },
   "source": [
    "Let's implement gradient boosting from scratch."
   ]
  },
  {
   "cell_type": "code",
   "execution_count": 1,
   "metadata": {
    "colab": {},
    "colab_type": "code",
    "id": "XiSFTj9lssWl"
   },
   "outputs": [],
   "source": [
    "from __future__ import print_function\n",
    "\n",
    "import numpy as np\n",
    "import pandas as pd\n",
    "import seaborn as sns\n",
    "\n",
    "from matplotlib import pyplot as plt\n",
    "from sklearn.tree import DecisionTreeRegressor\n",
    "from tensorflow.keras.datasets import boston_housing\n",
    "\n",
    "np.random.seed(0)\n",
    "\n",
    "plt.rcParams['figure.figsize'] = (8.0, 5.0)\n",
    "plt.rcParams['axes.labelsize'] = 20\n",
    "plt.rcParams['ytick.labelsize'] = 14\n",
    "plt.rcParams['xtick.labelsize'] = 14"
   ]
  },
  {
   "cell_type": "code",
   "execution_count": 2,
   "metadata": {
    "colab": {
     "base_uri": "https://localhost:8080/",
     "height": 228
    },
    "colab_type": "code",
    "id": "xbsRYs7SDZHr",
    "outputId": "feea96a6-f213-4ad3-aba5-c71b3b2364f4"
   },
   "outputs": [],
   "source": [
    "(x_train, y_train), (x_test, y_test) = boston_housing.load_data()"
   ]
  },
  {
   "cell_type": "code",
   "execution_count": 3,
   "metadata": {},
   "outputs": [
    {
     "data": {
      "text/plain": [
       "(404, 13)"
      ]
     },
     "execution_count": 3,
     "metadata": {},
     "output_type": "execute_result"
    }
   ],
   "source": [
    "x_train.shape"
   ]
  },
  {
   "cell_type": "markdown",
   "metadata": {},
   "source": [
    "## Exploration"
   ]
  },
  {
   "cell_type": "markdown",
   "metadata": {
    "colab_type": "text",
    "id": "PNb6fTlVPPkG"
   },
   "source": [
    "Let explore the data before building a model. The goal is to predict the median value of owner-occupied homes in $1000s.\n"
   ]
  },
  {
   "cell_type": "code",
   "execution_count": 4,
   "metadata": {
    "colab": {},
    "colab_type": "code",
    "id": "y-D1SsHhPYUq"
   },
   "outputs": [],
   "source": [
    "# Create training/test dataframes for visualization/data exploration.\n",
    "# Description of features: https://www.cs.toronto.edu/~delve/data/boston/bostonDetail.html\n",
    "feature_names = ['CRIM', 'ZN', 'INDUS', 'CHAS', 'NOX', 'RM', 'AGE', 'DIS', 'RAD','TAX', 'PTRATIO', 'B', 'LSTAT']\n",
    "df_train = pd.DataFrame(x_train, columns=feature_names)\n",
    "df_test = pd.DataFrame(x_test, columns=feature_names)"
   ]
  },
  {
   "cell_type": "code",
   "execution_count": 5,
   "metadata": {},
   "outputs": [
    {
     "data": {
      "text/html": [
       "<div>\n",
       "<style scoped>\n",
       "    .dataframe tbody tr th:only-of-type {\n",
       "        vertical-align: middle;\n",
       "    }\n",
       "\n",
       "    .dataframe tbody tr th {\n",
       "        vertical-align: top;\n",
       "    }\n",
       "\n",
       "    .dataframe thead th {\n",
       "        text-align: right;\n",
       "    }\n",
       "</style>\n",
       "<table border=\"1\" class=\"dataframe\">\n",
       "  <thead>\n",
       "    <tr style=\"text-align: right;\">\n",
       "      <th></th>\n",
       "      <th>CRIM</th>\n",
       "      <th>ZN</th>\n",
       "      <th>INDUS</th>\n",
       "      <th>CHAS</th>\n",
       "      <th>NOX</th>\n",
       "      <th>RM</th>\n",
       "      <th>AGE</th>\n",
       "      <th>DIS</th>\n",
       "      <th>RAD</th>\n",
       "      <th>TAX</th>\n",
       "      <th>PTRATIO</th>\n",
       "      <th>B</th>\n",
       "      <th>LSTAT</th>\n",
       "    </tr>\n",
       "  </thead>\n",
       "  <tbody>\n",
       "    <tr>\n",
       "      <th>0</th>\n",
       "      <td>1.23247</td>\n",
       "      <td>0.0</td>\n",
       "      <td>8.14</td>\n",
       "      <td>0.0</td>\n",
       "      <td>0.538</td>\n",
       "      <td>6.142</td>\n",
       "      <td>91.7</td>\n",
       "      <td>3.9769</td>\n",
       "      <td>4.0</td>\n",
       "      <td>307.0</td>\n",
       "      <td>21.0</td>\n",
       "      <td>396.90</td>\n",
       "      <td>18.72</td>\n",
       "    </tr>\n",
       "    <tr>\n",
       "      <th>1</th>\n",
       "      <td>0.02177</td>\n",
       "      <td>82.5</td>\n",
       "      <td>2.03</td>\n",
       "      <td>0.0</td>\n",
       "      <td>0.415</td>\n",
       "      <td>7.610</td>\n",
       "      <td>15.7</td>\n",
       "      <td>6.2700</td>\n",
       "      <td>2.0</td>\n",
       "      <td>348.0</td>\n",
       "      <td>14.7</td>\n",
       "      <td>395.38</td>\n",
       "      <td>3.11</td>\n",
       "    </tr>\n",
       "    <tr>\n",
       "      <th>2</th>\n",
       "      <td>4.89822</td>\n",
       "      <td>0.0</td>\n",
       "      <td>18.10</td>\n",
       "      <td>0.0</td>\n",
       "      <td>0.631</td>\n",
       "      <td>4.970</td>\n",
       "      <td>100.0</td>\n",
       "      <td>1.3325</td>\n",
       "      <td>24.0</td>\n",
       "      <td>666.0</td>\n",
       "      <td>20.2</td>\n",
       "      <td>375.52</td>\n",
       "      <td>3.26</td>\n",
       "    </tr>\n",
       "    <tr>\n",
       "      <th>3</th>\n",
       "      <td>0.03961</td>\n",
       "      <td>0.0</td>\n",
       "      <td>5.19</td>\n",
       "      <td>0.0</td>\n",
       "      <td>0.515</td>\n",
       "      <td>6.037</td>\n",
       "      <td>34.5</td>\n",
       "      <td>5.9853</td>\n",
       "      <td>5.0</td>\n",
       "      <td>224.0</td>\n",
       "      <td>20.2</td>\n",
       "      <td>396.90</td>\n",
       "      <td>8.01</td>\n",
       "    </tr>\n",
       "    <tr>\n",
       "      <th>4</th>\n",
       "      <td>3.69311</td>\n",
       "      <td>0.0</td>\n",
       "      <td>18.10</td>\n",
       "      <td>0.0</td>\n",
       "      <td>0.713</td>\n",
       "      <td>6.376</td>\n",
       "      <td>88.4</td>\n",
       "      <td>2.5671</td>\n",
       "      <td>24.0</td>\n",
       "      <td>666.0</td>\n",
       "      <td>20.2</td>\n",
       "      <td>391.43</td>\n",
       "      <td>14.65</td>\n",
       "    </tr>\n",
       "  </tbody>\n",
       "</table>\n",
       "</div>"
      ],
      "text/plain": [
       "      CRIM    ZN  INDUS  CHAS    NOX     RM    AGE     DIS   RAD    TAX  \\\n",
       "0  1.23247   0.0   8.14   0.0  0.538  6.142   91.7  3.9769   4.0  307.0   \n",
       "1  0.02177  82.5   2.03   0.0  0.415  7.610   15.7  6.2700   2.0  348.0   \n",
       "2  4.89822   0.0  18.10   0.0  0.631  4.970  100.0  1.3325  24.0  666.0   \n",
       "3  0.03961   0.0   5.19   0.0  0.515  6.037   34.5  5.9853   5.0  224.0   \n",
       "4  3.69311   0.0  18.10   0.0  0.713  6.376   88.4  2.5671  24.0  666.0   \n",
       "\n",
       "   PTRATIO       B  LSTAT  \n",
       "0     21.0  396.90  18.72  \n",
       "1     14.7  395.38   3.11  \n",
       "2     20.2  375.52   3.26  \n",
       "3     20.2  396.90   8.01  \n",
       "4     20.2  391.43  14.65  "
      ]
     },
     "execution_count": 5,
     "metadata": {},
     "output_type": "execute_result"
    }
   ],
   "source": [
    "df_train.head()"
   ]
  },
  {
   "cell_type": "code",
   "execution_count": 6,
   "metadata": {},
   "outputs": [
    {
     "data": {
      "text/html": [
       "<div>\n",
       "<style scoped>\n",
       "    .dataframe tbody tr th:only-of-type {\n",
       "        vertical-align: middle;\n",
       "    }\n",
       "\n",
       "    .dataframe tbody tr th {\n",
       "        vertical-align: top;\n",
       "    }\n",
       "\n",
       "    .dataframe thead th {\n",
       "        text-align: right;\n",
       "    }\n",
       "</style>\n",
       "<table border=\"1\" class=\"dataframe\">\n",
       "  <thead>\n",
       "    <tr style=\"text-align: right;\">\n",
       "      <th></th>\n",
       "      <th>CRIM</th>\n",
       "      <th>ZN</th>\n",
       "      <th>INDUS</th>\n",
       "      <th>CHAS</th>\n",
       "      <th>NOX</th>\n",
       "      <th>RM</th>\n",
       "      <th>AGE</th>\n",
       "      <th>DIS</th>\n",
       "      <th>RAD</th>\n",
       "      <th>TAX</th>\n",
       "      <th>PTRATIO</th>\n",
       "      <th>B</th>\n",
       "      <th>LSTAT</th>\n",
       "    </tr>\n",
       "  </thead>\n",
       "  <tbody>\n",
       "    <tr>\n",
       "      <th>count</th>\n",
       "      <td>404.000000</td>\n",
       "      <td>404.000000</td>\n",
       "      <td>404.000000</td>\n",
       "      <td>404.000000</td>\n",
       "      <td>404.000000</td>\n",
       "      <td>404.000000</td>\n",
       "      <td>404.000000</td>\n",
       "      <td>404.000000</td>\n",
       "      <td>404.000000</td>\n",
       "      <td>404.000000</td>\n",
       "      <td>404.000000</td>\n",
       "      <td>404.000000</td>\n",
       "      <td>404.000000</td>\n",
       "    </tr>\n",
       "    <tr>\n",
       "      <th>mean</th>\n",
       "      <td>3.745111</td>\n",
       "      <td>11.480198</td>\n",
       "      <td>11.104431</td>\n",
       "      <td>0.061881</td>\n",
       "      <td>0.557356</td>\n",
       "      <td>6.267082</td>\n",
       "      <td>69.010644</td>\n",
       "      <td>3.740271</td>\n",
       "      <td>9.440594</td>\n",
       "      <td>405.898515</td>\n",
       "      <td>18.475990</td>\n",
       "      <td>354.783168</td>\n",
       "      <td>12.740817</td>\n",
       "    </tr>\n",
       "    <tr>\n",
       "      <th>std</th>\n",
       "      <td>9.240734</td>\n",
       "      <td>23.767711</td>\n",
       "      <td>6.811308</td>\n",
       "      <td>0.241238</td>\n",
       "      <td>0.117293</td>\n",
       "      <td>0.709788</td>\n",
       "      <td>27.940665</td>\n",
       "      <td>2.030215</td>\n",
       "      <td>8.698360</td>\n",
       "      <td>166.374543</td>\n",
       "      <td>2.200382</td>\n",
       "      <td>94.111148</td>\n",
       "      <td>7.254545</td>\n",
       "    </tr>\n",
       "    <tr>\n",
       "      <th>min</th>\n",
       "      <td>0.006320</td>\n",
       "      <td>0.000000</td>\n",
       "      <td>0.460000</td>\n",
       "      <td>0.000000</td>\n",
       "      <td>0.385000</td>\n",
       "      <td>3.561000</td>\n",
       "      <td>2.900000</td>\n",
       "      <td>1.129600</td>\n",
       "      <td>1.000000</td>\n",
       "      <td>188.000000</td>\n",
       "      <td>12.600000</td>\n",
       "      <td>0.320000</td>\n",
       "      <td>1.730000</td>\n",
       "    </tr>\n",
       "    <tr>\n",
       "      <th>25%</th>\n",
       "      <td>0.081437</td>\n",
       "      <td>0.000000</td>\n",
       "      <td>5.130000</td>\n",
       "      <td>0.000000</td>\n",
       "      <td>0.453000</td>\n",
       "      <td>5.874750</td>\n",
       "      <td>45.475000</td>\n",
       "      <td>2.077100</td>\n",
       "      <td>4.000000</td>\n",
       "      <td>279.000000</td>\n",
       "      <td>17.225000</td>\n",
       "      <td>374.672500</td>\n",
       "      <td>6.890000</td>\n",
       "    </tr>\n",
       "    <tr>\n",
       "      <th>50%</th>\n",
       "      <td>0.268880</td>\n",
       "      <td>0.000000</td>\n",
       "      <td>9.690000</td>\n",
       "      <td>0.000000</td>\n",
       "      <td>0.538000</td>\n",
       "      <td>6.198500</td>\n",
       "      <td>78.500000</td>\n",
       "      <td>3.142300</td>\n",
       "      <td>5.000000</td>\n",
       "      <td>330.000000</td>\n",
       "      <td>19.100000</td>\n",
       "      <td>391.250000</td>\n",
       "      <td>11.395000</td>\n",
       "    </tr>\n",
       "    <tr>\n",
       "      <th>75%</th>\n",
       "      <td>3.674808</td>\n",
       "      <td>12.500000</td>\n",
       "      <td>18.100000</td>\n",
       "      <td>0.000000</td>\n",
       "      <td>0.631000</td>\n",
       "      <td>6.609000</td>\n",
       "      <td>94.100000</td>\n",
       "      <td>5.118000</td>\n",
       "      <td>24.000000</td>\n",
       "      <td>666.000000</td>\n",
       "      <td>20.200000</td>\n",
       "      <td>396.157500</td>\n",
       "      <td>17.092500</td>\n",
       "    </tr>\n",
       "    <tr>\n",
       "      <th>max</th>\n",
       "      <td>88.976200</td>\n",
       "      <td>100.000000</td>\n",
       "      <td>27.740000</td>\n",
       "      <td>1.000000</td>\n",
       "      <td>0.871000</td>\n",
       "      <td>8.725000</td>\n",
       "      <td>100.000000</td>\n",
       "      <td>10.710300</td>\n",
       "      <td>24.000000</td>\n",
       "      <td>711.000000</td>\n",
       "      <td>22.000000</td>\n",
       "      <td>396.900000</td>\n",
       "      <td>37.970000</td>\n",
       "    </tr>\n",
       "  </tbody>\n",
       "</table>\n",
       "</div>"
      ],
      "text/plain": [
       "             CRIM          ZN       INDUS        CHAS         NOX          RM  \\\n",
       "count  404.000000  404.000000  404.000000  404.000000  404.000000  404.000000   \n",
       "mean     3.745111   11.480198   11.104431    0.061881    0.557356    6.267082   \n",
       "std      9.240734   23.767711    6.811308    0.241238    0.117293    0.709788   \n",
       "min      0.006320    0.000000    0.460000    0.000000    0.385000    3.561000   \n",
       "25%      0.081437    0.000000    5.130000    0.000000    0.453000    5.874750   \n",
       "50%      0.268880    0.000000    9.690000    0.000000    0.538000    6.198500   \n",
       "75%      3.674808   12.500000   18.100000    0.000000    0.631000    6.609000   \n",
       "max     88.976200  100.000000   27.740000    1.000000    0.871000    8.725000   \n",
       "\n",
       "              AGE         DIS         RAD         TAX     PTRATIO           B  \\\n",
       "count  404.000000  404.000000  404.000000  404.000000  404.000000  404.000000   \n",
       "mean    69.010644    3.740271    9.440594  405.898515   18.475990  354.783168   \n",
       "std     27.940665    2.030215    8.698360  166.374543    2.200382   94.111148   \n",
       "min      2.900000    1.129600    1.000000  188.000000   12.600000    0.320000   \n",
       "25%     45.475000    2.077100    4.000000  279.000000   17.225000  374.672500   \n",
       "50%     78.500000    3.142300    5.000000  330.000000   19.100000  391.250000   \n",
       "75%     94.100000    5.118000   24.000000  666.000000   20.200000  396.157500   \n",
       "max    100.000000   10.710300   24.000000  711.000000   22.000000  396.900000   \n",
       "\n",
       "            LSTAT  \n",
       "count  404.000000  \n",
       "mean    12.740817  \n",
       "std      7.254545  \n",
       "min      1.730000  \n",
       "25%      6.890000  \n",
       "50%     11.395000  \n",
       "75%     17.092500  \n",
       "max     37.970000  "
      ]
     },
     "execution_count": 6,
     "metadata": {},
     "output_type": "execute_result"
    }
   ],
   "source": [
    "df_train.describe()"
   ]
  },
  {
   "cell_type": "markdown",
   "metadata": {},
   "source": [
    "Exercise #1: What are the most predictive features? Determine correlation for each feature with the label. You may find the [corr](https://pandas.pydata.org/pandas-docs/stable/reference/api/pandas.DataFrame.corr.html) function useful."
   ]
  },
  {
   "cell_type": "code",
   "execution_count": 7,
   "metadata": {},
   "outputs": [
    {
     "data": {
      "text/html": [
       "<div>\n",
       "<style scoped>\n",
       "    .dataframe tbody tr th:only-of-type {\n",
       "        vertical-align: middle;\n",
       "    }\n",
       "\n",
       "    .dataframe tbody tr th {\n",
       "        vertical-align: top;\n",
       "    }\n",
       "\n",
       "    .dataframe thead th {\n",
       "        text-align: right;\n",
       "    }\n",
       "</style>\n",
       "<table border=\"1\" class=\"dataframe\">\n",
       "  <thead>\n",
       "    <tr style=\"text-align: right;\">\n",
       "      <th></th>\n",
       "      <th>CRIM</th>\n",
       "      <th>ZN</th>\n",
       "      <th>INDUS</th>\n",
       "      <th>CHAS</th>\n",
       "      <th>NOX</th>\n",
       "      <th>RM</th>\n",
       "      <th>AGE</th>\n",
       "      <th>DIS</th>\n",
       "      <th>RAD</th>\n",
       "      <th>TAX</th>\n",
       "      <th>PTRATIO</th>\n",
       "      <th>B</th>\n",
       "      <th>LSTAT</th>\n",
       "    </tr>\n",
       "  </thead>\n",
       "  <tbody>\n",
       "    <tr>\n",
       "      <th>CRIM</th>\n",
       "      <td>1.000000</td>\n",
       "      <td>-0.192179</td>\n",
       "      <td>0.397419</td>\n",
       "      <td>-0.050828</td>\n",
       "      <td>0.405765</td>\n",
       "      <td>-0.217597</td>\n",
       "      <td>0.344410</td>\n",
       "      <td>-0.378590</td>\n",
       "      <td>0.609689</td>\n",
       "      <td>0.575652</td>\n",
       "      <td>0.273447</td>\n",
       "      <td>-0.390613</td>\n",
       "      <td>0.434384</td>\n",
       "    </tr>\n",
       "    <tr>\n",
       "      <th>ZN</th>\n",
       "      <td>-0.192179</td>\n",
       "      <td>1.000000</td>\n",
       "      <td>-0.533823</td>\n",
       "      <td>-0.041981</td>\n",
       "      <td>-0.521713</td>\n",
       "      <td>0.338683</td>\n",
       "      <td>-0.578728</td>\n",
       "      <td>0.650787</td>\n",
       "      <td>-0.311091</td>\n",
       "      <td>-0.303522</td>\n",
       "      <td>-0.403139</td>\n",
       "      <td>0.176006</td>\n",
       "      <td>-0.415237</td>\n",
       "    </tr>\n",
       "    <tr>\n",
       "      <th>INDUS</th>\n",
       "      <td>0.397419</td>\n",
       "      <td>-0.533823</td>\n",
       "      <td>1.000000</td>\n",
       "      <td>0.052839</td>\n",
       "      <td>0.774200</td>\n",
       "      <td>-0.409924</td>\n",
       "      <td>0.656350</td>\n",
       "      <td>-0.725155</td>\n",
       "      <td>0.599226</td>\n",
       "      <td>0.701362</td>\n",
       "      <td>0.379284</td>\n",
       "      <td>-0.372885</td>\n",
       "      <td>0.603129</td>\n",
       "    </tr>\n",
       "    <tr>\n",
       "      <th>CHAS</th>\n",
       "      <td>-0.050828</td>\n",
       "      <td>-0.041981</td>\n",
       "      <td>0.052839</td>\n",
       "      <td>1.000000</td>\n",
       "      <td>0.079803</td>\n",
       "      <td>0.040431</td>\n",
       "      <td>0.080488</td>\n",
       "      <td>-0.083101</td>\n",
       "      <td>-0.024851</td>\n",
       "      <td>-0.051343</td>\n",
       "      <td>-0.122008</td>\n",
       "      <td>0.037832</td>\n",
       "      <td>-0.011017</td>\n",
       "    </tr>\n",
       "    <tr>\n",
       "      <th>NOX</th>\n",
       "      <td>0.405765</td>\n",
       "      <td>-0.521713</td>\n",
       "      <td>0.774200</td>\n",
       "      <td>0.079803</td>\n",
       "      <td>1.000000</td>\n",
       "      <td>-0.335866</td>\n",
       "      <td>0.729338</td>\n",
       "      <td>-0.777062</td>\n",
       "      <td>0.616535</td>\n",
       "      <td>0.673471</td>\n",
       "      <td>0.188160</td>\n",
       "      <td>-0.409479</td>\n",
       "      <td>0.592994</td>\n",
       "    </tr>\n",
       "    <tr>\n",
       "      <th>RM</th>\n",
       "      <td>-0.217597</td>\n",
       "      <td>0.338683</td>\n",
       "      <td>-0.409924</td>\n",
       "      <td>0.040431</td>\n",
       "      <td>-0.335866</td>\n",
       "      <td>1.000000</td>\n",
       "      <td>-0.240875</td>\n",
       "      <td>0.233970</td>\n",
       "      <td>-0.243990</td>\n",
       "      <td>-0.307904</td>\n",
       "      <td>-0.367256</td>\n",
       "      <td>0.145525</td>\n",
       "      <td>-0.610844</td>\n",
       "    </tr>\n",
       "    <tr>\n",
       "      <th>AGE</th>\n",
       "      <td>0.344410</td>\n",
       "      <td>-0.578728</td>\n",
       "      <td>0.656350</td>\n",
       "      <td>0.080488</td>\n",
       "      <td>0.729338</td>\n",
       "      <td>-0.240875</td>\n",
       "      <td>1.000000</td>\n",
       "      <td>-0.766670</td>\n",
       "      <td>0.462188</td>\n",
       "      <td>0.512746</td>\n",
       "      <td>0.282193</td>\n",
       "      <td>-0.278403</td>\n",
       "      <td>0.590898</td>\n",
       "    </tr>\n",
       "    <tr>\n",
       "      <th>DIS</th>\n",
       "      <td>-0.378590</td>\n",
       "      <td>0.650787</td>\n",
       "      <td>-0.725155</td>\n",
       "      <td>-0.083101</td>\n",
       "      <td>-0.777062</td>\n",
       "      <td>0.233970</td>\n",
       "      <td>-0.766670</td>\n",
       "      <td>1.000000</td>\n",
       "      <td>-0.511179</td>\n",
       "      <td>-0.543668</td>\n",
       "      <td>-0.243067</td>\n",
       "      <td>0.295995</td>\n",
       "      <td>-0.507075</td>\n",
       "    </tr>\n",
       "    <tr>\n",
       "      <th>RAD</th>\n",
       "      <td>0.609689</td>\n",
       "      <td>-0.311091</td>\n",
       "      <td>0.599226</td>\n",
       "      <td>-0.024851</td>\n",
       "      <td>0.616535</td>\n",
       "      <td>-0.243990</td>\n",
       "      <td>0.462188</td>\n",
       "      <td>-0.511179</td>\n",
       "      <td>1.000000</td>\n",
       "      <td>0.922676</td>\n",
       "      <td>0.449908</td>\n",
       "      <td>-0.478245</td>\n",
       "      <td>0.490250</td>\n",
       "    </tr>\n",
       "    <tr>\n",
       "      <th>TAX</th>\n",
       "      <td>0.575652</td>\n",
       "      <td>-0.303522</td>\n",
       "      <td>0.701362</td>\n",
       "      <td>-0.051343</td>\n",
       "      <td>0.673471</td>\n",
       "      <td>-0.307904</td>\n",
       "      <td>0.512746</td>\n",
       "      <td>-0.543668</td>\n",
       "      <td>0.922676</td>\n",
       "      <td>1.000000</td>\n",
       "      <td>0.440499</td>\n",
       "      <td>-0.471777</td>\n",
       "      <td>0.534752</td>\n",
       "    </tr>\n",
       "    <tr>\n",
       "      <th>PTRATIO</th>\n",
       "      <td>0.273447</td>\n",
       "      <td>-0.403139</td>\n",
       "      <td>0.379284</td>\n",
       "      <td>-0.122008</td>\n",
       "      <td>0.188160</td>\n",
       "      <td>-0.367256</td>\n",
       "      <td>0.282193</td>\n",
       "      <td>-0.243067</td>\n",
       "      <td>0.449908</td>\n",
       "      <td>0.440499</td>\n",
       "      <td>1.000000</td>\n",
       "      <td>-0.178060</td>\n",
       "      <td>0.365873</td>\n",
       "    </tr>\n",
       "    <tr>\n",
       "      <th>B</th>\n",
       "      <td>-0.390613</td>\n",
       "      <td>0.176006</td>\n",
       "      <td>-0.372885</td>\n",
       "      <td>0.037832</td>\n",
       "      <td>-0.409479</td>\n",
       "      <td>0.145525</td>\n",
       "      <td>-0.278403</td>\n",
       "      <td>0.295995</td>\n",
       "      <td>-0.478245</td>\n",
       "      <td>-0.471777</td>\n",
       "      <td>-0.178060</td>\n",
       "      <td>1.000000</td>\n",
       "      <td>-0.376081</td>\n",
       "    </tr>\n",
       "    <tr>\n",
       "      <th>LSTAT</th>\n",
       "      <td>0.434384</td>\n",
       "      <td>-0.415237</td>\n",
       "      <td>0.603129</td>\n",
       "      <td>-0.011017</td>\n",
       "      <td>0.592994</td>\n",
       "      <td>-0.610844</td>\n",
       "      <td>0.590898</td>\n",
       "      <td>-0.507075</td>\n",
       "      <td>0.490250</td>\n",
       "      <td>0.534752</td>\n",
       "      <td>0.365873</td>\n",
       "      <td>-0.376081</td>\n",
       "      <td>1.000000</td>\n",
       "    </tr>\n",
       "  </tbody>\n",
       "</table>\n",
       "</div>"
      ],
      "text/plain": [
       "             CRIM        ZN     INDUS      CHAS       NOX        RM       AGE  \\\n",
       "CRIM     1.000000 -0.192179  0.397419 -0.050828  0.405765 -0.217597  0.344410   \n",
       "ZN      -0.192179  1.000000 -0.533823 -0.041981 -0.521713  0.338683 -0.578728   \n",
       "INDUS    0.397419 -0.533823  1.000000  0.052839  0.774200 -0.409924  0.656350   \n",
       "CHAS    -0.050828 -0.041981  0.052839  1.000000  0.079803  0.040431  0.080488   \n",
       "NOX      0.405765 -0.521713  0.774200  0.079803  1.000000 -0.335866  0.729338   \n",
       "RM      -0.217597  0.338683 -0.409924  0.040431 -0.335866  1.000000 -0.240875   \n",
       "AGE      0.344410 -0.578728  0.656350  0.080488  0.729338 -0.240875  1.000000   \n",
       "DIS     -0.378590  0.650787 -0.725155 -0.083101 -0.777062  0.233970 -0.766670   \n",
       "RAD      0.609689 -0.311091  0.599226 -0.024851  0.616535 -0.243990  0.462188   \n",
       "TAX      0.575652 -0.303522  0.701362 -0.051343  0.673471 -0.307904  0.512746   \n",
       "PTRATIO  0.273447 -0.403139  0.379284 -0.122008  0.188160 -0.367256  0.282193   \n",
       "B       -0.390613  0.176006 -0.372885  0.037832 -0.409479  0.145525 -0.278403   \n",
       "LSTAT    0.434384 -0.415237  0.603129 -0.011017  0.592994 -0.610844  0.590898   \n",
       "\n",
       "              DIS       RAD       TAX   PTRATIO         B     LSTAT  \n",
       "CRIM    -0.378590  0.609689  0.575652  0.273447 -0.390613  0.434384  \n",
       "ZN       0.650787 -0.311091 -0.303522 -0.403139  0.176006 -0.415237  \n",
       "INDUS   -0.725155  0.599226  0.701362  0.379284 -0.372885  0.603129  \n",
       "CHAS    -0.083101 -0.024851 -0.051343 -0.122008  0.037832 -0.011017  \n",
       "NOX     -0.777062  0.616535  0.673471  0.188160 -0.409479  0.592994  \n",
       "RM       0.233970 -0.243990 -0.307904 -0.367256  0.145525 -0.610844  \n",
       "AGE     -0.766670  0.462188  0.512746  0.282193 -0.278403  0.590898  \n",
       "DIS      1.000000 -0.511179 -0.543668 -0.243067  0.295995 -0.507075  \n",
       "RAD     -0.511179  1.000000  0.922676  0.449908 -0.478245  0.490250  \n",
       "TAX     -0.543668  0.922676  1.000000  0.440499 -0.471777  0.534752  \n",
       "PTRATIO -0.243067  0.449908  0.440499  1.000000 -0.178060  0.365873  \n",
       "B        0.295995 -0.478245 -0.471777 -0.178060  1.000000 -0.376081  \n",
       "LSTAT   -0.507075  0.490250  0.534752  0.365873 -0.376081  1.000000  "
      ]
     },
     "execution_count": 7,
     "metadata": {},
     "output_type": "execute_result"
    }
   ],
   "source": [
    "# check for highly correlated features\n",
    "df_train.corr()"
   ]
  },
  {
   "cell_type": "code",
   "execution_count": 8,
   "metadata": {},
   "outputs": [
    {
     "name": "stdout",
     "output_type": "stream",
     "text": [
      "CRIM: -0.37849762384495783\n",
      "ZN: 0.38029882789427116\n",
      "INDUS: -0.4767431574341945\n",
      "CHAS: 0.16866050054188647\n",
      "NOX: -0.4383282777729245\n",
      "RM: 0.6814825193146462\n",
      "AGE: -0.36417297878336435\n",
      "DIS: 0.25390039671311576\n",
      "RAD: -0.3755149970536418\n",
      "TAX: -0.4487366956390774\n",
      "PTRATIO: -0.49398959605640913\n",
      "B: 0.3439533705058262\n",
      "LSTAT: -0.7307927632282041\n"
     ]
    }
   ],
   "source": [
    "for col in feature_names:\n",
    "    print(\"%s: %s\" % (col, df_train[col].corr(pd.Series(y_train))))"
   ]
  },
  {
   "cell_type": "markdown",
   "metadata": {
    "colab_type": "text",
    "id": "zEs8r-YJ2qgc"
   },
   "source": [
    "## Train Gradient Boosting model\n",
    "\n",
    "Training Steps to build model an ensemble of $K$ estimators.\n",
    "1. At $k=0$ build base model ,  $\\hat{y}_{0}$: $\\hat{y}_{0}=base\\_predicted$\n",
    "3. Compute residuals $r = \\sum_{i=0}^n (y_{k,i} - \\hat{y}_{k,i})$; $n: number\\ train\\ examples$\n",
    "4. Train new model, fitting on residuals, $r$. We will call the predictions from this model $e_{k}\\_predicted$\n",
    "5. Update model predictions at step $k$ by adding residual to current predictions: $\\hat{y}_{k} = \\hat{y}_{k-1} + e_{k}\\_predicted$\n",
    "6. Repeat steps 2 - 5 `K` times.\n",
    "\n",
    "In summary, the goal is to build K estimators that learn to predict the residuals from the prior model; thus we are learning to \"correct\" the\n",
    "predictions up until this point.\n",
    "<br>\n",
    "\n",
    "$\\hat{y}_{K} = base\\_predicted\\ +\\ \\sum_{j=1}^Ke_{j}\\_predicted$"
   ]
  },
  {
   "cell_type": "markdown",
   "metadata": {
    "colab_type": "text",
    "id": "ZOa5-a_8L_oA"
   },
   "source": [
    "### Build base model"
   ]
  },
  {
   "cell_type": "markdown",
   "metadata": {},
   "source": [
    "Exercise #2: Make an initial prediction using the `BaseModel` class -- configure the `predict` method to predict the training mean."
   ]
  },
  {
   "cell_type": "code",
   "execution_count": 9,
   "metadata": {
    "colab": {},
    "colab_type": "code",
    "id": "iE7357JRL-Xv"
   },
   "outputs": [],
   "source": [
    "class BaseModel(object):\n",
    "    \"\"\"Initial model that predicts mean of train set.\"\"\"\n",
    "\n",
    "    def __init__(self, y_train):\n",
    "        self.train_mean = np.mean(y_train)\n",
    "\n",
    "    def predict(self, x):\n",
    "        \"\"\"Return train mean for every prediction.\"\"\"\n",
    "        means = [self.train_mean for xx in x] \n",
    "        return means\n",
    "\n",
    "def compute_residuals(label, pred):\n",
    "    \"\"\"Compute difference of labels and predictions.\n",
    "\n",
    "    When using mean squared error loss function, the residual indicates the \n",
    "    negative gradient of the loss function in prediction space. Thus by fitting\n",
    "    the residuals, we performing gradient descent in prediction space. See for\n",
    "    more detail:\n",
    "\n",
    "    https://explained.ai/gradient-boosting/L2-loss.html\n",
    "    \"\"\"\n",
    "    return label - pred\n",
    "\n",
    "def compute_rmse(x):\n",
    "    return np.sqrt(np.mean(np.square(x)))"
   ]
  },
  {
   "cell_type": "code",
   "execution_count": 10,
   "metadata": {
    "colab": {
     "base_uri": "https://localhost:8080/",
     "height": 35
    },
    "colab_type": "code",
    "id": "kzdhD6Su2LbF",
    "outputId": "64ed7c2f-946b-4ffe-fe34-5887edf2ad0f"
   },
   "outputs": [
    {
     "data": {
      "text/plain": [
       "9.149363873885578"
      ]
     },
     "execution_count": 10,
     "metadata": {},
     "output_type": "execute_result"
    }
   ],
   "source": [
    "# Build a base model that predicts the mean of the training set.\n",
    "base_model = BaseModel(y_train)\n",
    "test_pred = base_model.predict(x_test)\n",
    "test_residuals = compute_residuals(y_test, test_pred)\n",
    "compute_rmse(test_residuals)"
   ]
  },
  {
   "cell_type": "markdown",
   "metadata": {
    "colab_type": "text",
    "id": "28YAYLk4e1IU"
   },
   "source": [
    "Let's see how the base model performs on out test data. Let's visualize performance compared to the `LSTAT` feature."
   ]
  },
  {
   "cell_type": "code",
   "execution_count": 11,
   "metadata": {
    "colab": {
     "base_uri": "https://localhost:8080/",
     "height": 351
    },
    "colab_type": "code",
    "id": "a-4Ob3GcfFC8",
    "outputId": "932f10f0-ad9f-466e-c099-1e5a2f868fb1"
   },
   "outputs": [
    {
     "data": {
      "image/png": "[encoded data removed]",
      "text/plain": [
       "<Figure size 432x288 with 1 Axes>"
      ]
     },
     "metadata": {
      "needs_background": "light"
     },
     "output_type": "display_data"
    }
   ],
   "source": [
    "feature = df_test.LSTAT\n",
    "\n",
    "# Pick a predictive feature for plotting.\n",
    "plt.plot(feature, y_test, 'go', alpha=0.7, markersize=8)\n",
    "plt.plot(feature, test_pred, label='initial prediction')\n",
    "\n",
    "plt.xlabel('LSTAT', size=15)\n",
    "plt.legend(prop={'size': 15});"
   ]
  },
  {
   "cell_type": "markdown",
   "metadata": {
    "colab_type": "text",
    "id": "XnxjXH4WfFSI"
   },
   "source": [
    "There is definitely room for improvement. We can also look at the residuals:"
   ]
  },
  {
   "cell_type": "code",
   "execution_count": 12,
   "metadata": {
    "colab": {
     "base_uri": "https://localhost:8080/",
     "height": 351
    },
    "colab_type": "code",
    "id": "2n2D88oXfx13",
    "outputId": "1027304d-04d6-4364-d2e8-dde706e53720"
   },
   "outputs": [
    {
     "data": {
      "image/png": "[encoded data removed]",
      "text/plain": [
       "<Figure size 432x288 with 1 Axes>"
      ]
     },
     "metadata": {
      "needs_background": "light"
     },
     "output_type": "display_data"
    }
   ],
   "source": [
    "plt.plot(feature, test_residuals, 'bo', alpha=0.7, markersize=8)\n",
    "plt.ylabel('residuals', size=15)\n",
    "plt.xlabel('LSTAT', size=15)\n",
    "plt.plot([feature.min(), feature.max()], [0, 0], 'b--', label='0 error');\n",
    "plt.legend(prop={'size': 15});"
   ]
  },
  {
   "cell_type": "markdown",
   "metadata": {
    "colab_type": "text",
    "id": "AFlqdEN7Uap8"
   },
   "source": [
    "### Train Boosting model"
   ]
  },
  {
   "cell_type": "markdown",
   "metadata": {
    "colab_type": "text",
    "id": "TrqvuB54Uub7"
   },
   "source": [
    "Returning back to boosting, let's use our very first base model as are initial prediction. We'll then perform subsequent boosting iterations to improve upon this model."
   ]
  },
  {
   "cell_type": "markdown",
   "metadata": {
    "colab_type": "text",
    "id": "9KHXsCZMgaEo"
   },
   "source": [
    "create_weak_model"
   ]
  },
  {
   "cell_type": "code",
   "execution_count": 13,
   "metadata": {
    "colab": {},
    "colab_type": "code",
    "id": "qJDbirEsaYCN"
   },
   "outputs": [],
   "source": [
    "def create_weak_learner(**tree_params):\n",
    "    \"\"\"Initialize a Decision Tree model.\"\"\"\n",
    "    model = DecisionTreeRegressor(**tree_params)\n",
    "    return model"
   ]
  },
  {
   "cell_type": "markdown",
   "metadata": {
    "colab_type": "text",
    "id": "R8kCPP6Wfamg"
   },
   "source": [
    "Make initial prediction."
   ]
  },
  {
   "cell_type": "markdown",
   "metadata": {},
   "source": [
    "Exercise #3: Update the prediction on the training set (`train_pred`) and on the testing set (`test_pred`) using the weak learner that predicts the residuals."
   ]
  },
  {
   "cell_type": "code",
   "execution_count": 14,
   "metadata": {},
   "outputs": [],
   "source": [
    "base_model = BaseModel(y_train)"
   ]
  },
  {
   "cell_type": "code",
   "execution_count": 15,
   "metadata": {},
   "outputs": [],
   "source": [
    "# Training parameters. \n",
    "tree_params = {\n",
    "    'max_depth': 1,\n",
    "    'criterion': 'mse',\n",
    "    'random_state': 123\n",
    "  }\n",
    "N_ESTIMATORS = 50\n",
    "BOOSTING_LR = 0.1\n",
    "\n",
    "# Initial prediction, residuals.\n",
    "train_pred = base_model.predict(x_train)\n",
    "test_pred = base_model.predict(x_test)\n",
    "train_residuals = compute_residuals(y_train, train_pred)\n",
    "test_residuals = compute_residuals(y_test, test_pred)\n",
    "\n",
    "feat_importances = np.zeros(len(feature_names))\n",
    "\n",
    "# Boosting.\n",
    "train_rmse, test_rmse = [], []\n",
    "for _ in range(0, N_ESTIMATORS):\n",
    "    train_rmse.append(compute_rmse(train_residuals))\n",
    "    test_rmse.append(compute_rmse(test_residuals))\n",
    "    # Train weak learner.\n",
    "    model = create_weak_learner(**tree_params)\n",
    "    model.fit(x_train, train_residuals)\n",
    "    \n",
    "    iter_imps = model.feature_importances_   \n",
    "    feat_importances = feat_importances + iter_imps\n",
    "    \n",
    "    # Boosting magic happens here: add the residual prediction to correct\n",
    "    # the prior model.\n",
    "    \n",
    "    grad_approx = model.predict(x_train)\n",
    "    train_pred += grad_approx * BOOSTING_LR\n",
    "    train_residuals = compute_residuals(y_train, train_pred)  \n",
    "    \n",
    "    # Keep track of residuals on validation set.\n",
    "    grad_approx = model.predict(x_test)\n",
    "    test_pred += grad_approx * BOOSTING_LR\n",
    "    test_residuals = compute_residuals(y_test, test_pred)\n",
    "    \n",
    "feat_importances /= N_ESTIMATORS    "
   ]
  },
  {
   "cell_type": "markdown",
   "metadata": {
    "colab_type": "text",
    "id": "XUhgTI_BH7Qk"
   },
   "source": [
    "## Interpret results"
   ]
  },
  {
   "cell_type": "markdown",
   "metadata": {
    "colab_type": "text",
    "id": "nhCF--TZg2BJ"
   },
   "source": [
    "Can you improve the model results?"
   ]
  },
  {
   "cell_type": "code",
   "execution_count": 16,
   "metadata": {},
   "outputs": [
    {
     "data": {
      "text/plain": [
       "<matplotlib.legend.Legend at 0x7f288b7c2438>"
      ]
     },
     "execution_count": 16,
     "metadata": {},
     "output_type": "execute_result"
    },
    {
     "data": {
      "image/png": "[encoded data removed]",
      "text/plain": [
       "<Figure size 432x288 with 1 Axes>"
      ]
     },
     "metadata": {
      "needs_background": "light"
     },
     "output_type": "display_data"
    }
   ],
   "source": [
    "plt.figure()\n",
    "plt.plot(train_rmse, label='train error')\n",
    "plt.plot(test_rmse, label='test error')\n",
    "plt.ylabel('rmse', size=20)\n",
    "plt.xlabel('Boosting Iterations', size=20);\n",
    "plt.legend()"
   ]
  },
  {
   "cell_type": "code",
   "execution_count": 17,
   "metadata": {},
   "outputs": [
    {
     "name": "stdout",
     "output_type": "stream",
     "text": [
      "Final test RMSE: 4.35925085219514\n"
     ]
    }
   ],
   "source": [
    "print(\"Final test RMSE: %s\" % test_rmse[-1])"
   ]
  },
  {
   "cell_type": "code",
   "execution_count": 18,
   "metadata": {},
   "outputs": [
    {
     "data": {
      "text/plain": [
       "[('CRIM', 0.1),\n",
       " ('ZN', 0.0),\n",
       " ('INDUS', 0.0),\n",
       " ('CHAS', 0.02),\n",
       " ('NOX', 0.08),\n",
       " ('RM', 0.3),\n",
       " ('AGE', 0.0),\n",
       " ('DIS', 0.14),\n",
       " ('RAD', 0.0),\n",
       " ('TAX', 0.0),\n",
       " ('PTRATIO', 0.02),\n",
       " ('B', 0.0),\n",
       " ('LSTAT', 0.34)]"
      ]
     },
     "execution_count": 18,
     "metadata": {},
     "output_type": "execute_result"
    }
   ],
   "source": [
    "list(zip(feature_names, feat_importances))"
   ]
  },
  {
   "cell_type": "markdown",
   "metadata": {
    "colab_type": "text",
    "id": "rHwfvd5JKA2m"
   },
   "source": [
    "## Let's visualize how the performance changes across iterations"
   ]
  },
  {
   "cell_type": "code",
   "execution_count": 19,
   "metadata": {
    "colab": {
     "base_uri": "https://localhost:8080/",
     "height": 643
    },
    "colab_type": "code",
    "id": "tAM1X70onv6w",
    "outputId": "d54c68e6-2702-4b8f-80a7-3e832aee2823"
   },
   "outputs": [
    {
     "data": {
      "image/png": "[encoded data removed]",
      "text/plain": [
       "<Figure size 432x288 with 1 Axes>"
      ]
     },
     "metadata": {
      "needs_background": "light"
     },
     "output_type": "display_data"
    }
   ],
   "source": [
    "feature = df_test.LSTAT\n",
    "ix = np.argsort(feature)\n",
    "\n",
    "# Pick a predictive feature for plotting.\n",
    "plt.plot(feature, y_test, 'go', alpha=0.7, markersize=8)\n",
    "plt.plot(feature[ix], test_pred[ix], label='boosted prediction', linewidth=2)\n",
    "\n",
    "plt.xlabel('LSTAT', size=10)\n",
    "plt.legend(prop={'size': 10});"
   ]
  },
  {
   "cell_type": "code",
   "execution_count": 20,
   "metadata": {},
   "outputs": [
    {
     "data": {
      "image/png": "[encoded data removed]",
      "text/plain": [
       "<Figure size 432x288 with 1 Axes>"
      ]
     },
     "metadata": {
      "needs_background": "light"
     },
     "output_type": "display_data"
    }
   ],
   "source": [
    "feature = df_test.RM\n",
    "ix = np.argsort(feature)\n",
    "\n",
    "# Pick a predictive feature for plotting.\n",
    "plt.plot(feature, y_test, 'go', alpha=0.7, markersize=8)\n",
    "plt.plot(feature[ix], test_pred[ix], label='boosted prediction', linewidth=2)\n",
    "\n",
    "plt.xlabel('Rooms', size=15)\n",
    "plt.legend(prop={'size': 15});"
   ]
  },
  {
   "cell_type": "code",
   "execution_count": 21,
   "metadata": {},
   "outputs": [],
   "source": [
    "# Training parameters. \n",
    "tree_params = {\n",
    "    'max_depth': 3,\n",
    "    'criterion': 'mse',\n",
    "    'random_state': 123\n",
    "  }\n",
    "N_ESTIMATORS = 50\n",
    "BOOSTING_LR = 0.1\n",
    "\n",
    "# Initial prediction, residuals.\n",
    "train_pred = base_model.predict(x_train)\n",
    "test_pred = base_model.predict(x_test)\n",
    "train_residuals = compute_residuals(y_train, train_pred)\n",
    "test_residuals = compute_residuals(y_test, test_pred)\n",
    "feat_importances = np.zeros(len(feature_names))\n",
    "# Boosting.\n",
    "train_rmse, test_rmse = [], []\n",
    "for _ in range(0, N_ESTIMATORS):\n",
    "    train_rmse.append(compute_rmse(train_residuals))\n",
    "    test_rmse.append(compute_rmse(test_residuals))\n",
    "    # Train weak learner.\n",
    "    model = create_weak_learner(**tree_params)\n",
    "    model.fit(x_train, train_residuals)\n",
    "    # Boosting magic happens here: add the residual prediction to correct\n",
    "    # the prior model.\n",
    "    grad_approx = model.predict(x_train)\n",
    "    train_pred += grad_approx * BOOSTING_LR\n",
    "    train_residuals = compute_residuals(y_train, train_pred)  \n",
    "    \n",
    "    iter_imps = model.feature_importances_   \n",
    "    feat_importances = feat_importances + iter_imps\n",
    "    \n",
    "    # Keep track of residuals on validation set.\n",
    "    grad_approx = model.predict(x_test)\n",
    "    test_pred += grad_approx * BOOSTING_LR\n",
    "    test_residuals = compute_residuals(y_test, test_pred)\n",
    "    \n",
    "feat_importances /= N_ESTIMATORS    "
   ]
  },
  {
   "cell_type": "code",
   "execution_count": 22,
   "metadata": {},
   "outputs": [
    {
     "data": {
      "text/plain": [
       "<matplotlib.legend.Legend at 0x7f288b708908>"
      ]
     },
     "execution_count": 22,
     "metadata": {},
     "output_type": "execute_result"
    },
    {
     "data": {
      "image/png": "[encoded data removed]",
      "text/plain": [
       "<Figure size 432x288 with 1 Axes>"
      ]
     },
     "metadata": {
      "needs_background": "light"
     },
     "output_type": "display_data"
    }
   ],
   "source": [
    "plt.figure()\n",
    "plt.plot(train_rmse, label='train error')\n",
    "plt.plot(test_rmse, label='test error')\n",
    "plt.ylabel('rmse', size=20)\n",
    "plt.xlabel('Boosting Iterations', size=20);\n",
    "plt.legend()"
   ]
  },
  {
   "cell_type": "code",
   "execution_count": 23,
   "metadata": {},
   "outputs": [
    {
     "name": "stdout",
     "output_type": "stream",
     "text": [
      "Final test RMSE: 3.717799672009396\n"
     ]
    }
   ],
   "source": [
    "print(\"Final test RMSE: %s\" % test_rmse[-1])"
   ]
  },
  {
   "cell_type": "code",
   "execution_count": 24,
   "metadata": {},
   "outputs": [
    {
     "data": {
      "text/plain": [
       "[('CRIM', 0.07233113057900821),\n",
       " ('ZN', 0.0),\n",
       " ('INDUS', 0.004656173441873258),\n",
       " ('CHAS', 0.0065125132778102515),\n",
       " ('NOX', 0.04609574514871394),\n",
       " ('RM', 0.2348456474236902),\n",
       " ('AGE', 0.059055274683618),\n",
       " ('DIS', 0.15634035639200142),\n",
       " ('RAD', 0.014337124867598122),\n",
       " ('TAX', 0.060811629701084016),\n",
       " ('PTRATIO', 0.07070852527896326),\n",
       " ('B', 0.03215710170011392),\n",
       " ('LSTAT', 0.24214877750552546)]"
      ]
     },
     "execution_count": 24,
     "metadata": {},
     "output_type": "execute_result"
    }
   ],
   "source": [
    "list(zip(feature_names, feat_importances))"
   ]
  },
  {
   "cell_type": "markdown",
   "metadata": {},
   "source": [
    "We are beginning to overfit - train and test curves diverge significantly. Try depth of 2"
   ]
  },
  {
   "cell_type": "code",
   "execution_count": 25,
   "metadata": {},
   "outputs": [],
   "source": [
    "# Training parameters. \n",
    "tree_params = {\n",
    "    'max_depth': 2,\n",
    "    'criterion': 'mse',\n",
    "    'random_state': 123\n",
    "  }\n",
    "N_ESTIMATORS = 50\n",
    "BOOSTING_LR = 0.1\n",
    "\n",
    "# Initial prediction, residuals.\n",
    "train_pred = base_model.predict(x_train)\n",
    "test_pred = base_model.predict(x_test)\n",
    "train_residuals = compute_residuals(y_train, train_pred)\n",
    "test_residuals = compute_residuals(y_test, test_pred)\n",
    "feat_importances = np.zeros(len(feature_names))\n",
    "\n",
    "# Boosting.\n",
    "train_rmse, test_rmse = [], []\n",
    "for _ in range(0, N_ESTIMATORS):\n",
    "    train_rmse.append(compute_rmse(train_residuals))\n",
    "    test_rmse.append(compute_rmse(test_residuals))\n",
    "    # Train weak learner.\n",
    "    model = create_weak_learner(**tree_params)\n",
    "    model.fit(x_train, train_residuals)\n",
    "    # Boosting magic happens here: add the residual prediction to correct\n",
    "    # the prior model.\n",
    "    grad_approx = model.predict(x_train)\n",
    "    train_pred += grad_approx * BOOSTING_LR\n",
    "    train_residuals = compute_residuals(y_train, train_pred)\n",
    "    \n",
    "    iter_imps = model.feature_importances_   \n",
    "    feat_importances = feat_importances + iter_imps\n",
    "    \n",
    "    # Keep track of residuals on validation set.\n",
    "    grad_approx = model.predict(x_test)\n",
    "    test_pred += grad_approx * BOOSTING_LR\n",
    "    test_residuals = compute_residuals(y_test, test_pred) \n",
    "    \n",
    "feat_importances /= N_ESTIMATORS    "
   ]
  },
  {
   "cell_type": "code",
   "execution_count": 26,
   "metadata": {},
   "outputs": [
    {
     "data": {
      "text/plain": [
       "<matplotlib.legend.Legend at 0x7f288b6cbe10>"
      ]
     },
     "execution_count": 26,
     "metadata": {},
     "output_type": "execute_result"
    },
    {
     "data": {
      "image/png": "[encoded data removed]",
      "text/plain": [
       "<Figure size 432x288 with 1 Axes>"
      ]
     },
     "metadata": {
      "needs_background": "light"
     },
     "output_type": "display_data"
    }
   ],
   "source": [
    "plt.figure()\n",
    "plt.plot(train_rmse, label='train error')\n",
    "plt.plot(test_rmse, label='test error')\n",
    "plt.ylabel('rmse', size=20)\n",
    "plt.xlabel('Boosting Iterations', size=20);\n",
    "plt.legend()"
   ]
  },
  {
   "cell_type": "code",
   "execution_count": 27,
   "metadata": {},
   "outputs": [
    {
     "name": "stdout",
     "output_type": "stream",
     "text": [
      "Final test RMSE: 3.818029000855561\n"
     ]
    }
   ],
   "source": [
    "print(\"Final test RMSE: %s\" % test_rmse[-1])"
   ]
  },
  {
   "cell_type": "code",
   "execution_count": 28,
   "metadata": {},
   "outputs": [
    {
     "data": {
      "text/plain": [
       "[('CRIM', 0.07706721796956663),\n",
       " ('ZN', 0.0),\n",
       " ('INDUS', 0.0),\n",
       " ('CHAS', 0.023894641235059758),\n",
       " ('NOX', 0.0814230010696406),\n",
       " ('RM', 0.2577146775459957),\n",
       " ('AGE', 0.0016683197544475118),\n",
       " ('DIS', 0.16198265437334577),\n",
       " ('RAD', 0.0022424850885037844),\n",
       " ('TAX', 0.04760418068504713),\n",
       " ('PTRATIO', 0.08906140836396029),\n",
       " ('B', 0.031058057379870215),\n",
       " ('LSTAT', 0.22628335653456255)]"
      ]
     },
     "execution_count": 28,
     "metadata": {},
     "output_type": "execute_result"
    }
   ],
   "source": [
    "list(zip(feature_names, feat_importances))"
   ]
  },
  {
   "cell_type": "markdown",
   "metadata": {},
   "source": [
    "We're bouncing around a bit. What if we try a lower learning rate, and correspondingly higher number of trees?"
   ]
  },
  {
   "cell_type": "code",
   "execution_count": 29,
   "metadata": {},
   "outputs": [],
   "source": [
    "# Training parameters. \n",
    "tree_params = {\n",
    "    'max_depth': 2,\n",
    "    'criterion': 'mse',\n",
    "    'random_state': 123\n",
    "  }\n",
    "N_ESTIMATORS = 100\n",
    "BOOSTING_LR = 0.05\n",
    "\n",
    "# Initial prediction, residuals.\n",
    "train_pred = base_model.predict(x_train)\n",
    "test_pred = base_model.predict(x_test)\n",
    "train_residuals = compute_residuals(y_train, train_pred)\n",
    "test_residuals = compute_residuals(y_test, test_pred)\n",
    "feat_importances = np.zeros(len(feature_names))\n",
    "\n",
    "# Boosting.\n",
    "train_rmse, test_rmse = [], []\n",
    "for _ in range(0, N_ESTIMATORS):\n",
    "    train_rmse.append(compute_rmse(train_residuals))\n",
    "    test_rmse.append(compute_rmse(test_residuals))\n",
    "    # Train weak learner.\n",
    "    model = create_weak_learner(**tree_params)\n",
    "    model.fit(x_train, train_residuals)\n",
    "    # Boosting magic happens here: add the residual prediction to correct\n",
    "    # the prior model.\n",
    "    grad_approx = model.predict(x_train)\n",
    "    train_pred += grad_approx * BOOSTING_LR\n",
    "    train_residuals = compute_residuals(y_train, train_pred)  \n",
    "\n",
    "    feat_importances += model.feature_importances_  \n",
    "\n",
    "    # Keep track of residuals on validation set.\n",
    "    grad_approx = model.predict(x_test)\n",
    "    test_pred += grad_approx * BOOSTING_LR\n",
    "    test_residuals = compute_residuals(y_test, test_pred)\n",
    "\n",
    "feat_importances /= N_ESTIMATORS    "
   ]
  },
  {
   "cell_type": "code",
   "execution_count": 30,
   "metadata": {},
   "outputs": [
    {
     "name": "stdout",
     "output_type": "stream",
     "text": [
      "Final test RMSE: 3.855369378354915\n"
     ]
    },
    {
     "data": {
      "image/png": "[encoded data removed]",
      "text/plain": [
       "<Figure size 432x288 with 1 Axes>"
      ]
     },
     "metadata": {
      "needs_background": "light"
     },
     "output_type": "display_data"
    }
   ],
   "source": [
    "plt.figure()\n",
    "plt.plot(train_rmse, label='train error')\n",
    "plt.plot(test_rmse, label='test error')\n",
    "plt.ylabel('rmse', size=15)\n",
    "plt.xlabel('Boosting Iterations', size=15);\n",
    "plt.legend()\n",
    "print(\"Final test RMSE: %s\" % test_rmse[-1])"
   ]
  },
  {
   "cell_type": "code",
   "execution_count": 31,
   "metadata": {},
   "outputs": [
    {
     "data": {
      "image/png": "[encoded data removed]",
      "text/plain": [
       "<Figure size 432x288 with 1 Axes>"
      ]
     },
     "metadata": {
      "needs_background": "light"
     },
     "output_type": "display_data"
    }
   ],
   "source": [
    "feature = df_test.LSTAT\n",
    "ix = np.argsort(feature)\n",
    "\n",
    "# Pick a predictive feature for plotting.\n",
    "plt.plot(feature, y_test, 'go', alpha=0.7, markersize=8)\n",
    "plt.plot(feature[ix], test_pred[ix], label='boosted prediction', linewidth=2)\n",
    "\n",
    "plt.xlabel('LSTAT', size=10)\n",
    "plt.legend(prop={'size': 10});"
   ]
  },
  {
   "cell_type": "code",
   "execution_count": 32,
   "metadata": {},
   "outputs": [
    {
     "data": {
      "text/plain": [
       "[('CRIM', 0.08126002689134948),\n",
       " ('ZN', 0.0),\n",
       " ('INDUS', 0.0),\n",
       " ('CHAS', 0.01916181073478576),\n",
       " ('NOX', 0.07504686414921595),\n",
       " ('RM', 0.250765994388645),\n",
       " ('AGE', 0.009487446730683054),\n",
       " ('DIS', 0.14890367235577828),\n",
       " ('RAD', 0.005626719145003824),\n",
       " ('TAX', 0.050511043044339884),\n",
       " ('PTRATIO', 0.09595569892026379),\n",
       " ('B', 0.030844620830418466),\n",
       " ('LSTAT', 0.23243610280951665)]"
      ]
     },
     "execution_count": 32,
     "metadata": {},
     "output_type": "execute_result"
    }
   ],
   "source": [
    "list(zip(feature_names, feat_importances))"
   ]
  },
  {
   "cell_type": "markdown",
   "metadata": {},
   "source": [
    "Copyright 2019 Google Inc. Licensed under the Apache License, Version 2.0 (the \"License\"); you may not use this file except in compliance with the License. You may obtain a copy of the License at http://www.apache.org/licenses/LICENSE-2.0 Unless required by applicable law or agreed to in writing, software distributed under the License is distributed on an \"AS IS\" BASIS, WITHOUT WARRANTIES OR CONDITIONS OF ANY KIND, either express or implied. See the License for the specific language governing permissions and limitations under the License"
   ]
  },
  {
   "cell_type": "code",
   "execution_count": null,
   "metadata": {},
   "outputs": [],
   "source": []
  }
 ],
 "metadata": {
  "accelerator": "GPU",
  "colab": {
   "collapsed_sections": [],
   "name": "ASL_a_boosting_from_scratch.ipynb",
   "provenance": [],
   "version": "0.3.2"
  },
  "kernelspec": {
   "display_name": "Python 3",
   "language": "python",
   "name": "python3"
  },
  "language_info": {
   "codemirror_mode": {
    "name": "ipython",
    "version": 3
   },
   "file_extension": ".py",
   "mimetype": "text/x-python",
   "name": "python",
   "nbconvert_exporter": "python",
   "pygments_lexer": "ipython3",
   "version": "3.5.3"
  }
 },
 "nbformat": 4,
 "nbformat_minor": 2
}
