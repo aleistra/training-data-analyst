{
 "cells": [
  {
   "cell_type": "markdown",
   "metadata": {},
   "source": [
    "# Big Query Machine Learning (BQML)\n",
    "\n",
    "**Learning Objectives**\n",
    "- Understand that it is possible to build ML models in Big Query\n",
    "- Understand when this is appropriate\n",
    "- Experience building a model using BQML\n",
    "\n",
    "# Introduction\n",
    "\n",
    "BigQuery is more than just a data warehouse, it also has some ML capabilities baked into it. \n",
    "\n",
    "As of January 2019 it is limited to linear models, but what it gives up in complexity, it gains in ease of use.\n",
    "\n",
    "BQML is a great option when a linear model will suffice, or when you want a quick benchmark to beat, but for more complex models such as neural networks you will need to pull the data out of BigQuery and into an ML Framework like TensorFlow.\n",
    "\n",
    "In this notebook, we will build a naive model using BQML. **This notebook is intended to inspire usage of BQML, we will not focus on model performance.**"
   ]
  },
  {
   "cell_type": "markdown",
   "metadata": {},
   "source": [
    "### Set up environment variables and load necessary libraries"
   ]
  },
  {
   "cell_type": "code",
   "execution_count": 1,
   "metadata": {},
   "outputs": [],
   "source": [
    "PROJECT = \"qwiklabs-gcp-636667ae83e902b6\"  # Replace with your PROJECT\n",
    "REGION = \"us-central1\"            # Choose an available region for Cloud MLE"
   ]
  },
  {
   "cell_type": "code",
   "execution_count": 2,
   "metadata": {},
   "outputs": [],
   "source": [
    "import os\n",
    "os.environ[\"PROJECT\"] = PROJECT\n",
    "os.environ[\"REGION\"] = REGION"
   ]
  },
  {
   "cell_type": "code",
   "execution_count": 3,
   "metadata": {},
   "outputs": [
    {
     "name": "stdout",
     "output_type": "stream",
     "text": [
      "google-cloud-bigquery==1.6.1\n"
     ]
    }
   ],
   "source": [
    "!pip freeze | grep google-cloud-bigquery==1.6.1 || pip install google-cloud-bigquery==1.6.1"
   ]
  },
  {
   "cell_type": "markdown",
   "metadata": {},
   "source": [
    "## Create BigQuery dataset\n",
    "\n",
    "Prior to now we've just been reading an existing BigQuery table, now we're going to create our own so so we need some place to put it. In BigQuery parlance, `Dataset` means a folder for tables. \n",
    "\n",
    "We will take advantage of BigQuery's [Python Client](https://cloud.google.com/bigquery/docs/reference/libraries#client-libraries-install-python) to create the dataset."
   ]
  },
  {
   "cell_type": "code",
   "execution_count": 4,
   "metadata": {},
   "outputs": [
    {
     "name": "stdout",
     "output_type": "stream",
     "text": [
      "Dataset created\n"
     ]
    }
   ],
   "source": [
    "from google.cloud import bigquery\n",
    "bq = bigquery.Client(project = PROJECT)\n",
    "\n",
    "dataset = bigquery.Dataset(bq.dataset(\"bqml_taxifare\"))\n",
    "try:\n",
    "    bq.create_dataset(dataset) # will fail if dataset already exists\n",
    "    print(\"Dataset created\")\n",
    "except:\n",
    "    print(\"Dataset already exists\")"
   ]
  },
  {
   "cell_type": "markdown",
   "metadata": {},
   "source": [
    "## Create model\n",
    "\n",
    "To create a model\n",
    "1. Use `CREATE MODEL` and provide a destination table for resulting model. Alternatively we can use `CREATE OR REPLACE MODEL` which allows overwriting an existing model.\n",
    "2. Use `OPTIONS` to specify the model type (linear_reg or logistic_reg). There are many more options [we could specify](https://cloud.google.com/bigquery/docs/reference/standard-sql/bigqueryml-syntax-create#model_option_list), such as regularization and learning rate, but we'll accept the defaults.\n",
    "3. Provide the query which fetches the training data \n",
    "\n",
    "#### **Exercise 1**\n",
    "Use the query we created in the previous lab to Clean the Data to now train a Linear Regression model with BQML called `taxifare_model`. This should amount to adding a line to create the model and adding OPTIONS to specify the model type. Our label will be sum of `tolls_amount` and `fare_amount` and for features will use the pickup datetime and pickup & dropoff latitude and longitude.\n",
    "\n",
    "HINT: Have a look at [Step Two of this tutorial](https://cloud.google.com/bigquery/docs/bigqueryml-natality) if you get stuck or if you want to see another example.\n",
    "\n",
    "**Your query could take about two minutes to complete.**"
   ]
  },
  {
   "cell_type": "code",
   "execution_count": 7,
   "metadata": {},
   "outputs": [
    {
     "data": {
      "text/html": [
       "<div>\n",
       "<style scoped>\n",
       "    .dataframe tbody tr th:only-of-type {\n",
       "        vertical-align: middle;\n",
       "    }\n",
       "\n",
       "    .dataframe tbody tr th {\n",
       "        vertical-align: top;\n",
       "    }\n",
       "\n",
       "    .dataframe thead th {\n",
       "        text-align: right;\n",
       "    }\n",
       "</style>\n",
       "<table border=\"1\" class=\"dataframe\">\n",
       "  <thead>\n",
       "    <tr style=\"text-align: right;\">\n",
       "      <th></th>\n",
       "    </tr>\n",
       "  </thead>\n",
       "  <tbody>\n",
       "  </tbody>\n",
       "</table>\n",
       "</div>"
      ],
      "text/plain": [
       "Empty DataFrame\n",
       "Columns: []\n",
       "Index: []"
      ]
     },
     "execution_count": 7,
     "metadata": {},
     "output_type": "execute_result"
    }
   ],
   "source": [
    "%%bigquery --project $PROJECT\n",
    "CREATE MODEL `bqml_taxifare.taxifare_model` \n",
    "OPTIONS (MODEL_TYPE='LINEAR_REG', input_label_cols=['fare_amount'])\n",
    "AS SELECT\n",
    "    (tolls_amount + fare_amount) AS fare_amount, -- create label that is the sum of fare_amount and tolls_amount\n",
    "    pickup_datetime,\n",
    "    pickup_longitude, \n",
    "    pickup_latitude, \n",
    "    dropoff_longitude, \n",
    "    dropoff_latitude\n",
    "FROM\n",
    "    `nyc-tlc.yellow.trips`\n",
    "WHERE\n",
    "    -- Clean Data\n",
    "    trip_distance > 0\n",
    "    AND passenger_count > 0  \n",
    "    AND fare_amount >= 2.5\n",
    "    AND pickup_latitude > 37\n",
    "    AND pickup_latitude < 45\n",
    "    AND pickup_longitude > -78\n",
    "    AND pickup_longitude < -70\n",
    "    AND dropoff_latitude > 37\n",
    "    AND dropoff_latitude < 45\n",
    "    AND dropoff_longitude > -78\n",
    "    AND dropoff_longitude < -70\n",
    "    \n",
    "    -- create a repeatable 1/5000th sample\n",
    "    AND MOD(ABS(FARM_FINGERPRINT(CAST(pickup_datetime AS STRING))), 5000) = 1"
   ]
  },
  {
   "cell_type": "markdown",
   "metadata": {},
   "source": [
    "## Get training statistics\n",
    "\n",
    "Because the query uses a `CREATE MODEL` statement to create a table, you do not see query results. The output is an empty string.\n",
    "\n",
    "To get the training results we use the [`ML.TRAINING_INFO`](https://cloud.google.com/bigquery/docs/reference/standard-sql/bigqueryml-syntax-train) function."
   ]
  },
  {
   "cell_type": "markdown",
   "metadata": {},
   "source": [
    "#### **Exercise 2**\n",
    "\n",
    "After completing the exercise above, query the training information of the model you created. Have a look at [Step Three and Four of this tutorial](https://cloud.google.com/bigquery/docs/bigqueryml-natality) to see a similar example."
   ]
  },
  {
   "cell_type": "code",
   "execution_count": 9,
   "metadata": {},
   "outputs": [
    {
     "data": {
      "text/html": [
       "<div>\n",
       "<style scoped>\n",
       "    .dataframe tbody tr th:only-of-type {\n",
       "        vertical-align: middle;\n",
       "    }\n",
       "\n",
       "    .dataframe tbody tr th {\n",
       "        vertical-align: top;\n",
       "    }\n",
       "\n",
       "    .dataframe thead th {\n",
       "        text-align: right;\n",
       "    }\n",
       "</style>\n",
       "<table border=\"1\" class=\"dataframe\">\n",
       "  <thead>\n",
       "    <tr style=\"text-align: right;\">\n",
       "      <th></th>\n",
       "      <th>training_run</th>\n",
       "      <th>iteration</th>\n",
       "      <th>loss</th>\n",
       "      <th>eval_loss</th>\n",
       "      <th>duration_ms</th>\n",
       "      <th>learning_rate</th>\n",
       "    </tr>\n",
       "  </thead>\n",
       "  <tbody>\n",
       "    <tr>\n",
       "      <th>0</th>\n",
       "      <td>0</td>\n",
       "      <td>0</td>\n",
       "      <td>67.947115</td>\n",
       "      <td>61.568527</td>\n",
       "      <td>7737</td>\n",
       "      <td>None</td>\n",
       "    </tr>\n",
       "  </tbody>\n",
       "</table>\n",
       "</div>"
      ],
      "text/plain": [
       "   training_run  iteration       loss  eval_loss  duration_ms learning_rate\n",
       "0             0          0  67.947115  61.568527         7737          None"
      ]
     },
     "execution_count": 9,
     "metadata": {},
     "output_type": "execute_result"
    }
   ],
   "source": [
    "%%bigquery --project $PROJECT\n",
    "SELECT * FROM ML.TRAINING_INFO(MODEL `bqml_taxifare.taxifare_model`)"
   ]
  },
  {
   "cell_type": "code",
   "execution_count": 12,
   "metadata": {},
   "outputs": [],
   "source": [
    "import math"
   ]
  },
  {
   "cell_type": "code",
   "execution_count": 13,
   "metadata": {},
   "outputs": [
    {
     "data": {
      "text/plain": [
       "7.846018098373213"
      ]
     },
     "execution_count": 13,
     "metadata": {},
     "output_type": "execute_result"
    }
   ],
   "source": [
    "math.sqrt(61.56)"
   ]
  },
  {
   "cell_type": "code",
   "execution_count": 32,
   "metadata": {},
   "outputs": [],
   "source": [
    "import pandas as pd"
   ]
  },
  {
   "cell_type": "code",
   "execution_count": 35,
   "metadata": {},
   "outputs": [],
   "source": [
    "pd.set_option('max_colwidth', 500)"
   ]
  },
  {
   "cell_type": "code",
   "execution_count": 36,
   "metadata": {},
   "outputs": [
    {
     "data": {
      "text/html": [
       "<div>\n",
       "<style scoped>\n",
       "    .dataframe tbody tr th:only-of-type {\n",
       "        vertical-align: middle;\n",
       "    }\n",
       "\n",
       "    .dataframe tbody tr th {\n",
       "        vertical-align: top;\n",
       "    }\n",
       "\n",
       "    .dataframe thead th {\n",
       "        text-align: right;\n",
       "    }\n",
       "</style>\n",
       "<table border=\"1\" class=\"dataframe\">\n",
       "  <thead>\n",
       "    <tr style=\"text-align: right;\">\n",
       "      <th></th>\n",
       "      <th>processed_input</th>\n",
       "      <th>weight</th>\n",
       "      <th>category_weights</th>\n",
       "    </tr>\n",
       "  </thead>\n",
       "  <tbody>\n",
       "    <tr>\n",
       "      <th>0</th>\n",
       "      <td>pickup_datetime</td>\n",
       "      <td>-3.643556e-03</td>\n",
       "      <td>[]</td>\n",
       "    </tr>\n",
       "    <tr>\n",
       "      <th>1</th>\n",
       "      <td>_TS_DOM_pickup_datetime_</td>\n",
       "      <td>NaN</td>\n",
       "      <td>[{'weight': 646618.6757129618, 'category': '24'}, {'weight': 646615.1595253181, 'category': '29'}, {'weight': 646633.1371889696, 'category': '2'}, {'weight': 646630.4916722543, 'category': '6'}, {'weight': 646626.0274167692, 'category': '13'}, {'weight': 646616.1175227228, 'category': '28'}, {'weight': 646613.8295574095, 'category': '31'}, {'weight': 646617.5070314493, 'category': '26'}, {'weight': 646624.1350161489, 'category': '16'}, {'weight': 646627.3523314188, 'category': '11'}, {'weigh...</td>\n",
       "    </tr>\n",
       "    <tr>\n",
       "      <th>2</th>\n",
       "      <td>_TS_DOW_pickup_datetime_</td>\n",
       "      <td>NaN</td>\n",
       "      <td>[{'weight': 369971.15618007845, 'category': '1'}, {'weight': 370917.84581466904, 'category': '4'}, {'weight': 370602.12490909104, 'category': '3'}, {'weight': 370286.6179063039, 'category': '2'}, {'weight': 371548.87724017736, 'category': '6'}, {'weight': 371233.3688703623, 'category': '5'}, {'weight': 371863.89146920486, 'category': '7'}]</td>\n",
       "    </tr>\n",
       "    <tr>\n",
       "      <th>3</th>\n",
       "      <td>_TS_MOY_pickup_datetime_</td>\n",
       "      <td>NaN</td>\n",
       "      <td>[{'weight': 4388.3264854227, 'category': '2'}, {'weight': 4409.370579535744, 'category': '1'}, {'weight': 4369.628783872192, 'category': '3'}, {'weight': 4308.765215676613, 'category': '6'}, {'weight': 4186.4676492563285, 'category': '12'}, {'weight': 4248.481018348726, 'category': '9'}, {'weight': 4349.027581483285, 'category': '4'}, {'weight': 4228.462078193821, 'category': '10'}, {'weight': 4329.139478892471, 'category': '5'}, {'weight': 4268.18113580154, 'category': '8'}, {'weight': 4288...</td>\n",
       "    </tr>\n",
       "    <tr>\n",
       "      <th>4</th>\n",
       "      <td>_TS_HOD_pickup_datetime_</td>\n",
       "      <td>NaN</td>\n",
       "      <td>[{'weight': 225731.1876937495, 'category': '23'}, {'weight': 225483.75771075927, 'category': '4'}, {'weight': 225600.5762688305, 'category': '13'}, {'weight': 225455.8613171645, 'category': '2'}, {'weight': 225534.53068032349, 'category': '8'}, {'weight': 225639.87100509342, 'category': '16'}, {'weight': 225429.54122350787, 'category': '0'}, {'weight': 225520.9194517654, 'category': '7'}, {'weight': 225704.72143538503, 'category': '21'}, {'weight': 225508.6838667417, 'category': '6'}, {'weig...</td>\n",
       "    </tr>\n",
       "    <tr>\n",
       "      <th>5</th>\n",
       "      <td>_TS_MOH_pickup_datetime_</td>\n",
       "      <td>NaN</td>\n",
       "      <td>[{'weight': -540907.1479721608, 'category': '4'}, {'weight': -540903.568241017, 'category': '21'}, {'weight': -540895.7312393712, 'category': '58'}, {'weight': -540895.9348238638, 'category': '57'}, {'weight': -540904.7338864933, 'category': '15'}, {'weight': -540896.1567458245, 'category': '56'}, {'weight': -540896.9910593614, 'category': '52'}, {'weight': -540902.219370283, 'category': '28'}, {'weight': -540902.4427232106, 'category': '26'}, {'weight': -540905.5489315494, 'category': '14'}...</td>\n",
       "    </tr>\n",
       "    <tr>\n",
       "      <th>6</th>\n",
       "      <td>_TS_WOY_pickup_datetime_</td>\n",
       "      <td>NaN</td>\n",
       "      <td>[{'weight': 741365.494898644, 'category': '32'}, {'weight': 714866.5485716852, 'category': '20'}, {'weight': 723699.1725898319, 'category': '24'}, {'weight': 763447.6302289588, 'category': '42'}, {'weight': 785531.8760352385, 'category': '52'}, {'weight': 747989.7353488865, 'category': '35'}, {'weight': 730323.8773089226, 'category': '27'}, {'weight': 706033.1359433094, 'category': '16'}, {'weight': 778907.229302743, 'category': '49'}, {'weight': 675116.3389469517, 'category': '2'}, {'weight...</td>\n",
       "    </tr>\n",
       "    <tr>\n",
       "      <th>7</th>\n",
       "      <td>_TS_YEAR_pickup_datetime_</td>\n",
       "      <td>NaN</td>\n",
       "      <td>[{'weight': -453106.1708813785, 'category': '2014'}, {'weight': -338518.128512094, 'category': '2015'}, {'weight': -567694.0760911808, 'category': '2013'}, {'weight': -1028255.1349192577, 'category': '2009'}, {'weight': -799079.2095685905, 'category': '2011'}, {'weight': -684491.3728818798, 'category': '2012'}, {'weight': -913667.1676550742, 'category': '2010'}]</td>\n",
       "    </tr>\n",
       "    <tr>\n",
       "      <th>8</th>\n",
       "      <td>pickup_longitude</td>\n",
       "      <td>8.016266e+01</td>\n",
       "      <td>[]</td>\n",
       "    </tr>\n",
       "    <tr>\n",
       "      <th>9</th>\n",
       "      <td>pickup_latitude</td>\n",
       "      <td>-4.940728e+01</td>\n",
       "      <td>[]</td>\n",
       "    </tr>\n",
       "    <tr>\n",
       "      <th>10</th>\n",
       "      <td>dropoff_longitude</td>\n",
       "      <td>4.304737e+01</td>\n",
       "      <td>[]</td>\n",
       "    </tr>\n",
       "    <tr>\n",
       "      <th>11</th>\n",
       "      <td>dropoff_latitude</td>\n",
       "      <td>-3.554699e+01</td>\n",
       "      <td>[]</td>\n",
       "    </tr>\n",
       "    <tr>\n",
       "      <th>12</th>\n",
       "      <td>__INTERCEPT__</td>\n",
       "      <td>4.147715e+06</td>\n",
       "      <td>[]</td>\n",
       "    </tr>\n",
       "  </tbody>\n",
       "</table>\n",
       "</div>"
      ],
      "text/plain": [
       "              processed_input        weight  \\\n",
       "0             pickup_datetime -3.643556e-03   \n",
       "1    _TS_DOM_pickup_datetime_           NaN   \n",
       "2    _TS_DOW_pickup_datetime_           NaN   \n",
       "3    _TS_MOY_pickup_datetime_           NaN   \n",
       "4    _TS_HOD_pickup_datetime_           NaN   \n",
       "5    _TS_MOH_pickup_datetime_           NaN   \n",
       "6    _TS_WOY_pickup_datetime_           NaN   \n",
       "7   _TS_YEAR_pickup_datetime_           NaN   \n",
       "8            pickup_longitude  8.016266e+01   \n",
       "9             pickup_latitude -4.940728e+01   \n",
       "10          dropoff_longitude  4.304737e+01   \n",
       "11           dropoff_latitude -3.554699e+01   \n",
       "12              __INTERCEPT__  4.147715e+06   \n",
       "\n",
       "                                                                                                                                                                                                                                                                                                                                                                                                                                                                                                       category_weights  \n",
       "0                                                                                                                                                                                                                                                                                                                                                                                                                                                                                                                    []  \n",
       "1   [{'weight': 646618.6757129618, 'category': '24'}, {'weight': 646615.1595253181, 'category': '29'}, {'weight': 646633.1371889696, 'category': '2'}, {'weight': 646630.4916722543, 'category': '6'}, {'weight': 646626.0274167692, 'category': '13'}, {'weight': 646616.1175227228, 'category': '28'}, {'weight': 646613.8295574095, 'category': '31'}, {'weight': 646617.5070314493, 'category': '26'}, {'weight': 646624.1350161489, 'category': '16'}, {'weight': 646627.3523314188, 'category': '11'}, {'weigh...  \n",
       "2                                                                                                                                                                 [{'weight': 369971.15618007845, 'category': '1'}, {'weight': 370917.84581466904, 'category': '4'}, {'weight': 370602.12490909104, 'category': '3'}, {'weight': 370286.6179063039, 'category': '2'}, {'weight': 371548.87724017736, 'category': '6'}, {'weight': 371233.3688703623, 'category': '5'}, {'weight': 371863.89146920486, 'category': '7'}]  \n",
       "3   [{'weight': 4388.3264854227, 'category': '2'}, {'weight': 4409.370579535744, 'category': '1'}, {'weight': 4369.628783872192, 'category': '3'}, {'weight': 4308.765215676613, 'category': '6'}, {'weight': 4186.4676492563285, 'category': '12'}, {'weight': 4248.481018348726, 'category': '9'}, {'weight': 4349.027581483285, 'category': '4'}, {'weight': 4228.462078193821, 'category': '10'}, {'weight': 4329.139478892471, 'category': '5'}, {'weight': 4268.18113580154, 'category': '8'}, {'weight': 4288...  \n",
       "4   [{'weight': 225731.1876937495, 'category': '23'}, {'weight': 225483.75771075927, 'category': '4'}, {'weight': 225600.5762688305, 'category': '13'}, {'weight': 225455.8613171645, 'category': '2'}, {'weight': 225534.53068032349, 'category': '8'}, {'weight': 225639.87100509342, 'category': '16'}, {'weight': 225429.54122350787, 'category': '0'}, {'weight': 225520.9194517654, 'category': '7'}, {'weight': 225704.72143538503, 'category': '21'}, {'weight': 225508.6838667417, 'category': '6'}, {'weig...  \n",
       "5   [{'weight': -540907.1479721608, 'category': '4'}, {'weight': -540903.568241017, 'category': '21'}, {'weight': -540895.7312393712, 'category': '58'}, {'weight': -540895.9348238638, 'category': '57'}, {'weight': -540904.7338864933, 'category': '15'}, {'weight': -540896.1567458245, 'category': '56'}, {'weight': -540896.9910593614, 'category': '52'}, {'weight': -540902.219370283, 'category': '28'}, {'weight': -540902.4427232106, 'category': '26'}, {'weight': -540905.5489315494, 'category': '14'}...  \n",
       "6   [{'weight': 741365.494898644, 'category': '32'}, {'weight': 714866.5485716852, 'category': '20'}, {'weight': 723699.1725898319, 'category': '24'}, {'weight': 763447.6302289588, 'category': '42'}, {'weight': 785531.8760352385, 'category': '52'}, {'weight': 747989.7353488865, 'category': '35'}, {'weight': 730323.8773089226, 'category': '27'}, {'weight': 706033.1359433094, 'category': '16'}, {'weight': 778907.229302743, 'category': '49'}, {'weight': 675116.3389469517, 'category': '2'}, {'weight...  \n",
       "7                                                                                                                                          [{'weight': -453106.1708813785, 'category': '2014'}, {'weight': -338518.128512094, 'category': '2015'}, {'weight': -567694.0760911808, 'category': '2013'}, {'weight': -1028255.1349192577, 'category': '2009'}, {'weight': -799079.2095685905, 'category': '2011'}, {'weight': -684491.3728818798, 'category': '2012'}, {'weight': -913667.1676550742, 'category': '2010'}]  \n",
       "8                                                                                                                                                                                                                                                                                                                                                                                                                                                                                                                    []  \n",
       "9                                                                                                                                                                                                                                                                                                                                                                                                                                                                                                                    []  \n",
       "10                                                                                                                                                                                                                                                                                                                                                                                                                                                                                                                   []  \n",
       "11                                                                                                                                                                                                                                                                                                                                                                                                                                                                                                                   []  \n",
       "12                                                                                                                                                                                                                                                                                                                                                                                                                                                                                                                   []  "
      ]
     },
     "execution_count": 36,
     "metadata": {},
     "output_type": "execute_result"
    }
   ],
   "source": [
    "%%bigquery --project $PROJECT\n",
    "SELECT * FROM \n",
    "ML.WEIGHTS(MODEL `bqml_taxifare.taxifare_model`)"
   ]
  },
  {
   "cell_type": "markdown",
   "metadata": {},
   "source": [
    "'eval_loss' is reported as mean squared error. Your RMSE should be about **8.29**. Your results may vary."
   ]
  },
  {
   "cell_type": "markdown",
   "metadata": {},
   "source": [
    "## Predict\n",
    "\n",
    "To use our model to make predictions, we use `ML.PREDICT`\n",
    "\n",
    "#### **Exercise 3**\n",
    "\n",
    "Lastly, use the `taxifare_model` you trained above to infer the cost of a taxi ride that occurs at 10:00 am on January 3rd, 2014 going\n",
    "from the Google Office in New York (latitude: 40.7434, longitude: -74.0080) to the JFK airport (latitude: 40.6413, longitude: -73.7781)\n",
    "\n",
    "**Hint**: Have a look at [Step Five of this tutorial](https://cloud.google.com/bigquery/docs/bigqueryml-natality) if you get stuck or if you want to see another example."
   ]
  },
  {
   "cell_type": "code",
   "execution_count": 16,
   "metadata": {},
   "outputs": [
    {
     "data": {
      "text/html": [
       "<div>\n",
       "<style scoped>\n",
       "    .dataframe tbody tr th:only-of-type {\n",
       "        vertical-align: middle;\n",
       "    }\n",
       "\n",
       "    .dataframe tbody tr th {\n",
       "        vertical-align: top;\n",
       "    }\n",
       "\n",
       "    .dataframe thead th {\n",
       "        text-align: right;\n",
       "    }\n",
       "</style>\n",
       "<table border=\"1\" class=\"dataframe\">\n",
       "  <thead>\n",
       "    <tr style=\"text-align: right;\">\n",
       "      <th></th>\n",
       "      <th>predicted_fare_amount</th>\n",
       "    </tr>\n",
       "  </thead>\n",
       "  <tbody>\n",
       "    <tr>\n",
       "      <th>0</th>\n",
       "      <td>22.03639</td>\n",
       "    </tr>\n",
       "  </tbody>\n",
       "</table>\n",
       "</div>"
      ],
      "text/plain": [
       "   predicted_fare_amount\n",
       "0               22.03639"
      ]
     },
     "execution_count": 16,
     "metadata": {},
     "output_type": "execute_result"
    }
   ],
   "source": [
    "%%bigquery --project $PROJECT\n",
    "SELECT predicted_fare_amount \n",
    "FROM\n",
    "ML.PREDICT(MODEL `bqml_taxifare.taxifare_model`,\n",
    "          (SELECT\n",
    "          40.7434 as pickup_latitude,\n",
    "          -74.0080 as pickup_longitude,\n",
    "          40.6413 as dropoff_latitude,\n",
    "          -73.7781 as dropoff_longitude,\n",
    "           TIMESTAMP \"2014-01-03 10:00:00\" as pickup_datetime\n",
    "          ))"
   ]
  },
  {
   "cell_type": "code",
   "execution_count": 20,
   "metadata": {},
   "outputs": [
    {
     "data": {
      "text/html": [
       "<div>\n",
       "<style scoped>\n",
       "    .dataframe tbody tr th:only-of-type {\n",
       "        vertical-align: middle;\n",
       "    }\n",
       "\n",
       "    .dataframe tbody tr th {\n",
       "        vertical-align: top;\n",
       "    }\n",
       "\n",
       "    .dataframe thead th {\n",
       "        text-align: right;\n",
       "    }\n",
       "</style>\n",
       "<table border=\"1\" class=\"dataframe\">\n",
       "  <thead>\n",
       "    <tr style=\"text-align: right;\">\n",
       "      <th></th>\n",
       "      <th>predicted_fare_amount</th>\n",
       "    </tr>\n",
       "  </thead>\n",
       "  <tbody>\n",
       "    <tr>\n",
       "      <th>0</th>\n",
       "      <td>21.917126</td>\n",
       "    </tr>\n",
       "  </tbody>\n",
       "</table>\n",
       "</div>"
      ],
      "text/plain": [
       "   predicted_fare_amount\n",
       "0              21.917126"
      ]
     },
     "execution_count": 20,
     "metadata": {},
     "output_type": "execute_result"
    }
   ],
   "source": [
    "%%bigquery --project $PROJECT\n",
    "SELECT predicted_fare_amount \n",
    "FROM\n",
    "ML.PREDICT(MODEL `bqml_taxifare.taxifare_model`,\n",
    "          (SELECT\n",
    "          40.7434 as pickup_latitude,\n",
    "          -74.0080 as pickup_longitude,\n",
    "          40.6413 as dropoff_latitude,\n",
    "          -73.7781 as dropoff_longitude,\n",
    "           TIMESTAMP \"2015-01-03 10:00:00\" as pickup_datetime\n",
    "          ))"
   ]
  },
  {
   "cell_type": "code",
   "execution_count": 23,
   "metadata": {},
   "outputs": [
    {
     "data": {
      "text/html": [
       "<div>\n",
       "<style scoped>\n",
       "    .dataframe tbody tr th:only-of-type {\n",
       "        vertical-align: middle;\n",
       "    }\n",
       "\n",
       "    .dataframe tbody tr th {\n",
       "        vertical-align: top;\n",
       "    }\n",
       "\n",
       "    .dataframe thead th {\n",
       "        text-align: right;\n",
       "    }\n",
       "</style>\n",
       "<table border=\"1\" class=\"dataframe\">\n",
       "  <thead>\n",
       "    <tr style=\"text-align: right;\">\n",
       "      <th></th>\n",
       "      <th>predicted_fare_amount</th>\n",
       "    </tr>\n",
       "  </thead>\n",
       "  <tbody>\n",
       "    <tr>\n",
       "      <th>0</th>\n",
       "      <td>22.869389</td>\n",
       "    </tr>\n",
       "  </tbody>\n",
       "</table>\n",
       "</div>"
      ],
      "text/plain": [
       "   predicted_fare_amount\n",
       "0              22.869389"
      ]
     },
     "execution_count": 23,
     "metadata": {},
     "output_type": "execute_result"
    }
   ],
   "source": [
    "%%bigquery --project $PROJECT\n",
    "SELECT predicted_fare_amount \n",
    "FROM\n",
    "ML.PREDICT(MODEL `bqml_taxifare.taxifare_model`,\n",
    "          (SELECT\n",
    "          40.7434 as pickup_latitude,\n",
    "          -74.0080 as pickup_longitude,\n",
    "          40.6413 as dropoff_latitude,\n",
    "          -73.7781 as dropoff_longitude,\n",
    "           TIMESTAMP \"2015-06-30 10:00:00\" as pickup_datetime\n",
    "          ))"
   ]
  },
  {
   "cell_type": "code",
   "execution_count": 27,
   "metadata": {},
   "outputs": [
    {
     "data": {
      "text/html": [
       "<div>\n",
       "<style scoped>\n",
       "    .dataframe tbody tr th:only-of-type {\n",
       "        vertical-align: middle;\n",
       "    }\n",
       "\n",
       "    .dataframe tbody tr th {\n",
       "        vertical-align: top;\n",
       "    }\n",
       "\n",
       "    .dataframe thead th {\n",
       "        text-align: right;\n",
       "    }\n",
       "</style>\n",
       "<table border=\"1\" class=\"dataframe\">\n",
       "  <thead>\n",
       "    <tr style=\"text-align: right;\">\n",
       "      <th></th>\n",
       "      <th>predicted_fare_amount</th>\n",
       "    </tr>\n",
       "  </thead>\n",
       "  <tbody>\n",
       "    <tr>\n",
       "      <th>0</th>\n",
       "      <td>23.413213</td>\n",
       "    </tr>\n",
       "  </tbody>\n",
       "</table>\n",
       "</div>"
      ],
      "text/plain": [
       "   predicted_fare_amount\n",
       "0              23.413213"
      ]
     },
     "execution_count": 27,
     "metadata": {},
     "output_type": "execute_result"
    }
   ],
   "source": [
    "%%bigquery --project $PROJECT\n",
    "SELECT predicted_fare_amount \n",
    "FROM\n",
    "ML.PREDICT(MODEL `bqml_taxifare.taxifare_model`,\n",
    "          (SELECT\n",
    "          40.7434 as pickup_latitude,\n",
    "          -74.0080 as pickup_longitude,\n",
    "          40.6413 as dropoff_latitude,\n",
    "          -73.7781 as dropoff_longitude,\n",
    "           TIMESTAMP \"2015-10-01 10:00:00\" as pickup_datetime\n",
    "          ))"
   ]
  },
  {
   "cell_type": "code",
   "execution_count": 29,
   "metadata": {},
   "outputs": [
    {
     "data": {
      "text/html": [
       "<div>\n",
       "<style scoped>\n",
       "    .dataframe tbody tr th:only-of-type {\n",
       "        vertical-align: middle;\n",
       "    }\n",
       "\n",
       "    .dataframe tbody tr th {\n",
       "        vertical-align: top;\n",
       "    }\n",
       "\n",
       "    .dataframe thead th {\n",
       "        text-align: right;\n",
       "    }\n",
       "</style>\n",
       "<table border=\"1\" class=\"dataframe\">\n",
       "  <thead>\n",
       "    <tr style=\"text-align: right;\">\n",
       "      <th></th>\n",
       "      <th>predicted_fare_amount</th>\n",
       "    </tr>\n",
       "  </thead>\n",
       "  <tbody>\n",
       "    <tr>\n",
       "      <th>0</th>\n",
       "      <td>23.286171</td>\n",
       "    </tr>\n",
       "  </tbody>\n",
       "</table>\n",
       "</div>"
      ],
      "text/plain": [
       "   predicted_fare_amount\n",
       "0              23.286171"
      ]
     },
     "execution_count": 29,
     "metadata": {},
     "output_type": "execute_result"
    }
   ],
   "source": [
    "%%bigquery --project $PROJECT\n",
    "SELECT predicted_fare_amount \n",
    "FROM\n",
    "ML.PREDICT(MODEL `bqml_taxifare.taxifare_model`,\n",
    "          (SELECT\n",
    "          40.7434 as pickup_latitude,\n",
    "          -74.0080 as pickup_longitude,\n",
    "          40.6413 as dropoff_latitude,\n",
    "          -73.7781 as dropoff_longitude,\n",
    "           TIMESTAMP \"2015-12-31 10:00:00\" as pickup_datetime\n",
    "          ))"
   ]
  },
  {
   "cell_type": "code",
   "execution_count": 30,
   "metadata": {},
   "outputs": [
    {
     "data": {
      "text/html": [
       "<div>\n",
       "<style scoped>\n",
       "    .dataframe tbody tr th:only-of-type {\n",
       "        vertical-align: middle;\n",
       "    }\n",
       "\n",
       "    .dataframe tbody tr th {\n",
       "        vertical-align: top;\n",
       "    }\n",
       "\n",
       "    .dataframe thead th {\n",
       "        text-align: right;\n",
       "    }\n",
       "</style>\n",
       "<table border=\"1\" class=\"dataframe\">\n",
       "  <thead>\n",
       "    <tr style=\"text-align: right;\">\n",
       "      <th></th>\n",
       "      <th>predicted_fare_amount</th>\n",
       "    </tr>\n",
       "  </thead>\n",
       "  <tbody>\n",
       "    <tr>\n",
       "      <th>0</th>\n",
       "      <td>223952.713805</td>\n",
       "    </tr>\n",
       "  </tbody>\n",
       "</table>\n",
       "</div>"
      ],
      "text/plain": [
       "   predicted_fare_amount\n",
       "0          223952.713805"
      ]
     },
     "execution_count": 30,
     "metadata": {},
     "output_type": "execute_result"
    }
   ],
   "source": [
    "%%bigquery --project $PROJECT\n",
    "SELECT predicted_fare_amount \n",
    "FROM\n",
    "ML.PREDICT(MODEL `bqml_taxifare.taxifare_model`,\n",
    "          (SELECT\n",
    "          40.7434 as pickup_latitude,\n",
    "          -74.0080 as pickup_longitude,\n",
    "          40.6413 as dropoff_latitude,\n",
    "          -73.7781 as dropoff_longitude,\n",
    "           TIMESTAMP \"2016-01-01 10:00:00\" as pickup_datetime\n",
    "          ))"
   ]
  },
  {
   "cell_type": "markdown",
   "metadata": {},
   "source": [
    "## Recap\n",
    "\n",
    "The value of BQML is its ease of use:\n",
    "\n",
    "- We created a model with just two additional lines of SQL\n",
    "- We never had to move our data out of BigQuery\n",
    "- We didn't need to use an ML Framework or code, just SQL\n",
    "\n",
    "There's lots of work going on behind the scenes make this look easy. For example BQML is automatically creating a training/evaluation split, tuning our learning rate,  and one-hot encoding features if neccesary. When we move to TensorFlow these are all things we'll need to do ourselves. \n",
    "\n",
    "This notebook was just to inspire usagage of BQML, the current model is actually very poor. We'll prove this in the next lesson by beating it with a simple heuristic. \n",
    "\n",
    "We could improve our model considerably with some feature engineering but we'll save that for a future lesson. Also there are additional BQML functions such as `ML.WEIGHTS` and `ML.EVALUATE` that we haven't even explored. If you're interested in learning more about BQML I encourage you to [read the offical docs](https://cloud.google.com/bigquery/docs/bigqueryml).\n",
    "\n",
    "From here on out we'll focus on pulling data out of BigQuery and building models using TensorFlow, which is more effort but also offers much more flexibility."
   ]
  },
  {
   "cell_type": "code",
   "execution_count": null,
   "metadata": {},
   "outputs": [],
   "source": []
  },
  {
   "cell_type": "markdown",
   "metadata": {},
   "source": [
    "Copyright 2019 Google Inc.\n",
    "Licensed under the Apache License, Version 2.0 (the \"License\"); you may not use this file except in compliance with the License. You may obtain a copy of the License at\n",
    "http://www.apache.org/licenses/LICENSE-2.0\n",
    "Unless required by applicable law or agreed to in writing, software distributed under the License is distributed on an \"AS IS\" BASIS, WITHOUT WARRANTIES OR CONDITIONS OF ANY KIND, either express or implied. See the License for the specific language governing permissions and limitations under the License."
   ]
  }
 ],
 "metadata": {
  "kernelspec": {
   "display_name": "Python 3",
   "language": "python",
   "name": "python3"
  },
  "language_info": {
   "codemirror_mode": {
    "name": "ipython",
    "version": 3
   },
   "file_extension": ".py",
   "mimetype": "text/x-python",
   "name": "python",
   "nbconvert_exporter": "python",
   "pygments_lexer": "ipython3",
   "version": "3.5.3"
  }
 },
 "nbformat": 4,
 "nbformat_minor": 2
}
