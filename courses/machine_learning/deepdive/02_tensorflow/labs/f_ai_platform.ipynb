{
 "cells": [
  {
   "cell_type": "markdown",
   "metadata": {},
   "source": [
    "# Introducing AI Platform Training Service\n",
    "**Learning Objectives:**\n",
    "  - Learn how to make code compatible with AI Platform Training Service\n",
    "  - Train your model using cloud infrastructure via AI Platform Training Service\n",
    "  - Deploy your model behind a production grade REST API using AI Platform Training Service\n",
    "\n",
    "## Introduction\n",
    "\n",
    "In this notebook we'll make the jump from training and predicting locally, to do doing both in the cloud. We'll take advantage of Google Cloud's [AI Platform Training Service](https://cloud.google.com/ai-platform/). \n",
    "\n",
    "AI Platform Training Service is a managed service that allows the training and deployment of ML models without having to provision or maintain servers. The infrastructure is handled seamlessly by the managed service for us."
   ]
  },
  {
   "cell_type": "code",
   "execution_count": 1,
   "metadata": {},
   "outputs": [
    {
     "name": "stdout",
     "output_type": "stream",
     "text": [
      "Ign:1 http://deb.debian.org/debian stretch InRelease\n",
      "Hit:2 http://security.debian.org stretch/updates InRelease\n",
      "Hit:3 http://deb.debian.org/debian stretch-updates InRelease\n",
      "Hit:4 http://deb.debian.org/debian stretch-backports InRelease\n",
      "Hit:5 http://deb.debian.org/debian stretch Release\n",
      "Hit:7 http://packages.cloud.google.com/apt cloud-sdk-stretch InRelease\n",
      "Hit:8 https://download.docker.com/linux/debian stretch InRelease\n",
      "Hit:9 https://nvidia.github.io/libnvidia-container/debian9/amd64  InRelease\n",
      "Hit:10 https://nvidia.github.io/nvidia-container-runtime/debian9/amd64  InRelease\n",
      "Hit:11 https://nvidia.github.io/nvidia-docker/debian9/amd64  InRelease\n",
      "Hit:12 https://deb.nodesource.com/node_11.x stretch InRelease\n",
      "Hit:13 http://packages.cloud.google.com/apt google-compute-engine-stretch-stable InRelease\n",
      "Hit:6 https://packages.cloud.google.com/apt kubernetes-xenial InRelease\n",
      "Hit:14 http://packages.cloud.google.com/apt google-cloud-packages-archive-keyring-stretch InRelease\n",
      "Reading package lists... Done\n",
      "Reading package lists... Done\n",
      "Building dependency tree       \n",
      "Reading state information... Done\n",
      "google-cloud-sdk is already the newest version (254.0.0-0).\n",
      "0 upgraded, 0 newly installed, 0 to remove and 2 not upgraded.\n"
     ]
    }
   ],
   "source": [
    "# Ensure we have the latest version of gcloud installed\n",
    "!sudo apt-get update && sudo apt-get --only-upgrade install google-cloud-sdk"
   ]
  },
  {
   "cell_type": "markdown",
   "metadata": {},
   "source": [
    "## Make code compatible with AI Platform Training Service\n",
    "In order to make our code compatible with AI Platform Training Service we need to make the following changes:\n",
    "\n",
    "1. Upload data to Google Cloud Storage \n",
    "2. Move code into a Python package\n",
    "3. Modify code to read data from and write checkpoint files to GCS "
   ]
  },
  {
   "cell_type": "markdown",
   "metadata": {},
   "source": [
    "### Upload data to Google Cloud Storage (GCS)\n",
    "\n",
    "Cloud services don't have access to our local files, so we need to upload them to a location the Cloud servers can read from. In this case we'll use GCS.\n",
    "\n",
    "Specify your project name and bucket name in the cell below."
   ]
  },
  {
   "cell_type": "code",
   "execution_count": 2,
   "metadata": {},
   "outputs": [],
   "source": [
    "PROJECT = \"qwiklabs-gcp-636667ae83e902b6\"  # Replace with your PROJECT\n",
    "BUCKET = \"qwiklabs-gcp-636667ae83e902b6_al\"  # Replace with your BUCKET\n",
    "REGION = \"us-east1\"            # Choose an available region for AI Platform Training Service\n",
    "TFVERSION = \"1.13\"                # TF version for AI Platform Training Service to use"
   ]
  },
  {
   "cell_type": "markdown",
   "metadata": {},
   "source": [
    "Jupyter allows the subsitution of python variables into bash commands when using the `!<cmd>` format.\n",
    "It is also possible using the `%%bash` magic but requires an [additional parameter](https://stackoverflow.com/questions/19579546/can-i-access-python-variables-within-a-bash-or-script-ipython-notebook-c). "
   ]
  },
  {
   "cell_type": "code",
   "execution_count": 3,
   "metadata": {},
   "outputs": [
    {
     "name": "stdout",
     "output_type": "stream",
     "text": [
      "Updated property [core/project].\n",
      "Creating gs://qwiklabs-gcp-636667ae83e902b6_al/...\n",
      "ServiceException: 409 Bucket qwiklabs-gcp-636667ae83e902b6_al already exists.\n",
      "Copying file://taxi-valid.csv [Content-Type=text/csv]...\n",
      "Copying file://test.csv [Content-Type=text/csv]...\n",
      "Copying file://taxi-test.csv [Content-Type=text/csv]...\n",
      "Copying file://taxi-train.csv [Content-Type=text/csv]...\n",
      "\\\n",
      "Operation completed over 4 objects/10.9 MiB.                                     \n"
     ]
    }
   ],
   "source": [
    "!gcloud config set project {PROJECT}\n",
    "!gsutil mb -l {REGION} gs://{BUCKET}\n",
    "!gsutil -m cp *.csv gs://{BUCKET}/taxifare/smallinput/"
   ]
  },
  {
   "cell_type": "markdown",
   "metadata": {},
   "source": [
    "### Move code into a python package\n",
    "\n",
    "When you execute a AI Platform Training Service training job, the service zips up your code and ships it to the Cloud so it can be run on Cloud infrastructure. In order to do this AI Platform Training Service requires your code to be a Python package.\n",
    "\n",
    "A Python package is simply a collection of one or more `.py` files along with an `__init__.py` file to identify the containing directory as a package. The `__init__.py` sometimes contains initialization code but for our purposes an empty file suffices."
   ]
  },
  {
   "cell_type": "markdown",
   "metadata": {},
   "source": [
    "#### Create Package Directory and \\_\\_init\\_\\_.py\n",
    "\n",
    "The bash command `touch` creates an empty file in the specified location."
   ]
  },
  {
   "cell_type": "code",
   "execution_count": 4,
   "metadata": {},
   "outputs": [
    {
     "name": "stderr",
     "output_type": "stream",
     "text": [
      "mkdir: cannot create directory ‘taxifaremodel’: File exists\n"
     ]
    }
   ],
   "source": [
    "%%bash\n",
    "mkdir taxifaremodel\n",
    "touch taxifaremodel/__init__.py"
   ]
  },
  {
   "cell_type": "markdown",
   "metadata": {},
   "source": [
    "#### Paste existing code into model.py\n",
    "\n",
    "A Python package requires our code to be in a .py file, as opposed to notebook cells. So we simply copy and paste our existing code for the previous notebook into a single file.\n",
    "\n",
    "The %%writefile magic writes the contents of its cell to disk with the specified name."
   ]
  },
  {
   "cell_type": "markdown",
   "metadata": {},
   "source": [
    "#### **Exercise 1**\n",
    "\n",
    "In the cell below, write the content of the `model.py` to the file `taxifaremodel/model.py`. This will allow us to package the model we \n",
    "developed in the previous labs so that we can deploy it to AI Platform Training Service. You'll also need to reuse the input functions and the `EvalSpec`, `TrainSpec`, `RunConfig`, etc. that we implemented in the previous labs.\n",
    "\n",
    "Complete all the TODOs in the cell below by copy/pasting the code we developed in the previous labs. This will write all the necessary components we developed in our notebook to a single `model.py` file. \n",
    "\n",
    "Once we have the code running well locally, we will execute the next cells to train and deploy your packaged model to AI Platform Training Service."
   ]
  },
  {
   "cell_type": "code",
   "execution_count": 23,
   "metadata": {},
   "outputs": [
    {
     "name": "stdout",
     "output_type": "stream",
     "text": [
      "Overwriting taxifaremodel/model.py\n"
     ]
    }
   ],
   "source": [
    "%%writefile taxifaremodel/model.py\n",
    "# TODO: Your code goes here. Import the necessary libraries (e.g. tensorflow, etc)\n",
    "\n",
    "import tensorflow as tf\n",
    "import shutil\n",
    "\n",
    "CSV_COLUMN_NAMES = [\"fare_amount\",\"dayofweek\",\"hourofday\",\"pickuplon\",\"pickuplat\",\"dropofflon\",\"dropofflat\"]\n",
    "CSV_DEFAULTS = [[0.0],[1],[0],[-74.0], [40.0], [-74.0], [40.7]]\n",
    "FEATURE_NAMES = CSV_COLUMN_NAMES[1:]\n",
    "\n",
    "def parse_row(row):\n",
    "    fields = tf.decode_csv(records = row, record_defaults = CSV_DEFAULTS)\n",
    "    features = dict(zip(CSV_COLUMN_NAMES, fields))\n",
    "    label = features.pop(\"fare_amount\")\n",
    "    return features, label\n",
    "\n",
    "def read_dataset(csv_path):\n",
    "    dataset = tf.data.Dataset.list_files(file_pattern = csv_path)\n",
    "    dataset = dataset.flat_map(lambda filename: tf.data.TextLineDataset(filenames = filename).skip(count = 1))\n",
    "    dataset = dataset.map(map_func = parse_row)\n",
    "    return dataset\n",
    "\n",
    "def train_input_fn(csv_path, batch_size = 128):\n",
    "    dataset = read_dataset(csv_path)\n",
    "    dataset = dataset.shuffle(buffer_size = 1000).repeat(count = None).batch(batch_size = batch_size)\n",
    "    return dataset\n",
    "\n",
    "def eval_input_fn(csv_path, batch_size = 128):\n",
    "    dataset = read_dataset(csv_path)\n",
    "    dataset = dataset.batch(batch_size = batch_size)\n",
    "    return dataset\n",
    "\n",
    "def serving_input_receiver_fn():\n",
    "    receiver_tensors = {\"dayofweek\": tf.placeholder(shape=None, dtype=tf.int8),\n",
    "                        \"hourofday\": tf.placeholder(shape=None, dtype=tf.int8),\n",
    "                        \"pickuplon\": tf.placeholder(shape=None, dtype=tf.float32),\n",
    "                        \"pickuplat\": tf.placeholder(shape=None, dtype=tf.float32),\n",
    "                        \"dropofflon\": tf.placeholder(shape=None, dtype=tf.float32),\n",
    "                        \"dropofflat\": tf.placeholder(shape=None, dtype=tf.float32)\n",
    "                       }\n",
    "    features = receiver_tensors\n",
    "    return tf.estimator.export.ServingInputReceiver(features = features, receiver_tensors = receiver_tensors)  \n",
    "    \n",
    "def my_rmse(labels, predictions):\n",
    "    pred_values = tf.squeeze(input = predictions[\"predictions\"], axis = -1)\n",
    "    return {\n",
    "        \"rmse\": tf.metrics.root_mean_squared_error(labels, pred_values)\n",
    "    }\n",
    "\n",
    "def create_model(model_dir, train_steps):\n",
    "    feature_cols = [tf.feature_column.numeric_column(key = k) for k in FEATURE_NAMES]\n",
    "    model = tf.estimator.DNNRegressor(\n",
    "    hidden_units = [10,10], # specify neural architecture\n",
    "    feature_columns = feature_cols, \n",
    "    config = tf.estimator.RunConfig(\n",
    "        model_dir = model_dir,\n",
    "        tf_random_seed = 1,\n",
    "        save_checkpoints_steps = 100\n",
    "    )\n",
    ")\n",
    "    return model\n",
    "\n",
    "def train_and_evaluate(params):\n",
    "    OUTDIR = params[\"output_dir\"]\n",
    "    TRAIN_DATA_PATH = params[\"train_data_path\"]\n",
    "    EVAL_DATA_PATH = params[\"eval_data_path\"]\n",
    "    TRAIN_STEPS = params[\"train_steps\"]\n",
    "\n",
    "    model = create_model(OUTDIR, TRAIN_STEPS) \n",
    "\n",
    "    train_spec = tf.estimator.TrainSpec(\n",
    "        input_fn = lambda: train_input_fn(TRAIN_DATA_PATH),\n",
    "        max_steps = TRAIN_STEPS\n",
    "    )\n",
    "    \n",
    "    exporter = tf.estimator.BestExporter(\"exporter\", lambda: serving_input_receiver_fn())\n",
    "\n",
    "    eval_spec = tf.estimator.EvalSpec(lambda: eval_input_fn(EVAL_DATA_PATH),\n",
    "                                 exporters=exporter,\n",
    "                                 start_delay_secs=1, \n",
    "                                 throttle_secs=1)\n",
    "\n",
    "    tf.logging.set_verbosity(tf.logging.INFO) \n",
    "    shutil.rmtree(path = OUTDIR, ignore_errors = True)\n",
    "\n",
    "    tf.estimator.train_and_evaluate(estimator = model, train_spec = train_spec, eval_spec = eval_spec)"
   ]
  },
  {
   "cell_type": "markdown",
   "metadata": {},
   "source": [
    "### Modify code to read data from and write checkpoint files to GCS \n",
    "\n",
    "If you look closely above, you'll notice two changes to the code\n",
    "\n",
    "1. The input function now supports reading a list of files matching a file name pattern instead of just a single CSV\n",
    "  - This is useful because large datasets tend to exist in shards.\n",
    "2. The train and evaluate portion is wrapped in a function that takes a parameter dictionary as an argument.\n",
    "  - This is useful because the output directory, data paths and number of train steps will be different depending on whether we're training locally or in the cloud. Parametrizing allows us to use the same code for both.\n",
    "\n",
    "We specify these parameters at run time via the command line. Which means we need to add code to parse command line parameters and invoke `train_and_evaluate()` with those params. This is the job of the `task.py` file. \n",
    "\n",
    "Exposing parameters to the command line also allows us to use AI Platform Training Service's automatic hyperparameter tuning feature which we'll cover in a future lesson."
   ]
  },
  {
   "cell_type": "markdown",
   "metadata": {},
   "source": [
    "#### **Exercise 2**\n",
    "\n",
    "Add two additional command line parameter parsers to the list we've started below. You should add code to parse command line parameters for the `output_dir` and the `job-dir`. Look at the examples below to make sure you have the correct format, including a `help` description and `required` specification."
   ]
  },
  {
   "cell_type": "code",
   "execution_count": 24,
   "metadata": {},
   "outputs": [
    {
     "name": "stdout",
     "output_type": "stream",
     "text": [
      "Overwriting taxifaremodel/task.py\n"
     ]
    }
   ],
   "source": [
    "%%writefile taxifaremodel/task.py\n",
    "import argparse\n",
    "import json\n",
    "import os\n",
    "\n",
    "from . import model\n",
    "\n",
    "if __name__ == \"__main__\":\n",
    "    \n",
    "    parser = argparse.ArgumentParser()\n",
    "    \n",
    "    parser.add_argument(\n",
    "        \"--train_data_path\",\n",
    "        help = \"GCS or local path to training data\",\n",
    "        required = True\n",
    "    )\n",
    "    parser.add_argument(\n",
    "        \"--train_steps\",\n",
    "        help = \"Steps to run the training job for (default: 1000)\",\n",
    "        type = int,\n",
    "        default = 1000\n",
    "    )\n",
    "    parser.add_argument(\n",
    "        \"--eval_data_path\",\n",
    "        help = \"GCS or local path to evaluation data\",\n",
    "        required = True\n",
    "    )\n",
    "    parser.add_argument(\n",
    "        \"--output_dir\",\n",
    "        help = \"GCS or local path to output directory\",\n",
    "        required = True\n",
    "    )\n",
    "    parser.add_argument(\n",
    "        \"--job-dir\",\n",
    "        help = \"GCS path to upload package to\",\n",
    "        required = False\n",
    "    )\n",
    "    args = parser.parse_args().__dict__\n",
    "\n",
    "    model.train_and_evaluate(args)"
   ]
  },
  {
   "cell_type": "markdown",
   "metadata": {},
   "source": [
    "## Train using AI Platform Training Service (local)\n",
    "\n",
    "AI Platform Training Service comes with a local test tool ([`gcloud ai-platform local train`](https://cloud.google.com/sdk/gcloud/reference/ml-engine/local/train)) to ensure we've packaged our code directly. It's best to first run that for a few steps before trying a Cloud job. \n",
    "\n",
    "The arguments before `-- \\` are for AI Platform Training Service\n",
    "- package-path: speficies the location of the Python package\n",
    "- module-name: specifies which `.py` file should be run within the package. `task.py` is our entry point so we specify that\n",
    "\n",
    "The arguments after `-- \\` are sent to our `task.py`."
   ]
  },
  {
   "cell_type": "code",
   "execution_count": 7,
   "metadata": {},
   "outputs": [
    {
     "name": "stdout",
     "output_type": "stream",
     "text": [
      "WARNING: Logging before flag parsing goes to stderr.\n",
      "W0718 14:11:03.132180 139965577356736 deprecation_wrapper.py:119] From taxifaremodel/model.py:81: The name tf.logging.set_verbosity is deprecated. Please use tf.compat.v1.logging.set_verbosity instead.\n",
      "\n",
      "W0718 14:11:03.133155 139965577356736 deprecation_wrapper.py:119] From taxifaremodel/model.py:81: The name tf.logging.INFO is deprecated. Please use tf.compat.v1.logging.INFO instead.\n",
      "\n",
      "I0718 14:11:03.134637 139965577356736 estimator_training.py:186] Not using Distribute Coordinator.\n",
      "I0718 14:11:03.134974 139965577356736 training.py:612] Running training and evaluation locally (non-distributed).\n",
      "I0718 14:11:03.135417 139965577356736 training.py:700] Start train and evaluate loop. The evaluate will happen after every checkpoint. Checkpoint frequency is determined based on RunConfig arguments: save_checkpoints_steps 100 or save_checkpoints_secs None.\n",
      "W0718 14:11:03.163832 139965577356736 deprecation.py:323] From /usr/local/lib/python2.7/dist-packages/tensorflow/python/training/training_util.py:236: initialized_value (from tensorflow.python.ops.variables) is deprecated and will be removed in a future version.\n",
      "Instructions for updating:\n",
      "Use Variable.read_value. Variables in 2.X are initialized automatically both in eager and graph (inside tf.defun) contexts.\n",
      "W0718 14:11:03.207407 139965577356736 deprecation_wrapper.py:119] From taxifaremodel/model.py:11: The name tf.decode_csv is deprecated. Please use tf.io.decode_csv instead.\n",
      "\n",
      "W0718 14:11:03.226969 139965577356736 deprecation.py:323] From /usr/local/lib/python2.7/dist-packages/tensorflow/python/data/util/random_seed.py:58: where (from tensorflow.python.ops.array_ops) is deprecated and will be removed in a future version.\n",
      "Instructions for updating:\n",
      "Use tf.where in 2.0, which has the same broadcast rule as np.where\n",
      "I0718 14:11:03.240796 139965577356736 estimator.py:1145] Calling model_fn.\n",
      "W0718 14:11:03.247351 139965577356736 deprecation.py:506] From /usr/local/lib/python2.7/dist-packages/tensorflow/python/ops/init_ops.py:1251: calling __init__ (from tensorflow.python.ops.init_ops) with dtype is deprecated and will be removed in a future version.\n",
      "Instructions for updating:\n",
      "Call initializer instance with the dtype argument instead of passing it to the constructor\n",
      "W0718 14:11:04.336942 139965577356736 deprecation.py:323] From /usr/local/lib/python2.7/dist-packages/tensorflow_estimator/python/estimator/canned/head.py:437: to_float (from tensorflow.python.ops.math_ops) is deprecated and will be removed in a future version.\n",
      "Instructions for updating:\n",
      "Use `tf.cast` instead.\n",
      "W0718 14:11:04.424448 139965577356736 deprecation.py:506] From /usr/local/lib/python2.7/dist-packages/tensorflow/python/training/adagrad.py:76: calling __init__ (from tensorflow.python.ops.init_ops) with dtype is deprecated and will be removed in a future version.\n",
      "Instructions for updating:\n",
      "Call initializer instance with the dtype argument instead of passing it to the constructor\n",
      "I0718 14:11:04.468708 139965577356736 estimator.py:1147] Done calling model_fn.\n",
      "I0718 14:11:04.469156 139965577356736 basic_session_run_hooks.py:541] Create CheckpointSaverHook.\n",
      "I0718 14:11:04.670253 139965577356736 monitored_session.py:240] Graph was finalized.\n",
      "2019-07-18 14:11:04.670730: I tensorflow/core/platform/cpu_feature_guard.cc:145] This TensorFlow binary is optimized with Intel(R) MKL-DNN to use the following CPU instructions in performance critical operations:  AVX2 FMA\n",
      "To enable them in non-MKL-DNN operations, rebuild TensorFlow with the appropriate compiler flags.\n",
      "2019-07-18 14:11:04.680948: I tensorflow/core/platform/profile_utils/cpu_utils.cc:94] CPU Frequency: 2200000000 Hz\n",
      "2019-07-18 14:11:04.681410: I tensorflow/compiler/xla/service/service.cc:168] XLA service 0x55ded81a4010 executing computations on platform Host. Devices:\n",
      "2019-07-18 14:11:04.681469: I tensorflow/compiler/xla/service/service.cc:175]   StreamExecutor device (0): <undefined>, <undefined>\n",
      "2019-07-18 14:11:04.682113: I tensorflow/core/common_runtime/process_util.cc:115] Creating new thread pool with default inter op setting: 2. Tune using inter_op_parallelism_threads for best performance.\n",
      "2019-07-18 14:11:04.722743: W tensorflow/compiler/jit/mark_for_compilation_pass.cc:1412] (One-time warning): Not using XLA:CPU for cluster because envvar TF_XLA_FLAGS=--tf_xla_cpu_global_jit was not set.  If you want XLA:CPU, either set that envvar, or use experimental_jit_scope to enable XLA:CPU.  To confirm that XLA is active, pass --vmodule=xla_compilation_cache=1 (as a proper command-line flag, not via TF_XLA_FLAGS) or set the envvar XLA_FLAGS=--xla_hlo_profile.\n",
      "I0718 14:11:04.782685 139965577356736 session_manager.py:500] Running local_init_op.\n",
      "I0718 14:11:04.792752 139965577356736 session_manager.py:502] Done running local_init_op.\n",
      "I0718 14:11:05.105191 139965577356736 basic_session_run_hooks.py:606] Saving checkpoints for 0 into taxi_trained/model.ckpt.\n",
      "I0718 14:11:05.688174 139965577356736 basic_session_run_hooks.py:262] loss = 161460.7, step = 1\n",
      "I0718 14:11:05.688896 139965577356736 basic_session_run_hooks.py:606] Saving checkpoints for 1 into taxi_trained/model.ckpt.\n",
      "I0718 14:11:05.794348 139965577356736 estimator.py:1145] Calling model_fn.\n",
      "I0718 14:11:06.109944 139965577356736 estimator.py:1147] Done calling model_fn.\n",
      "I0718 14:11:06.130407 139965577356736 evaluation.py:255] Starting evaluation at 2019-07-18T14:11:06Z\n",
      "I0718 14:11:06.375623 139965577356736 monitored_session.py:240] Graph was finalized.\n",
      "W0718 14:11:06.376296 139965577356736 deprecation.py:323] From /usr/local/lib/python2.7/dist-packages/tensorflow/python/training/saver.py:1276: checkpoint_exists (from tensorflow.python.training.checkpoint_management) is deprecated and will be removed in a future version.\n",
      "Instructions for updating:\n",
      "Use standard file APIs to check for files with this prefix.\n",
      "I0718 14:11:06.378375 139965577356736 saver.py:1280] Restoring parameters from taxi_trained/model.ckpt-1\n",
      "I0718 14:11:06.454511 139965577356736 session_manager.py:500] Running local_init_op.\n",
      "I0718 14:11:06.489783 139965577356736 session_manager.py:502] Done running local_init_op.\n",
      "I0718 14:11:06.928539 139965577356736 evaluation.py:167] Evaluation [10/100]\n",
      "I0718 14:11:07.002577 139965577356736 evaluation.py:167] Evaluation [20/100]\n",
      "I0718 14:11:07.089278 139965577356736 evaluation.py:167] Evaluation [30/100]\n",
      "I0718 14:11:07.165271 139965577356736 evaluation.py:167] Evaluation [40/100]\n",
      "I0718 14:11:07.247359 139965577356736 evaluation.py:167] Evaluation [50/100]\n",
      "I0718 14:11:07.325009 139965577356736 evaluation.py:167] Evaluation [60/100]\n",
      "I0718 14:11:07.407275 139965577356736 evaluation.py:167] Evaluation [70/100]\n",
      "I0718 14:11:07.472584 139965577356736 evaluation.py:167] Evaluation [80/100]\n",
      "I0718 14:11:07.532640 139965577356736 evaluation.py:167] Evaluation [90/100]\n",
      "I0718 14:11:07.614701 139965577356736 evaluation.py:167] Evaluation [100/100]\n",
      "I0718 14:11:07.685887 139965577356736 evaluation.py:275] Finished evaluation at 2019-07-18-14:11:07\n",
      "I0718 14:11:07.686319 139965577356736 estimator.py:2039] Saving dict for global step 1: average_loss = 366.49664, global_step = 1, label/mean = 11.276162, loss = 46911.57, prediction/mean = 28.031494\n",
      "I0718 14:11:07.779489 139965577356736 estimator.py:2099] Saving 'checkpoint_path' summary for global step 1: taxi_trained/model.ckpt-1\n",
      "I0718 14:11:07.781029 139965577356736 exporter.py:288] Loading best metric from event files.\n",
      "W0718 14:11:07.787827 139965577356736 deprecation.py:323] From /usr/local/lib/python2.7/dist-packages/tensorflow/python/summary/summary_iterator.py:68: tf_record_iterator (from tensorflow.python.lib.io.tf_record) is deprecated and will be removed in a future version.\n",
      "Instructions for updating:\n",
      "Use eager execution and: \n",
      "`tf.data.TFRecordDataset(path)`\n",
      "I0718 14:11:07.863013 139965577356736 estimator.py:368] Loss for final step: 161460.7.\n",
      "CPU times: user 236 ms, sys: 88 ms, total: 324 ms\n",
      "Wall time: 7.28 s\n"
     ]
    }
   ],
   "source": [
    "%%time\n",
    "!gcloud ai-platform local train \\\n",
    "    --package-path=taxifaremodel \\\n",
    "    --module-name=taxifaremodel.task \\\n",
    "    -- \\\n",
    "    --train_data_path=taxi-train.csv \\\n",
    "    --eval_data_path=taxi-valid.csv  \\\n",
    "    --train_steps=1 \\\n",
    "    --output_dir=taxi_trained "
   ]
  },
  {
   "cell_type": "markdown",
   "metadata": {},
   "source": [
    "## Train using AI Platform Training Service (Cloud)\n",
    "\n",
    "To submit to the Cloud we use [`gcloud ai-platform jobs submit training [jobname]`](https://cloud.google.com/sdk/gcloud/reference/ml-engine/jobs/submit/training) and simply specify some additional parameters for AI Platform Training Service:\n",
    "- jobname: A unique identifier for the Cloud job. We usually append system time to ensure uniqueness\n",
    "- job-dir: A GCS location to upload the Python package to\n",
    "- runtime-version: Version of TF to use. Defaults to 1.0 if not specified\n",
    "- python-version: Version of Python to use. Defaults to 2.7 if not specified\n",
    "- region: Cloud region to train in. See [here](https://cloud.google.com/ml-engine/docs/tensorflow/regions) for supported AI Platform Training Service regions\n",
    "\n",
    "Below the `-- \\` note how we've changed our `task.py` args to be GCS locations"
   ]
  },
  {
   "cell_type": "code",
   "execution_count": 8,
   "metadata": {},
   "outputs": [],
   "source": [
    "OUTDIR = \"gs://{}/taxifare/trained_small\".format(BUCKET)"
   ]
  },
  {
   "cell_type": "code",
   "execution_count": 9,
   "metadata": {},
   "outputs": [
    {
     "name": "stdout",
     "output_type": "stream",
     "text": [
      "Removing gs://qwiklabs-gcp-636667ae83e902b6_al/taxifare/trained_small/export/#1563458400131467...\n",
      "Removing gs://qwiklabs-gcp-636667ae83e902b6_al/taxifare/trained_small/#1563458458109209...\n",
      "Removing gs://qwiklabs-gcp-636667ae83e902b6_al/taxifare/trained_small/eval/#1563458381213898...\n",
      "Removing gs://qwiklabs-gcp-636667ae83e902b6_al/taxifare/trained_small/export/exporter/#1563458400308282...\n",
      "Removing gs://qwiklabs-gcp-636667ae83e902b6_al/taxifare/trained_small/export/exporter/1563458399/#1563458404896118...\n",
      "Removing gs://qwiklabs-gcp-636667ae83e902b6_al/taxifare/trained_small/export/exporter/1563458399/variables/variables.data-00000-of-00002#1563458405349097...\n",
      "Removing gs://qwiklabs-gcp-636667ae83e902b6_al/taxifare/trained_small/eval/events.out.tfevents.1563458381.cmle-training-16679181861595005068#1563458464225651...\n",
      "Removing gs://qwiklabs-gcp-636667ae83e902b6_al/taxifare/trained_small/export/exporter/1563458399/saved_model.pb#1563458405047540...\n",
      "Removing gs://qwiklabs-gcp-636667ae83e902b6_al/taxifare/trained_small/export/exporter/1563458399/variables/variables.data-00001-of-00002#1563458405497591...\n",
      "Removing gs://qwiklabs-gcp-636667ae83e902b6_al/taxifare/trained_small/checkpoint#1563458459874221...\n",
      "Removing gs://qwiklabs-gcp-636667ae83e902b6_al/taxifare/trained_small/events.out.tfevents.1563458365.cmle-training-16679181861595005068#1563458464424176...\n",
      "Removing gs://qwiklabs-gcp-636667ae83e902b6_al/taxifare/trained_small/model.ckpt-1000.data-00000-of-00002#1563458458948881...\n",
      "Removing gs://qwiklabs-gcp-636667ae83e902b6_al/taxifare/trained_small/model.ckpt-1000.data-00001-of-00002#1563458458714928...\n",
      "Removing gs://qwiklabs-gcp-636667ae83e902b6_al/taxifare/trained_small/export/exporter/1563458399/variables/variables.index#1563458405695344...\n",
      "Removing gs://qwiklabs-gcp-636667ae83e902b6_al/taxifare/trained_small/model.ckpt-1000.index#1563458459251315...\n",
      "Removing gs://qwiklabs-gcp-636667ae83e902b6_al/taxifare/trained_small/model.ckpt-600.data-00000-of-00002#1563458425694242...\n",
      "Removing gs://qwiklabs-gcp-636667ae83e902b6_al/taxifare/trained_small/graph.pbtxt#1563458366604031...\n",
      "Removing gs://qwiklabs-gcp-636667ae83e902b6_al/taxifare/trained_small/export/exporter/1563458399/variables/#1563458405204762...\n",
      "Removing gs://qwiklabs-gcp-636667ae83e902b6_al/taxifare/trained_small/model.ckpt-1000.meta#1563458460863926...\n",
      "Removing gs://qwiklabs-gcp-636667ae83e902b6_al/taxifare/trained_small/model.ckpt-600.data-00001-of-00002#1563458425412665...\n",
      "Removing gs://qwiklabs-gcp-636667ae83e902b6_al/taxifare/trained_small/model.ckpt-600.index#1563458425898285...\n",
      "Removing gs://qwiklabs-gcp-636667ae83e902b6_al/taxifare/trained_small/model.ckpt-600.meta#1563458427548384...\n",
      "Removing gs://qwiklabs-gcp-636667ae83e902b6_al/taxifare/trained_small/model.ckpt-700.data-00000-of-00002#1563458434107485...\n",
      "Removing gs://qwiklabs-gcp-636667ae83e902b6_al/taxifare/trained_small/model.ckpt-700.data-00001-of-00002#1563458433792303...\n",
      "Removing gs://qwiklabs-gcp-636667ae83e902b6_al/taxifare/trained_small/model.ckpt-700.index#1563458434346123...\n",
      "Removing gs://qwiklabs-gcp-636667ae83e902b6_al/taxifare/trained_small/model.ckpt-700.meta#1563458435873459...\n",
      "Removing gs://qwiklabs-gcp-636667ae83e902b6_al/taxifare/trained_small/model.ckpt-800.data-00000-of-00002#1563458442265922...\n",
      "Removing gs://qwiklabs-gcp-636667ae83e902b6_al/taxifare/trained_small/model.ckpt-800.data-00001-of-00002#1563458442030136...\n",
      "Removing gs://qwiklabs-gcp-636667ae83e902b6_al/taxifare/trained_small/model.ckpt-800.index#1563458442496721...\n",
      "Removing gs://qwiklabs-gcp-636667ae83e902b6_al/taxifare/trained_small/model.ckpt-800.meta#1563458444175698...\n",
      "Removing gs://qwiklabs-gcp-636667ae83e902b6_al/taxifare/trained_small/model.ckpt-900.data-00000-of-00002#1563458450585586...\n",
      "Removing gs://qwiklabs-gcp-636667ae83e902b6_al/taxifare/trained_small/model.ckpt-900.data-00001-of-00002#1563458450360819...\n",
      "Removing gs://qwiklabs-gcp-636667ae83e902b6_al/taxifare/trained_small/model.ckpt-900.meta#1563458452301809...\n",
      "Removing gs://qwiklabs-gcp-636667ae83e902b6_al/taxifare/trained_small/model.ckpt-900.index#1563458450791504...\n",
      "/ [34/34 objects] 100% Done                                                     \n",
      "Operation completed over 34 objects.                                             \n",
      "Job [taxifare_190718_141110] submitted successfully.\n",
      "Your job is still active. You may view the status of your job with the command\n",
      "\n",
      "  $ gcloud ai-platform jobs describe taxifare_190718_141110\n",
      "\n",
      "or continue streaming the logs with the command\n",
      "\n",
      "  $ gcloud ai-platform jobs stream-logs taxifare_190718_141110\n",
      "jobId: taxifare_190718_141110\n",
      "state: QUEUED\n"
     ]
    }
   ],
   "source": [
    "!gsutil -m rm -rf {OUTDIR} # start fresh each time\n",
    "!gcloud ai-platform jobs submit training taxifare_$(date -u +%y%m%d_%H%M%S) \\\n",
    "    --package-path=taxifaremodel \\\n",
    "    --module-name=taxifaremodel.task \\\n",
    "    --job-dir=gs://{BUCKET}/taxifare \\\n",
    "    --python-version=3.5 \\\n",
    "    --runtime-version={TFVERSION} \\\n",
    "    --region={REGION} \\\n",
    "    -- \\\n",
    "    --train_data_path=gs://{BUCKET}/taxifare/smallinput/taxi-train.csv \\\n",
    "    --eval_data_path=gs://{BUCKET}/taxifare/smallinput/taxi-valid.csv  \\\n",
    "    --train_steps=1000 \\\n",
    "    --output_dir={OUTDIR}"
   ]
  },
  {
   "cell_type": "markdown",
   "metadata": {},
   "source": [
    "You can track your job and view logs using [cloud console](https://console.cloud.google.com/mlengine/jobs). It will take 5-10 minutes to complete. **Wait until the job finishes before moving on.**"
   ]
  },
  {
   "cell_type": "markdown",
   "metadata": {},
   "source": [
    "## Deploy model\n",
    "\n",
    "Now let's take our exported SavedModel and deploy it behind a REST API. To do so we'll use AI Platform Training Service's managed TF Serving feature which auto-scales based on load."
   ]
  },
  {
   "cell_type": "code",
   "execution_count": 16,
   "metadata": {},
   "outputs": [
    {
     "name": "stdout",
     "output_type": "stream",
     "text": [
      "gs://qwiklabs-gcp-636667ae83e902b6_al/taxifare/trained_small/export/exporter/\n",
      "gs://qwiklabs-gcp-636667ae83e902b6_al/taxifare/trained_small/export/exporter/1563459228/\n"
     ]
    }
   ],
   "source": [
    "!gsutil ls gs://{BUCKET}/taxifare/trained_small/export/exporter"
   ]
  },
  {
   "cell_type": "markdown",
   "metadata": {},
   "source": [
    "AI Platform Training Service uses a model versioning system. First you create a model folder, and within the folder you create versions of the model. \n",
    "\n",
    "Note: You will see an error below if the model folder already exists, it is safe to ignore"
   ]
  },
  {
   "cell_type": "code",
   "execution_count": 17,
   "metadata": {},
   "outputs": [
    {
     "name": "stdout",
     "output_type": "stream",
     "text": [
      "\u001b[1;31mERROR:\u001b[0m (gcloud.ai-platform.models.create) Resource in project [qwiklabs-gcp-636667ae83e902b6] is the subject of a conflict: Field: model.name Error: A model with the same name already exists.\n",
      "- '@type': type.googleapis.com/google.rpc.BadRequest\n",
      "  fieldViolations:\n",
      "  - description: A model with the same name already exists.\n",
      "    field: model.name\n",
      "\u001b[1;31mERROR:\u001b[0m (gcloud.ai-platform.versions.delete) NOT_FOUND: Field: name Error: The specified model version was not found.\n",
      "- '@type': type.googleapis.com/google.rpc.BadRequest\n",
      "  fieldViolations:\n",
      "  - description: The specified model version was not found.\n",
      "    field: name\n",
      "Creating version (this might take a few minutes)......done.\n"
     ]
    }
   ],
   "source": [
    "VERSION='v2'\n",
    "!gcloud ai-platform models create taxifare --regions us-central1\n",
    "!gcloud ai-platform versions delete {VERSION} --model taxifare --quiet\n",
    "!gcloud ai-platform versions create {VERSION} --model taxifare \\\n",
    "    --origin $(gsutil ls gs://{BUCKET}/taxifare/trained_small/export/exporter | tail -1) \\\n",
    "    --python-version=3.5 \\\n",
    "    --runtime-version {TFVERSION}"
   ]
  },
  {
   "cell_type": "markdown",
   "metadata": {},
   "source": [
    "## Online prediction\n",
    "\n",
    "Now that we have deployed our model behind a production grade REST API, we can invoke it remotely. \n",
    "\n",
    "We could invoke it directly calling the REST API with an HTTP POST request [reference docs](https://cloud.google.com/ml-engine/reference/rest/v1/projects/predict), however AI Platform Training Service provides an easy way to invoke it via command line."
   ]
  },
  {
   "cell_type": "markdown",
   "metadata": {},
   "source": [
    "### Invoke prediction REST API via command line\n",
    "First we write our prediction requests to file in json format"
   ]
  },
  {
   "cell_type": "code",
   "execution_count": 18,
   "metadata": {},
   "outputs": [
    {
     "name": "stdout",
     "output_type": "stream",
     "text": [
      "Overwriting ./test.json\n"
     ]
    }
   ],
   "source": [
    "%%writefile ./test.json\n",
    "{\"dayofweek\": 1, \"hourofday\": 0, \"pickuplon\": -73.885262, \"pickuplat\": 40.773008, \"dropofflon\": -73.987232, \"dropofflat\": 40.732403}"
   ]
  },
  {
   "cell_type": "markdown",
   "metadata": {},
   "source": [
    "Then we use [`gcloud ai-platform predict`](https://cloud.google.com/sdk/gcloud/reference/ml-engine/predict) and specify the model name and location of the json file. Since we don't explicitly specify `--version`, the default model version will be used. \n",
    "\n",
    "Since we only have one version it is already the default, but if we had multiple model versions we can designate the default using [`gcloud ai-platform versions set-default`](https://cloud.google.com/sdk/gcloud/reference/ml-engine/versions/set-default) or using [cloud console](https://pantheon.corp.google.com/mlengine/models)"
   ]
  },
  {
   "cell_type": "code",
   "execution_count": 19,
   "metadata": {},
   "outputs": [
    {
     "name": "stdout",
     "output_type": "stream",
     "text": [
      "PREDICTIONS\n",
      "[9.371866226196289]\n"
     ]
    }
   ],
   "source": [
    "!gcloud ai-platform predict --model=taxifare --json-instances=./test.json"
   ]
  },
  {
   "cell_type": "markdown",
   "metadata": {},
   "source": [
    "### Invoke prediction REST API via python"
   ]
  },
  {
   "cell_type": "markdown",
   "metadata": {},
   "source": [
    "#### **Exercise 3**\n",
    "\n",
    "In the cell below, use the Google Python client library to query the model you just deployed on AI Platform Training Service. Find the estimated taxi fare for a ride with the following properties\n",
    "- ride occurs on Monday\n",
    "- at 8:00 am\n",
    "- pick up at (40.773, -73.885)\n",
    "- drop off at (40.732, -73.987)\n",
    "\n",
    "Have a look at this post and examples on [\"Using the Python Client Library\"](https://cloud.google.com/ml-engine/docs/tensorflow/python-client-library) and [\"Getting Online Predictions\"](https://cloud.google.com/ml-engine/docs/tensorflow/online-predict) from Google Cloud."
   ]
  },
  {
   "cell_type": "code",
   "execution_count": 14,
   "metadata": {},
   "outputs": [],
   "source": [
    "# No idea whether they're using \"monday = 0\" or \"monday = 1\" convention. Flip a coin. "
   ]
  },
  {
   "cell_type": "code",
   "execution_count": 22,
   "metadata": {},
   "outputs": [
    {
     "name": "stdout",
     "output_type": "stream",
     "text": [
      "Predicted fare = $10.68\n"
     ]
    }
   ],
   "source": [
    "from googleapiclient import discovery\n",
    "from oauth2client.client import GoogleCredentials\n",
    "import json\n",
    "\n",
    "credentials = GoogleCredentials.get_application_default()\n",
    "api = discovery.build('ml', 'v1', credentials=credentials)\n",
    "\n",
    "request_data = {\"instances\":\n",
    "  [\n",
    "      {\n",
    "        'pickuplat': 40.773,\n",
    "        'pickuplon': -73.885,\n",
    "        'dropofflat': 40.732,\n",
    "        'dropofflon': -73.987,\n",
    "        'dayofweek': 1,\n",
    "        'hourofday': 8  \n",
    "      }\n",
    "  ]\n",
    "}\n",
    "\n",
    "parent = 'projects/%s/models/%s/versions/%s' % (PROJECT, 'taxifare', 'v2')\n",
    "response = api.projects().predict(body=request_data, name=parent).execute()\n",
    "print(\"Predicted fare = $%s\" % round(response['predictions'][0]['predictions'][0], 2))"
   ]
  },
  {
   "cell_type": "markdown",
   "metadata": {},
   "source": [
    "## Challenge exercise\n",
    "\n",
    "Modify your solution to the challenge exercise in e_traineval.ipynb appropriately. Make sure that you implement training and deployment. Increase the size of your dataset by 10x since you are running on the cloud. Does your accuracy improve?"
   ]
  },
  {
   "cell_type": "markdown",
   "metadata": {},
   "source": [
    "Copyright 2019 Google Inc. Licensed under the Apache License, Version 2.0 (the \"License\"); you may not use this file except in compliance with the License. You may obtain a copy of the License at http://www.apache.org/licenses/LICENSE-2.0 Unless required by applicable law or agreed to in writing, software distributed under the License is distributed on an \"AS IS\" BASIS, WITHOUT WARRANTIES OR CONDITIONS OF ANY KIND, either express or implied. See the License for the specific language governing permissions and limitations under the License"
   ]
  }
 ],
 "metadata": {
  "kernelspec": {
   "display_name": "Python 3",
   "language": "python",
   "name": "python3"
  },
  "language_info": {
   "codemirror_mode": {
    "name": "ipython",
    "version": 3
   },
   "file_extension": ".py",
   "mimetype": "text/x-python",
   "name": "python",
   "nbconvert_exporter": "python",
   "pygments_lexer": "ipython3",
   "version": "3.5.3"
  }
 },
 "nbformat": 4,
 "nbformat_minor": 2
}
