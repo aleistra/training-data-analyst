{
 "cells": [
  {
   "cell_type": "markdown",
   "metadata": {},
   "source": [
    "# Distributed Training\n",
    "\n",
    "**Learning Objectives**\n",
    "  - Use AI Platform Training Service to run a distributed training job\n",
    "\n",
    "## Introduction\n",
    "\n",
    "In the previous notebook we trained our model on AI Platform Training Service, but we didn't recieve any benefit. In fact it was much slower to train on the Cloud (5-10 minutes) than it was to train locally! Why is this?\n",
    "\n",
    "**1. The job was too small**\n",
    "\n",
    "AI Platform Training Service provisions hardware on-demand. This is good because it means you only pay for what you use, but for small jobs it means the start up time for the hardware is longer than the training time itself!\n",
    "\n",
    "To address this we'll use a dataset that is 100x as big, and enough steps to go through all the data at least once.\n",
    "\n",
    "**2. The hardware was too small**\n",
    "\n",
    "By default AI Platform Training Service jobs train on an [n1-standard-4](https://cloud.google.com/compute/docs/machine-types#standard_machine_types) instance, which isn't that much more powerful than our local VM. And even if it was we could [easily increase the specs](https://cloud.google.com/compute/docs/instances/changing-machine-type-of-stopped-instance) of our local VM to match.\n",
    "\n",
    "To get the most benefit out of AI Platform Training Service we need to move beyond training on a single instance and instead train across multiple machines.\n",
    "\n",
    "Because we're using `tf.estimator.train_and_evaluate()`, our model already knows how to distribute itself while training! So all we need to do is supply a `--scale-tier` parameter to the AI Platform Training Service train job which will provide the distributed training environment. See the different scale tiers avaialable [here](https://cloud.google.com/ml-engine/docs/tensorflow/machine-types#scale_tiers). \n",
    "\n",
    "We will use STANDARD_1 which corresponds to  1 n1-highcpu-8 master instance, 4 n1-highcpu-8 worker instances, and n1-standard-4 3 parameter servers. We will cover the details of the distribution strategy and why there are master/worker/parameter designations later in the course. \n",
    "\n",
    "Training will take about 20 minutes"
   ]
  },
  {
   "cell_type": "code",
   "execution_count": 1,
   "metadata": {},
   "outputs": [],
   "source": [
    "PROJECT = \"qwiklabs-gcp-636667ae83e902b6\"  # Replace with your PROJECT\n",
    "BUCKET = \"qwiklabs-gcp-636667ae83e902b6_al\"  # Replace with your BUCKET\n",
    "REGION = \"us-east1\"            # Choose an available region for AI Platform Training Service\n",
    "TFVERSION = \"1.13\"                # TF version for AI Platform Training Service to use"
   ]
  },
  {
   "cell_type": "markdown",
   "metadata": {},
   "source": [
    "## Run distributed cloud job\n",
    "\n",
    "After having testing our training pipeline both locally and in the cloud on a susbset of the data, we'll now submit another (much larger) training job to the cloud. The `gcloud` command is almost exactly the same though we'll need to alter some of the previous parameters to point our training job at the much larger dataset. \n",
    "\n",
    "Note the `train_data_path` and `eval_data_path` in the Exercise code below as well `train_steps`, the number of training steps.\n",
    "\n",
    "To start, we'll set up our output directory as before, now calling it `trained_large`. Then we submit the training job using `gcloud ml-engine` similar to before. "
   ]
  },
  {
   "cell_type": "markdown",
   "metadata": {},
   "source": [
    "#### **Exercise 1**\n",
    "\n",
    "In the cell below, we will submit another (much larger) training job to the cloud. However, this time we'll alter some of the previous parameters. Fill in the missing code in the TODOs below. You can reference the previous `f_ai_platform` notebook if you get stuck. Note that, now we will want to include an additional parameter for `scale-tier` to specify the distributed training environment. You can follow these links to read more about [\"Using Distributed TensorFlow with Cloud ML Engine\"](https://cloud.google.com/ml-engine/docs/tensorflow/distributed-tensorflow-mnist-cloud-datalab) or [\"Specifying Machine Types or Scale Tiers\"](https://cloud.google.com/ml-engine/docs/tensorflow/machine-types#scale_tiers).\n",
    "\n",
    "#### **Exercise 2**\n",
    "Notice how our `train_data_path` contains a wildcard character. This means we're going to be reading in a list of sharded files, modify your `read_dataset()` function in the `model.py` to handle this (or verify it already does)."
   ]
  },
  {
   "cell_type": "code",
   "execution_count": 3,
   "metadata": {},
   "outputs": [
    {
     "name": "stdout",
     "output_type": "stream",
     "text": [
      "Removing gs://qwiklabs-gcp-636667ae83e902b6_al/taxifare/trained_large/#1563460248536546...\n",
      "Removing gs://qwiklabs-gcp-636667ae83e902b6_al/taxifare/trained_large/events.out.tfevents.1563460214.cmle-training-master-6ac2bb8d24-0-bfg9t#1563460215163743...\n",
      "Removing gs://qwiklabs-gcp-636667ae83e902b6_al/taxifare/trained_large/events.out.tfevents.1563460222.cmle-training-worker-6ac2bb8d24-0-s64v2#1563460222554110...\n",
      "Removing gs://qwiklabs-gcp-636667ae83e902b6_al/taxifare/trained_large/model.ckpt-240.data-00001-of-00004#1563460250252109...\n",
      "Removing gs://qwiklabs-gcp-636667ae83e902b6_al/taxifare/trained_large/graph.pbtxt#1563460240395080...\n",
      "Removing gs://qwiklabs-gcp-636667ae83e902b6_al/taxifare/trained_large/model.ckpt-240.index#1563460250803330...\n",
      "Removing gs://qwiklabs-gcp-636667ae83e902b6_al/taxifare/trained_large/model.ckpt-0.data-00003-of-00004#1563460243235436...\n",
      "Removing gs://qwiklabs-gcp-636667ae83e902b6_al/taxifare/trained_large/model.ckpt-240.data-00003-of-00004#1563460249716293...\n",
      "Removing gs://qwiklabs-gcp-636667ae83e902b6_al/taxifare/trained_large/model.ckpt-240.data-00000-of-00004#1563460250518840...\n",
      "Removing gs://qwiklabs-gcp-636667ae83e902b6_al/taxifare/trained_large/checkpoint#1563460251740090...\n",
      "Removing gs://qwiklabs-gcp-636667ae83e902b6_al/taxifare/trained_large/model.ckpt-0.index#1563460244310579...\n",
      "Removing gs://qwiklabs-gcp-636667ae83e902b6_al/taxifare/trained_large/model.ckpt-0.data-00000-of-00004#1563460244030089...\n",
      "Removing gs://qwiklabs-gcp-636667ae83e902b6_al/taxifare/trained_large/model.ckpt-0.data-00001-of-00004#1563460243513260...\n",
      "Removing gs://qwiklabs-gcp-636667ae83e902b6_al/taxifare/trained_large/model.ckpt-0.meta#1563460245886148...\n",
      "Removing gs://qwiklabs-gcp-636667ae83e902b6_al/taxifare/trained_large/model.ckpt-240.meta#1563460252389731...\n",
      "Removing gs://qwiklabs-gcp-636667ae83e902b6_al/taxifare/trained_large/model.ckpt-0.data-00002-of-00004#1563460243773399...\n",
      "Removing gs://qwiklabs-gcp-636667ae83e902b6_al/taxifare/trained_large/model.ckpt-240.data-00002-of-00004#1563460249961143...\n",
      "/ [17/17 objects] 100% Done                                                     \n",
      "Operation completed over 17 objects.                                             \n",
      "Job [taxifare_large_190718_143427] submitted successfully.\n",
      "Your job is still active. You may view the status of your job with the command\n",
      "\n",
      "  $ gcloud ai-platform jobs describe taxifare_large_190718_143427\n",
      "\n",
      "or continue streaming the logs with the command\n",
      "\n",
      "  $ gcloud ai-platform jobs stream-logs taxifare_large_190718_143427\n",
      "jobId: taxifare_large_190718_143427\n",
      "state: QUEUED\n"
     ]
    }
   ],
   "source": [
    "OUTDIR = \"gs://{}/taxifare/trained_large\".format(BUCKET)\n",
    "!gsutil -m rm -rf {OUTDIR} # start fresh each time\n",
    "!gcloud ai-platform jobs submit training taxifare_large_$(date -u +%y%m%d_%H%M%S) \\\n",
    "    --package-path=taxifaremodel \\\n",
    "    --module-name=taxifaremodel.task \\\n",
    "    --job-dir=gs://{BUCKET}/taxifare \\\n",
    "    --python-version=3.5 \\\n",
    "    --runtime-version={TFVERSION} \\\n",
    "    --region={REGION} \\\n",
    "    --scale-tier=STANDARD_1 \\\n",
    "    -- \\\n",
    "    --train_data_path=gs://{BUCKET}/taxifare/large/taxi-train-*.csv \\\n",
    "    --eval_data_path=gs://{BUCKET}/taxifare/smallinput/taxi-valid.csv  \\\n",
    "    --train_steps=200000 \\\n",
    "    --output_dir={OUTDIR}"
   ]
  },
  {
   "cell_type": "code",
   "execution_count": 4,
   "metadata": {},
   "outputs": [
    {
     "name": "stdout",
     "output_type": "stream",
     "text": [
      "\u001b[1;31mERROR:\u001b[0m (gcloud.ai-platform.models.create) Resource in project [qwiklabs-gcp-636667ae83e902b6] is the subject of a conflict: Field: model.name Error: A model with the same name already exists.\n",
      "- '@type': type.googleapis.com/google.rpc.BadRequest\n",
      "  fieldViolations:\n",
      "  - description: A model with the same name already exists.\n",
      "    field: model.name\n",
      "\u001b[1;31mERROR:\u001b[0m (gcloud.ai-platform.versions.delete) NOT_FOUND: Field: name Error: The specified model version was not found.\n",
      "- '@type': type.googleapis.com/google.rpc.BadRequest\n",
      "  fieldViolations:\n",
      "  - description: The specified model version was not found.\n",
      "    field: name\n",
      "Creating version (this might take a few minutes)......done.\n"
     ]
    }
   ],
   "source": [
    "VERSION='v1'\n",
    "!gcloud ai-platform models create taxifare --regions us-central1\n",
    "!gcloud ai-platform versions delete {VERSION} --model taxifare --quiet\n",
    "!gcloud ai-platform versions create {VERSION} --model taxifare \\\n",
    "    --origin $(gsutil ls gs://{BUCKET}/taxifare/trained_large/export/exporter | tail -1) \\\n",
    "    --python-version=3.5 \\\n",
    "    --runtime-version {TFVERSION}"
   ]
  },
  {
   "cell_type": "markdown",
   "metadata": {},
   "source": [
    "## Instructions to obtain larger dataset\n",
    "\n",
    "Note the new `train_data_path` above. It is ~20,000,000 rows (100x the original dataset) and 1.25GB sharded across 10 files. How did we create this file?\n",
    "\n",
    "Go to https://console.cloud.google.com/bigquery and paste the query:\n",
    "<pre>\n",
    "    #standardSQL\n",
    "    SELECT\n",
    "      (tolls_amount + fare_amount) AS fare_amount,\n",
    "      EXTRACT(DAYOFWEEK from pickup_datetime) AS dayofweek,\n",
    "      EXTRACT(HOUR from pickup_datetime) AS hourofday,\n",
    "      pickup_longitude AS pickuplon,\n",
    "      pickup_latitude AS pickuplat,\n",
    "      dropoff_longitude AS dropofflon,\n",
    "      dropoff_latitude AS dropofflat\n",
    "    FROM\n",
    "      `nyc-tlc.yellow.trips`\n",
    "    WHERE\n",
    "      trip_distance > 0\n",
    "      AND fare_amount >= 2.5\n",
    "      AND pickup_longitude > -78\n",
    "      AND pickup_longitude < -70\n",
    "      AND dropoff_longitude > -78\n",
    "      AND dropoff_longitude < -70\n",
    "      AND pickup_latitude > 37\n",
    "      AND pickup_latitude < 45\n",
    "      AND dropoff_latitude > 37\n",
    "      AND dropoff_latitude < 45\n",
    "      AND passenger_count > 0\n",
    "      AND MOD(ABS(FARM_FINGERPRINT(CAST(pickup_datetime AS STRING))), 50) = 1\n",
    "</pre>\n",
    "\n",
    "Export this to CSV using the following steps (Note that <b>we have already done this and made the resulting GCS data publicly available</b>, so following these steps is optional):\n",
    "<ol>\n",
    "<li> Click on the \"Save Results\" button and select \"BigQuery Table\" (we can't directly export to CSV because the file is too large). \n",
    "<li>Specify a dataset name and table name (if you don't have an existing dataset, <a href=\"https://cloud.google.com/bigquery/docs/datasets#create-dataset\">create one</a>). \n",
    "<li> On the BigQuery console, find the newly exported table in the left-hand-side menu, and click on the name.\n",
    "<li> Click on the \"Export\" button, then select \"Export to GCS\".\n",
    "<li> Supply your bucket and file name (for example: gs://cloud-training-demos/taxifare/large/taxi-train*.csv). The asterisk allows for sharding of large files.\n",
    "</ol>\n",
    "\n",
    "*Note: We are still using the original smaller validation dataset. This is because it already contains ~31K records so should suffice to give us a good indication of learning. 100xing the validation dataset would slow down training because the full validation dataset is proccesed at each checkpoint, and the value of a larger validation dataset is questionable.*\n",
    "<p/>\n",
    "<p/>"
   ]
  },
  {
   "cell_type": "markdown",
   "metadata": {},
   "source": [
    "## Analysis\n",
    "\n",
    "Our previous RMSE was 9.26, and the new RMSE is about the same (9.24), so more training data didn't help.\n",
    "\n",
    "However we still haven't done any feature engineering, so the signal in the data is very hard for the model to extract, even if we have lots of it. In the next section we'll apply feature engineering to try to improve our model."
   ]
  },
  {
   "cell_type": "markdown",
   "metadata": {},
   "source": [
    "Copyright 2019 Google Inc. Licensed under the Apache License, Version 2.0 (the \"License\"); you may not use this file except in compliance with the License. You may obtain a copy of the License at http://www.apache.org/licenses/LICENSE-2.0 Unless required by applicable law or agreed to in writing, software distributed under the License is distributed on an \"AS IS\" BASIS, WITHOUT WARRANTIES OR CONDITIONS OF ANY KIND, either express or implied. See the License for the specific language governing permissions and limitations under the License"
   ]
  }
 ],
 "metadata": {
  "kernelspec": {
   "display_name": "Python 3",
   "language": "python",
   "name": "python3"
  },
  "language_info": {
   "codemirror_mode": {
    "name": "ipython",
    "version": 3
   },
   "file_extension": ".py",
   "mimetype": "text/x-python",
   "name": "python",
   "nbconvert_exporter": "python",
   "pygments_lexer": "ipython3",
   "version": "3.5.3"
  }
 },
 "nbformat": 4,
 "nbformat_minor": 2
}
