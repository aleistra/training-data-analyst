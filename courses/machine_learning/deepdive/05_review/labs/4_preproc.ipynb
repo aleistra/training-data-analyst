{
 "cells": [
  {
   "cell_type": "markdown",
   "metadata": {},
   "source": [
    "# Preprocessing Using Dataflow \n",
    "\n",
    "**Learning Objectives**\n",
    "- Creating datasets for Machine Learning using Dataflow\n",
    "\n",
    "## Introduction \n",
    "\n",
    "While Pandas is fine for experimenting, for operationalization of your workflow, it is better to do preprocessing in Apache Beam. This will also help if you need to preprocess data in flight, since Apache Beam also allows for streaming.\n",
    "\n",
    "### Set environment variables and load necessary libraries\n",
    "Execute the following cells to install the necessary libraries if they have not been installed already."
   ]
  },
  {
   "cell_type": "code",
   "execution_count": 1,
   "metadata": {},
   "outputs": [
    {
     "name": "stdout",
     "output_type": "stream",
     "text": [
      "tensorflow==1.13.1\n"
     ]
    }
   ],
   "source": [
    "# Ensure that we have Tensorflow 1.13 installed.\n",
    "!pip3 freeze | grep tensorflow==1.13.1 || pip3 install tensorflow==1.13.1"
   ]
  },
  {
   "cell_type": "code",
   "execution_count": 2,
   "metadata": {},
   "outputs": [
    {
     "name": "stdout",
     "output_type": "stream",
     "text": [
      "Collecting apache-beam[gcp]\n",
      "  Using cached https://files.pythonhosted.org/packages/ca/75/74e83596edcdce80b368dd59d869103373188d7c57741d3fce8999270a67/apache_beam-2.13.0-cp35-cp35m-manylinux1_x86_64.whl\n",
      "Collecting fastavro<0.22,>=0.21.4 (from apache-beam[gcp])\n",
      "  Using cached https://files.pythonhosted.org/packages/ac/7d/e63a1ba78326e42a69bda88b1fcfca22ddd773c4cc51ae85b3b869abcff2/fastavro-0.21.24-cp35-cp35m-manylinux1_x86_64.whl\n",
      "Collecting future<1.0.0,>=0.16.0 (from apache-beam[gcp])\n",
      "Collecting grpcio<2,>=1.8 (from apache-beam[gcp])\n",
      "  Using cached https://files.pythonhosted.org/packages/7e/8e/9e446349fc449951ecf3768070483ea88e76725cdd5bbddb9bc50f6948d4/grpcio-1.22.0-cp35-cp35m-manylinux1_x86_64.whl\n",
      "Collecting protobuf<4,>=3.5.0.post1 (from apache-beam[gcp])\n",
      "  Using cached https://files.pythonhosted.org/packages/55/34/7158a5ec978f12307eb361a8c4fdd867a8e2a0ab63fac99e5f555ee796d2/protobuf-3.9.0-cp35-cp35m-manylinux1_x86_64.whl\n",
      "Collecting dill<0.2.10,>=0.2.9 (from apache-beam[gcp])\n",
      "Collecting httplib2<=0.12.0,>=0.8 (from apache-beam[gcp])\n",
      "Collecting mock<3.0.0,>=1.0.1 (from apache-beam[gcp])\n",
      "  Using cached https://files.pythonhosted.org/packages/e6/35/f187bdf23be87092bd0f1200d43d23076cee4d0dec109f195173fd3ebc79/mock-2.0.0-py2.py3-none-any.whl\n",
      "Collecting pyarrow<0.14.0,>=0.11.1; python_version >= \"3.0\" or platform_system != \"Windows\" (from apache-beam[gcp])\n",
      "  Using cached https://files.pythonhosted.org/packages/0e/ee/71955f715d65afa1fc319b33dfe1976cd09a1a349af7756b232dbae85409/pyarrow-0.13.0-cp35-cp35m-manylinux1_x86_64.whl\n",
      "Collecting oauth2client<4,>=2.0.1 (from apache-beam[gcp])\n",
      "Collecting pyyaml<4.0.0,>=3.12 (from apache-beam[gcp])\n",
      "Collecting avro-python3<2.0.0,>=1.8.1; python_version >= \"3.0\" (from apache-beam[gcp])\n",
      "Collecting crcmod<2.0,>=1.7 (from apache-beam[gcp])\n",
      "Collecting hdfs<3.0.0,>=2.1.0 (from apache-beam[gcp])\n",
      "Collecting pydot<1.3,>=1.2.0 (from apache-beam[gcp])\n",
      "Collecting pytz>=2018.3 (from apache-beam[gcp])\n",
      "  Using cached https://files.pythonhosted.org/packages/3d/73/fe30c2daaaa0713420d0382b16fbb761409f532c56bdcc514bf7b6262bb6/pytz-2019.1-py2.py3-none-any.whl\n",
      "Collecting google-cloud-bigquery<1.7.0,>=1.6.0; extra == \"gcp\" (from apache-beam[gcp])\n",
      "  Using cached https://files.pythonhosted.org/packages/b7/1b/2b95f2fefddbbece38110712c225bfb5649206f4056445653bd5ca4dc86d/google_cloud_bigquery-1.6.1-py2.py3-none-any.whl\n",
      "Collecting google-apitools<0.5.29,>=0.5.28; extra == \"gcp\" (from apache-beam[gcp])\n",
      "Collecting google-cloud-pubsub<0.40.0,>=0.39.0; extra == \"gcp\" (from apache-beam[gcp])\n",
      "  Using cached https://files.pythonhosted.org/packages/c0/9a/4455b1c1450e9b912855b58ca6eee7a27ff1e9b52e4d98c243d93256f469/google_cloud_pubsub-0.39.1-py2.py3-none-any.whl\n",
      "Collecting google-cloud-datastore<1.8.0,>=1.7.1; extra == \"gcp\" (from apache-beam[gcp])\n",
      "  Using cached https://files.pythonhosted.org/packages/d0/aa/29cbcf8cf7d08ce2d55b9dce858f7c632b434cb6451bed17cb4275804217/google_cloud_datastore-1.7.4-py2.py3-none-any.whl\n",
      "Collecting cachetools<4,>=3.1.0; extra == \"gcp\" (from apache-beam[gcp])\n",
      "  Using cached https://files.pythonhosted.org/packages/2f/a6/30b0a0bef12283e83e58c1d6e7b5aabc7acfc4110df81a4471655d33e704/cachetools-3.1.1-py2.py3-none-any.whl\n",
      "Collecting google-cloud-bigtable<0.33.0,>=0.31.1; extra == \"gcp\" (from apache-beam[gcp])\n",
      "  Using cached https://files.pythonhosted.org/packages/08/77/b468e209dbb0a6f614e6781f06a4894299a4c6167c2c525cc086caa7c075/google_cloud_bigtable-0.32.2-py2.py3-none-any.whl\n",
      "Collecting google-cloud-core<0.30.0,>=0.28.1; extra == \"gcp\" (from apache-beam[gcp])\n",
      "  Using cached https://files.pythonhosted.org/packages/0c/f2/3c225e7a69cb27d283b68bff867722bd066bc1858611180197f711815ea5/google_cloud_core-0.29.1-py2.py3-none-any.whl\n",
      "Collecting six>=1.5.2 (from grpcio<2,>=1.8->apache-beam[gcp])\n",
      "  Using cached https://files.pythonhosted.org/packages/73/fb/00a976f728d0d1fecfe898238ce23f502a721c0ac0ecfedb80e0d88c64e9/six-1.12.0-py2.py3-none-any.whl\n",
      "Collecting setuptools (from protobuf<4,>=3.5.0.post1->apache-beam[gcp])\n",
      "  Using cached https://files.pythonhosted.org/packages/ec/51/f45cea425fd5cb0b0380f5b0f048ebc1da5b417e48d304838c02d6288a1e/setuptools-41.0.1-py2.py3-none-any.whl\n",
      "Collecting pbr>=0.11 (from mock<3.0.0,>=1.0.1->apache-beam[gcp])\n",
      "  Using cached https://files.pythonhosted.org/packages/8b/67/bb6fe2e2c66585acb4dd2b57f50c8db65848f737f63b04cb35f0627bce5e/pbr-5.4.1-py2.py3-none-any.whl\n",
      "Collecting numpy>=1.14 (from pyarrow<0.14.0,>=0.11.1; python_version >= \"3.0\" or platform_system != \"Windows\"->apache-beam[gcp])\n",
      "  Using cached https://files.pythonhosted.org/packages/bb/ef/d5a21cbc094d3f4d5b5336494dbcc9550b70c766a8345513c7c24ed18418/numpy-1.16.4-cp35-cp35m-manylinux1_x86_64.whl\n",
      "Collecting pyasn1>=0.1.7 (from oauth2client<4,>=2.0.1->apache-beam[gcp])\n",
      "  Using cached https://files.pythonhosted.org/packages/7b/7c/c9386b82a25115cccf1903441bba3cbadcfae7b678a20167347fa8ded34c/pyasn1-0.4.5-py2.py3-none-any.whl\n",
      "Collecting pyasn1-modules>=0.0.5 (from oauth2client<4,>=2.0.1->apache-beam[gcp])\n",
      "  Using cached https://files.pythonhosted.org/packages/91/f0/b03e00ce9fddf4827c42df1c3ce10c74eadebfb706231e8d6d1c356a4062/pyasn1_modules-0.2.5-py2.py3-none-any.whl\n",
      "Collecting rsa>=3.1.4 (from oauth2client<4,>=2.0.1->apache-beam[gcp])\n",
      "  Using cached https://files.pythonhosted.org/packages/02/e5/38518af393f7c214357079ce67a317307936896e961e35450b70fad2a9cf/rsa-4.0-py2.py3-none-any.whl\n",
      "Collecting requests>=2.7.0 (from hdfs<3.0.0,>=2.1.0->apache-beam[gcp])\n",
      "  Using cached https://files.pythonhosted.org/packages/51/bd/23c926cd341ea6b7dd0b2a00aba99ae0f828be89d72b2190f27c11d4b7fb/requests-2.22.0-py2.py3-none-any.whl\n",
      "Collecting docopt (from hdfs<3.0.0,>=2.1.0->apache-beam[gcp])\n",
      "Collecting pyparsing>=2.1.4 (from pydot<1.3,>=1.2.0->apache-beam[gcp])\n",
      "  Using cached https://files.pythonhosted.org/packages/dd/d9/3ec19e966301a6e25769976999bd7bbe552016f0d32b577dc9d63d2e0c49/pyparsing-2.4.0-py2.py3-none-any.whl\n",
      "Collecting google-resumable-media>=0.2.1 (from google-cloud-bigquery<1.7.0,>=1.6.0; extra == \"gcp\"->apache-beam[gcp])\n",
      "  Using cached https://files.pythonhosted.org/packages/e2/5d/4bc5c28c252a62efe69ed1a1561da92bd5af8eca0cdcdf8e60354fae9b29/google_resumable_media-0.3.2-py2.py3-none-any.whl\n",
      "Collecting google-api-core<2.0.0dev,>=1.0.0 (from google-cloud-bigquery<1.7.0,>=1.6.0; extra == \"gcp\"->apache-beam[gcp])\n",
      "  Using cached https://files.pythonhosted.org/packages/5b/3e/48b8ee54f24fd8d5d274bcf642857399f074310032a244353419fc5774b7/google_api_core-1.14.0-py2.py3-none-any.whl\n",
      "Collecting fasteners>=0.14 (from google-apitools<0.5.29,>=0.5.28; extra == \"gcp\"->apache-beam[gcp])\n",
      "  Using cached https://files.pythonhosted.org/packages/18/bd/55eb2d6397b9c0e263af9d091ebdb756b15756029b3cededf6461481bc63/fasteners-0.15-py2.py3-none-any.whl\n",
      "Collecting grpc-google-iam-v1<0.12dev,>=0.11.4 (from google-cloud-pubsub<0.40.0,>=0.39.0; extra == \"gcp\"->apache-beam[gcp])\n",
      "Collecting certifi>=2017.4.17 (from requests>=2.7.0->hdfs<3.0.0,>=2.1.0->apache-beam[gcp])\n",
      "  Using cached https://files.pythonhosted.org/packages/69/1b/b853c7a9d4f6a6d00749e94eb6f3a041e342a885b87340b79c1ef73e3a78/certifi-2019.6.16-py2.py3-none-any.whl\n",
      "Collecting idna<2.9,>=2.5 (from requests>=2.7.0->hdfs<3.0.0,>=2.1.0->apache-beam[gcp])\n",
      "  Using cached https://files.pythonhosted.org/packages/14/2c/cd551d81dbe15200be1cf41cd03869a46fe7226e7450af7a6545bfc474c9/idna-2.8-py2.py3-none-any.whl\n",
      "Collecting urllib3!=1.25.0,!=1.25.1,<1.26,>=1.21.1 (from requests>=2.7.0->hdfs<3.0.0,>=2.1.0->apache-beam[gcp])\n",
      "  Using cached https://files.pythonhosted.org/packages/e6/60/247f23a7121ae632d62811ba7f273d0e58972d75e58a94d329d51550a47d/urllib3-1.25.3-py2.py3-none-any.whl\n",
      "Collecting chardet<3.1.0,>=3.0.2 (from requests>=2.7.0->hdfs<3.0.0,>=2.1.0->apache-beam[gcp])\n",
      "  Using cached https://files.pythonhosted.org/packages/bc/a9/01ffebfb562e4274b6487b4bb1ddec7ca55ec7510b22e4c51f14098443b8/chardet-3.0.4-py2.py3-none-any.whl\n",
      "Collecting googleapis-common-protos<2.0dev,>=1.6.0 (from google-api-core<2.0.0dev,>=1.0.0->google-cloud-bigquery<1.7.0,>=1.6.0; extra == \"gcp\"->apache-beam[gcp])\n",
      "Collecting google-auth<2.0dev,>=0.4.0 (from google-api-core<2.0.0dev,>=1.0.0->google-cloud-bigquery<1.7.0,>=1.6.0; extra == \"gcp\"->apache-beam[gcp])\n",
      "  Using cached https://files.pythonhosted.org/packages/c5/9b/ed0516cc1f7609fb0217e3057ff4f0f9f3e3ce79a369c6af4a6c5ca25664/google_auth-1.6.3-py2.py3-none-any.whl\n",
      "Collecting monotonic>=0.1 (from fasteners>=0.14->google-apitools<0.5.29,>=0.5.28; extra == \"gcp\"->apache-beam[gcp])\n",
      "  Using cached https://files.pythonhosted.org/packages/ac/aa/063eca6a416f397bd99552c534c6d11d57f58f2e94c14780f3bbf818c4cf/monotonic-1.5-py2.py3-none-any.whl\n",
      "Installing collected packages: fastavro, future, six, grpcio, setuptools, protobuf, dill, httplib2, pbr, mock, numpy, pyarrow, pyasn1, pyasn1-modules, rsa, oauth2client, pyyaml, avro-python3, crcmod, certifi, idna, urllib3, chardet, requests, docopt, hdfs, pyparsing, pydot, pytz, googleapis-common-protos, cachetools, google-auth, google-api-core, google-cloud-core, google-resumable-media, google-cloud-bigquery, monotonic, fasteners, google-apitools, grpc-google-iam-v1, google-cloud-pubsub, google-cloud-datastore, google-cloud-bigtable, apache-beam\n",
      "Successfully installed apache-beam-2.13.0 avro-python3-1.9.0 cachetools-3.1.1 certifi-2019.6.16 chardet-3.0.4 crcmod-1.7 dill-0.2.9 docopt-0.6.2 fastavro-0.21.24 fasteners-0.15 future-0.17.1 google-api-core-1.14.0 google-apitools-0.5.28 google-auth-1.6.3 google-cloud-bigquery-1.6.1 google-cloud-bigtable-0.32.2 google-cloud-core-0.29.1 google-cloud-datastore-1.7.4 google-cloud-pubsub-0.39.1 google-resumable-media-0.3.2 googleapis-common-protos-1.6.0 grpc-google-iam-v1-0.11.4 grpcio-1.22.0 hdfs-2.5.8 httplib2-0.12.0 idna-2.8 mock-3.0.5 monotonic-1.5 numpy-1.16.4 oauth2client-3.0.0 pbr-5.4.1 protobuf-3.9.0 pyarrow-0.13.0 pyasn1-0.4.5 pyasn1-modules-0.2.5 pydot-1.2.4 pyparsing-2.4.1 pytz-2019.1 pyyaml-3.13 requests-2.22.0 rsa-4.0 setuptools-41.0.1 six-1.12.0 urllib3-1.25.3\n"
     ]
    }
   ],
   "source": [
    "#Ensure that we have Apache Beam 2.10 installed.\n",
    "!pip3 freeze | grep apache-beam==2.10.0 || pip3 install apache-beam[gcp]"
   ]
  },
  {
   "cell_type": "code",
   "execution_count": 3,
   "metadata": {},
   "outputs": [
    {
     "name": "stdout",
     "output_type": "stream",
     "text": [
      "1.14.0\n"
     ]
    }
   ],
   "source": [
    "import tensorflow as tf\n",
    "import apache_beam as beam\n",
    "import shutil\n",
    "import os\n",
    "import datetime\n",
    "print(tf.__version__)"
   ]
  },
  {
   "cell_type": "markdown",
   "metadata": {},
   "source": [
    "Next, set the environment variables related to your GCP Project."
   ]
  },
  {
   "cell_type": "code",
   "execution_count": 4,
   "metadata": {},
   "outputs": [],
   "source": [
    "PROJECT = \"qwiklabs-gcp-636667ae83e902b6\"  # Replace with your PROJECT\n",
    "BUCKET =  \"qwiklabs-gcp-636667ae83e902b6_al\"  # Replace with your BUCKET\n",
    "REGION = \"us-east1\"            # Choose an available region for AI Platform  \n",
    "TFVERSION = \"1.13\"                # TF version for AI Platform"
   ]
  },
  {
   "cell_type": "code",
   "execution_count": 5,
   "metadata": {},
   "outputs": [],
   "source": [
    "os.environ[\"BUCKET\"] = BUCKET\n",
    "os.environ[\"PROJECT\"] = PROJECT\n",
    "os.environ[\"REGION\"] = REGION"
   ]
  },
  {
   "cell_type": "code",
   "execution_count": 6,
   "metadata": {},
   "outputs": [],
   "source": [
    "%%bash\n",
    "if ! gsutil ls | grep -q gs://${BUCKET}/; then\n",
    "    gsutil mb -l ${REGION} gs://${BUCKET}\n",
    "fi"
   ]
  },
  {
   "cell_type": "markdown",
   "metadata": {},
   "source": [
    "## Save the query from earlier\n",
    "\n",
    "The data is natality data (record of births in the US). My goal is to predict the baby's weight given a number of factors about the pregnancy and the baby's mother.  Later, we will want to split the data into training and eval datasets. The hash of the year-month will be used for that."
   ]
  },
  {
   "cell_type": "code",
   "execution_count": 7,
   "metadata": {},
   "outputs": [],
   "source": [
    "# Create SQL query using natality data after the year 2000\n",
    "query_string = \"\"\"\n",
    "SELECT\n",
    "    weight_pounds,\n",
    "    is_male,\n",
    "    mother_age,\n",
    "    mother_race,\n",
    "    father_race,\n",
    "    cigarette_use,\n",
    "    mother_married,\n",
    "    ever_born,\n",
    "    plurality,\n",
    "    weight_gain_pounds,\n",
    "    gestation_weeks,\n",
    "    ABS(FARM_FINGERPRINT(CONCAT(CAST(YEAR AS STRING), CAST(month AS STRING)))) AS hashmonth\n",
    "FROM\n",
    "    publicdata.samples.natality\n",
    "WHERE\n",
    "    year > 2000\n",
    "\"\"\""
   ]
  },
  {
   "cell_type": "markdown",
   "metadata": {},
   "source": [
    "#### **Excerise 1**\n",
    "\n",
    "Use the `query_string` we defined above to call BigQuery and create a local Pandas dataframe. Look at the documentation for calling BigQuery within a Jupyter notebook if you need to remind yourself its usage.\n",
    "\n",
    "**Hint**: it might help to add a `LIMIT` to the query string to control the size of the resulting dataframe."
   ]
  },
  {
   "cell_type": "code",
   "execution_count": 8,
   "metadata": {},
   "outputs": [],
   "source": [
    "# Call BigQuery and examine in dataframe\n",
    "from google.cloud import bigquery\n",
    "bq = bigquery.Client(project = PROJECT)"
   ]
  },
  {
   "cell_type": "code",
   "execution_count": 9,
   "metadata": {},
   "outputs": [
    {
     "data": {
      "text/html": [
       "<div>\n",
       "<style scoped>\n",
       "    .dataframe tbody tr th:only-of-type {\n",
       "        vertical-align: middle;\n",
       "    }\n",
       "\n",
       "    .dataframe tbody tr th {\n",
       "        vertical-align: top;\n",
       "    }\n",
       "\n",
       "    .dataframe thead th {\n",
       "        text-align: right;\n",
       "    }\n",
       "</style>\n",
       "<table border=\"1\" class=\"dataframe\">\n",
       "  <thead>\n",
       "    <tr style=\"text-align: right;\">\n",
       "      <th></th>\n",
       "      <th>weight_pounds</th>\n",
       "      <th>is_male</th>\n",
       "      <th>mother_age</th>\n",
       "      <th>mother_race</th>\n",
       "      <th>father_race</th>\n",
       "      <th>cigarette_use</th>\n",
       "      <th>mother_married</th>\n",
       "      <th>ever_born</th>\n",
       "      <th>plurality</th>\n",
       "      <th>weight_gain_pounds</th>\n",
       "      <th>gestation_weeks</th>\n",
       "      <th>hashmonth</th>\n",
       "    </tr>\n",
       "  </thead>\n",
       "  <tbody>\n",
       "    <tr>\n",
       "      <th>0</th>\n",
       "      <td>7.063611</td>\n",
       "      <td>True</td>\n",
       "      <td>32</td>\n",
       "      <td>1</td>\n",
       "      <td>1</td>\n",
       "      <td>None</td>\n",
       "      <td>True</td>\n",
       "      <td>1.0</td>\n",
       "      <td>1</td>\n",
       "      <td>32.0</td>\n",
       "      <td>37.0</td>\n",
       "      <td>7108882242435606404</td>\n",
       "    </tr>\n",
       "    <tr>\n",
       "      <th>1</th>\n",
       "      <td>4.687028</td>\n",
       "      <td>True</td>\n",
       "      <td>30</td>\n",
       "      <td>1</td>\n",
       "      <td>1</td>\n",
       "      <td>None</td>\n",
       "      <td>True</td>\n",
       "      <td>1.0</td>\n",
       "      <td>3</td>\n",
       "      <td>38.0</td>\n",
       "      <td>33.0</td>\n",
       "      <td>7170969733900686954</td>\n",
       "    </tr>\n",
       "    <tr>\n",
       "      <th>2</th>\n",
       "      <td>7.561856</td>\n",
       "      <td>True</td>\n",
       "      <td>20</td>\n",
       "      <td>1</td>\n",
       "      <td>9</td>\n",
       "      <td>None</td>\n",
       "      <td>False</td>\n",
       "      <td>1.0</td>\n",
       "      <td>1</td>\n",
       "      <td>40.0</td>\n",
       "      <td>39.0</td>\n",
       "      <td>6392072535155213407</td>\n",
       "    </tr>\n",
       "    <tr>\n",
       "      <th>3</th>\n",
       "      <td>7.561856</td>\n",
       "      <td>True</td>\n",
       "      <td>31</td>\n",
       "      <td>1</td>\n",
       "      <td>1</td>\n",
       "      <td>None</td>\n",
       "      <td>True</td>\n",
       "      <td>1.0</td>\n",
       "      <td>1</td>\n",
       "      <td>33.0</td>\n",
       "      <td>37.0</td>\n",
       "      <td>2126480030009879160</td>\n",
       "    </tr>\n",
       "    <tr>\n",
       "      <th>4</th>\n",
       "      <td>7.312733</td>\n",
       "      <td>True</td>\n",
       "      <td>32</td>\n",
       "      <td>1</td>\n",
       "      <td>1</td>\n",
       "      <td>None</td>\n",
       "      <td>True</td>\n",
       "      <td>2.0</td>\n",
       "      <td>1</td>\n",
       "      <td>NaN</td>\n",
       "      <td>40.0</td>\n",
       "      <td>3408502330831153141</td>\n",
       "    </tr>\n",
       "  </tbody>\n",
       "</table>\n",
       "</div>"
      ],
      "text/plain": [
       "   weight_pounds  is_male  mother_age  mother_race  father_race cigarette_use  \\\n",
       "0       7.063611     True          32            1            1          None   \n",
       "1       4.687028     True          30            1            1          None   \n",
       "2       7.561856     True          20            1            9          None   \n",
       "3       7.561856     True          31            1            1          None   \n",
       "4       7.312733     True          32            1            1          None   \n",
       "\n",
       "   mother_married  ever_born  plurality  weight_gain_pounds  gestation_weeks  \\\n",
       "0            True        1.0          1                32.0             37.0   \n",
       "1            True        1.0          3                38.0             33.0   \n",
       "2           False        1.0          1                40.0             39.0   \n",
       "3            True        1.0          1                33.0             37.0   \n",
       "4            True        2.0          1                 NaN             40.0   \n",
       "\n",
       "             hashmonth  \n",
       "0  7108882242435606404  \n",
       "1  7170969733900686954  \n",
       "2  6392072535155213407  \n",
       "3  2126480030009879160  \n",
       "4  3408502330831153141  "
      ]
     },
     "execution_count": 9,
     "metadata": {},
     "output_type": "execute_result"
    }
   ],
   "source": [
    "df = bq.query(query_string + \" LIMIT 1000\").to_dataframe()\n",
    "df.head()"
   ]
  },
  {
   "cell_type": "code",
   "execution_count": 10,
   "metadata": {},
   "outputs": [],
   "source": [
    "qs1 = \"\"\"\n",
    "SELECT DISTINCT\n",
    "    mother_race\n",
    "FROM\n",
    "    publicdata.samples.natality\n",
    "WHERE\n",
    "    year > 2000\n",
    "\"\"\"\n",
    "\n",
    "dd = bq.query(qs1).to_dataframe()\n",
    "dd.to_csv('mother_race_vocab.txt', index=False)\n",
    "\n",
    "qs2 = \"\"\"\n",
    "SELECT DISTINCT\n",
    "    father_race\n",
    "FROM\n",
    "    publicdata.samples.natality\n",
    "WHERE\n",
    "    year > 2000\n",
    "\"\"\"\n",
    "\n",
    "dd2 = bq.query(qs1).to_dataframe()\n",
    "dd2.to_csv('father_race_vocab.txt', index=False)"
   ]
  },
  {
   "cell_type": "markdown",
   "metadata": {},
   "source": [
    "## Create ML dataset using Dataflow\n",
    "\n",
    "Let's use Cloud Dataflow to read in the BigQuery data, do some preprocessing, and write it out as CSV files.\n",
    "\n",
    "Instead of using Beam/Dataflow, I had three other options:\n",
    "\n",
    "* Use Cloud Dataprep to visually author a Dataflow pipeline. Cloud Dataprep also allows me to explore the data, so we could have avoided much of the handcoding of Python/Seaborn calls above as well!\n",
    "* Read from BigQuery directly using TensorFlow.\n",
    "* Use the BigQuery console (http://bigquery.cloud.google.com) to run a Query and save the result as a CSV file. For larger datasets, you may have to select the option to \"allow large results\" and save the result into a CSV file on Google Cloud Storage. \n",
    "\n",
    "However, in this case, I want to do some preprocessing, modifying data so that we can simulate what is known if no ultrasound has been performed. If I didn't need preprocessing, I could have used the web console. Also, I prefer to script it out rather than run queries on the user interface, so I am using Cloud Dataflow for the preprocessing.\n",
    "\n",
    "The `preprocess` function below includes an arugment `in_test_mode`. When this is set to `True`, running `preprocess` initiates a *local* Beam job. This is helpful for quickly debugging your pipeline and ensuring it works before submitting a job to the Cloud.  Setting `in_test_mode` to `False` will launch a processing that is happening on the Cloud. Go to the GCP webconsole to [the Dataflow section](https://pantheon.corp.google.com/dataflow) and monitor the running job. It took about 20 minutes for me.\n",
    "\n",
    "If you wish to continue without doing this step, you can copy my preprocessed output:\n",
    "<pre>\n",
    "gsutil -m cp -r gs://cloud-training-demos/babyweight/preproc gs://YOUR_BUCKET/\n",
    "</pre>"
   ]
  },
  {
   "cell_type": "markdown",
   "metadata": {},
   "source": [
    "#### **Exercise 2**\n",
    "\n",
    "The cell block below contains a collection of TODOs that will complete the pipeline for processing the baby weight dataset with Apache Beam and Cloud Dataflow.\n",
    "\n",
    "In the first block of TODOs we use the original dataset to create synthetic data where we assume no ultrasound has been performed. Look back to the [`2_sample.ipynb`](https://github.com/GoogleCloudPlatform/training-data-analyst/blob/asl/courses/machine_learning/deepdive/05_review/2_sample.ipynb) notebook to remind yourself how this was done. \n",
    "Note, these operations are done on the row level as that is how the data will be processed in the pipeline via the map function.\n",
    "\n",
    "The next block of TODOs comes at the bottom of the cell, where we actually create the preprocessing pipeline. There are three TODOs for you to complete\n",
    "- First, read in the data from BigQuery using the `selquery` created before using the `beam.io.Read` functionality\n",
    "- Next, use `beam.FlatMap` to apply the `to_csv` function you modified in the previous TODOs\n",
    "- Lastly, write the preprocessed records to the predetermined `OUTPUT_DIR` using `beam.io.Write` functionality.\n",
    "\n",
    "Look at the documentation for Beam to remind yourself the correct usage of these operations. "
   ]
  },
  {
   "cell_type": "code",
   "execution_count": 11,
   "metadata": {},
   "outputs": [
    {
     "name": "stdout",
     "output_type": "stream",
     "text": [
      "Launching local job ... hang on\n"
     ]
    },
    {
     "name": "stderr",
     "output_type": "stream",
     "text": [
      "WARNING: Logging before flag parsing goes to stderr.\n",
      "W0724 19:57:55.824171 140277717133056 bigquery_tools.py:543] Dataset qwiklabs-gcp-636667ae83e902b6:temp_dataset_f8463f7865924b6498b6181933451245 does not exist so we will create it as temporary with location=US\n",
      "W0724 19:58:01.985297 140277717133056 bigquery_tools.py:543] Dataset qwiklabs-gcp-636667ae83e902b6:temp_dataset_3452f0948a364976a24eafa142a07db2 does not exist so we will create it as temporary with location=US\n"
     ]
    },
    {
     "name": "stdout",
     "output_type": "stream",
     "text": [
      "Done!\n"
     ]
    }
   ],
   "source": [
    "def to_csv(rowdict):\n",
    "    # Pull columns from BQ and create a line\n",
    "    import hashlib\n",
    "    import copy\n",
    "    CSV_COLUMNS = \"weight_pounds,is_male,mother_age,mother_race,father_race,cigarette_use,mother_married,ever_born,plurality,weight_gain_pounds,gestation_weeks\".split(',')\n",
    "\n",
    "    # Create synthetic data where we assume that no ultrasound has been performed\n",
    "    # and so we don\"t know sex of the baby. Let\"s assume that we can tell the difference\n",
    "    # between single and multiple, but that the errors rates in determining exact number\n",
    "    # is difficult in the absence of an ultrasound.\n",
    "    no_ultrasound = copy.deepcopy(rowdict)\n",
    "    w_ultrasound = copy.deepcopy(rowdict)\n",
    "\n",
    "    no_ultrasound[\"is_male\"] = 'Unknown'\n",
    "    if rowdict[\"plurality\"] > 1:\n",
    "        no_ultrasound[\"plurality\"] = 'Multiple(2+)'\n",
    "    else:\n",
    "        no_ultrasound[\"plurality\"] = 'Single(1)'\n",
    "\n",
    "    if rowdict[\"weight_gain_pounds\"] == 99:\n",
    "        rowdict[\"weight_gain_pounds\"] = 31\n",
    "\n",
    "    # Change the plurality column to strings\n",
    "    w_ultrasound[\"plurality\"] = [\"Single(1)\", \"Twins(2)\", \"Triplets(3)\", \"Quadruplets(4)\", \"Quintuplets(5)\"][rowdict[\"plurality\"] - 1]\n",
    "\n",
    "    # Write out two rows for each input row, one with ultrasound and one without\n",
    "    for result in [no_ultrasound, w_ultrasound]:\n",
    "        data = ','.join([str(result[k]) if k in result else \"None\" for k in CSV_COLUMNS])\n",
    "        yield str(\"{}\".format(data))\n",
    "  \n",
    "def preprocess(in_test_mode):\n",
    "    import shutil, os, subprocess\n",
    "    job_name = \"preprocess-babyweight-features\" + \"-\" + datetime.datetime.now().strftime(\"%y%m%d-%H%M%S\")\n",
    "\n",
    "    if in_test_mode:\n",
    "        print(\"Launching local job ... hang on\")\n",
    "        OUTPUT_DIR = \"./preproc\"\n",
    "        shutil.rmtree(OUTPUT_DIR, ignore_errors=True)\n",
    "        os.makedirs(OUTPUT_DIR)\n",
    "    else:\n",
    "        print(\"Launching Dataflow job {} ... hang on\".format(job_name))\n",
    "        OUTPUT_DIR = \"gs://{0}/babyweight/preproc/\".format(BUCKET)\n",
    "        try:\n",
    "            subprocess.check_call(\"gsutil -m rm -r {}\".format(OUTPUT_DIR).split())\n",
    "        except:\n",
    "            pass\n",
    "\n",
    "    options = {\n",
    "        \"staging_location\": os.path.join(OUTPUT_DIR, \"tmp\", \"staging\"),\n",
    "        \"temp_location\": os.path.join(OUTPUT_DIR, \"tmp\"),\n",
    "        \"job_name\": job_name,\n",
    "        \"project\": PROJECT,\n",
    "        \"teardown_policy\": \"TEARDOWN_ALWAYS\",\n",
    "        \"no_save_main_session\": True\n",
    "    }\n",
    "    opts = beam.pipeline.PipelineOptions(flags = [], **options)\n",
    "    if in_test_mode:\n",
    "        RUNNER = \"DirectRunner\"\n",
    "    else:\n",
    "        RUNNER = \"DataflowRunner\"\n",
    "    \n",
    "    p = beam.Pipeline(RUNNER, options = opts)\n",
    "    query = \"\"\"\n",
    "SELECT\n",
    "    weight_pounds,\n",
    "    CAST(is_male AS STRING) as is_male,\n",
    "    mother_age,\n",
    "    CAST(mother_race AS STRING) as mother_race,\n",
    "    CAST(father_race AS STRING) as father_race,\n",
    "    CAST(cigarette_use AS STRING) as cigarette_use,\n",
    "    CAST(mother_married AS STRING) as mother_married,\n",
    "    ever_born,\n",
    "    plurality,\n",
    "    weight_gain_pounds,\n",
    "    gestation_weeks,\n",
    "    ABS(FARM_FINGERPRINT(CONCAT(CAST(YEAR AS STRING), CAST(month AS STRING)))) AS hashmonth\n",
    "FROM\n",
    "    publicdata.samples.natality\n",
    "WHERE\n",
    "    year > 2000\n",
    "    AND weight_pounds > 0\n",
    "    AND weight_pounds < 20\n",
    "    AND mother_age > 13\n",
    "    AND mother_age < 46\n",
    "    AND plurality > 0\n",
    "    AND gestation_weeks > 21\n",
    "    AND month > 0\n",
    "\"\"\"\n",
    "\n",
    "    if in_test_mode:\n",
    "        query = query + \" LIMIT 1000\" \n",
    "\n",
    "    for step in [\"train\", \"eval\"]:\n",
    "        if step == \"train\":\n",
    "            selquery = \"SELECT * FROM ({}) WHERE MOD(hashmonth, 100) < 80\".format(query)\n",
    "        elif step == \"eval\":\n",
    "            selquery = \"SELECT * FROM ({}) WHERE MOD(hashmonth, 100) >= 80 AND MOD(hashmonth, 100) < 90\".format(query)\n",
    "        else: \n",
    "            selquery = \"SELECT * FROM ({}) WHERE MOD(hashmonth, 100) >= 90\".format(query)\n",
    "        (p \n",
    "         | \"{}_read\".format(step) >> beam.io.Read(beam.io.BigQuerySource(query=selquery, use_standard_sql=True))\n",
    "         | \"{}_csv\".format(step) >> beam.FlatMap(to_csv)\n",
    "         | \"{}_out\".format(step) >> beam.io.WriteToText(os.path.join(OUTPUT_DIR, \"{}.csv\".format(step)))\n",
    "        )\n",
    "\n",
    "    job = p.run()\n",
    "    if in_test_mode:\n",
    "        job.wait_until_finish()\n",
    "        print(\"Done!\")\n",
    "    \n",
    "preprocess(in_test_mode = True)"
   ]
  },
  {
   "cell_type": "markdown",
   "metadata": {},
   "source": [
    "For a Cloud preprocessing job (i.e. setting `in_test_mode` to `False`), the above step will take 20+ minutes. Go to the GCP web console, navigate to the Dataflow section and <b>wait for the job to finish</b> before you run the follwing step."
   ]
  },
  {
   "cell_type": "code",
   "execution_count": 12,
   "metadata": {},
   "outputs": [
    {
     "name": "stdout",
     "output_type": "stream",
     "text": [
      "Launching Dataflow job preprocess-babyweight-features-190724-195806 ... hang on\n"
     ]
    }
   ],
   "source": [
    "preprocess(in_test_mode = False)"
   ]
  },
  {
   "cell_type": "code",
   "execution_count": 13,
   "metadata": {},
   "outputs": [
    {
     "data": {
      "text/plain": [
       "'weight_pounds,is_male,mother_age,mother_race,father_race,cigarette_use,mother_married,ever_born,plurality,weight_gain_pounds,gestation_weeks'"
      ]
     },
     "execution_count": 13,
     "metadata": {},
     "output_type": "execute_result"
    }
   ],
   "source": [
    "\"weight_pounds,is_male,mother_age,mother_race,father_race,cigarette_use,mother_married,ever_born,plurality,weight_gain_pounds,gestation_weeks\""
   ]
  },
  {
   "cell_type": "markdown",
   "metadata": {},
   "source": [
    "5.8642961692,Unknown,16,2,9,None,False,1,Single(1),38\n",
    "5.8642961692,True,16,2,9,None,False,1,Single(1),38\n",
    "6.283174467,Unknown,17,2,9,None,False,1,Single(1),40"
   ]
  },
  {
   "cell_type": "markdown",
   "metadata": {},
   "source": [
    "## View results\n",
    "We can have a look at the elements in our bucket to see the results of our pipeline above."
   ]
  },
  {
   "cell_type": "code",
   "execution_count": 1,
   "metadata": {},
   "outputs": [
    {
     "name": "stdout",
     "output_type": "stream",
     "text": [
      "gs://qwiklabs-gcp-636667ae83e902b6_al/babyweight/preproc/eval.csv-00000-of-00013\n",
      "gs://qwiklabs-gcp-636667ae83e902b6_al/babyweight/preproc/train.csv-00000-of-00188\n"
     ]
    }
   ],
   "source": [
    "!gsutil ls gs://qwiklabs-gcp-636667ae83e902b6_al/babyweight/preproc/*-00000*"
   ]
  },
  {
   "cell_type": "code",
   "execution_count": 2,
   "metadata": {},
   "outputs": [
    {
     "name": "stdout",
     "output_type": "stream",
     "text": [
      "9.6452239625,Unknown,30,1,1,false,true,2,Single(1),45,38\n",
      "9.6452239625,false,30,1,1,false,true,2,Single(1),45,38\n",
      "5.81358984894,Unknown,30,1,1,false,true,2,Single(1),30,38\n",
      "5.81358984894,false,30,1,1,false,true,2,Single(1),30,38\n",
      "3.5163730789,Unknown,30,1,1,false,true,2,Multiple(2+),33,38\n",
      "3.5163730789,true,30,1,1,false,true,2,Twins(2),33,38\n",
      "7.936641432,Unknown,30,1,1,false,true,1,Single(1),34,41\n",
      "7.936641432,false,30,1,1,false,true,1,Single(1),34,41\n",
      "8.0248263368,Unknown,30,1,1,None,true,3,Single(1),15,39\n",
      "8.0248263368,false,30,1,1,None,true,3,Single(1),15,39\n"
     ]
    }
   ],
   "source": [
    "!gsutil cat gs://qwiklabs-gcp-636667ae83e902b6_al/babyweight/preproc/eval.csv-00000-of-00013 | head\n",
    "    "
   ]
  },
  {
   "cell_type": "markdown",
   "metadata": {},
   "source": [
    "# Preprocessing with BigQuery"
   ]
  },
  {
   "cell_type": "markdown",
   "metadata": {},
   "source": [
    "Create SQL query for BigQuery that will union all both the ultrasound and no ultrasound datasets."
   ]
  },
  {
   "cell_type": "markdown",
   "metadata": {},
   "source": [
    "#### **Exercise 3**\n",
    "\n",
    "The cell block below contains a collection of TODOs that will complete the query for processing the baby weight dataset with BigQuery.\n",
    "\n",
    "In the block of TODOs we use the original dataset to create synthetic data where we assume no ultrasound has been performed. Look back to the [`2_sample.ipynb`](https://github.com/GoogleCloudPlatform/training-data-analyst/blob/asl/courses/machine_learning/deepdive/05_review/2_sample.ipynb) notebook to remind yourself how this was done. "
   ]
  },
  {
   "cell_type": "code",
   "execution_count": null,
   "metadata": {},
   "outputs": [],
   "source": [
    "query = \"\"\"\n",
    "WITH CTE_Raw_Data AS (\n",
    "SELECT\n",
    "  weight_pounds,\n",
    "    CAST(is_male AS STRING) as is_male,\n",
    "    mother_age,\n",
    "    CAST(mother_race AS STRING) as mother_race,\n",
    "    CAST(father_race AS STRING) as father_race,\n",
    "    CAST(cigarette_use AS STRING) as cigarette_use,\n",
    "    CAST(mother_married AS STRING) as mother_married,\n",
    "    ever_born,\n",
    "    plurality,\n",
    "    weight_gain_pounds,\n",
    "    gestation_weeks,\n",
    "  ABS(FARM_FINGERPRINT(CONCAT(CAST(YEAR AS STRING), CAST(month AS STRING)))) AS hashmonth\n",
    "FROM\n",
    "  publicdata.samples.natality\n",
    "WHERE\n",
    "  year > 2000\n",
    "  AND weight_pounds > 0\n",
    "  AND weight_pounds < 20\n",
    "  AND mother_age > 13\n",
    "  AND mother_age < 45\n",
    "  AND plurality > 0\n",
    "  AND gestation_weeks > 21\n",
    "  AND month > 0)\n",
    "\n",
    "-- Ultrasound\n",
    "SELECT\n",
    "  weight_pounds,\n",
    "  is_male,\n",
    "  mother_age,\n",
    "  mother_race,\n",
    "  father_race,\n",
    "  cigarette_use,\n",
    "  mother_married,\n",
    "  ever_born,\n",
    "  CASE\n",
    "    WHEN plurality = 1 THEN 'Single(1)'\n",
    "    WHEN plurality = 2 THEN 'Twins(2)'\n",
    "    WHEN plurality = 3 THEN 'Triplets(3)'\n",
    "    WHEN plurality = 4 THEN 'Quadruplets(4)'\n",
    "    WHEN plurality = 5 THEN 'Quintuplets(5)'\n",
    "  END AS plurality,\n",
    "  gestation_weeks,\n",
    "  weight_gain_pounds,\n",
    "  hashmonth\n",
    "FROM\n",
    "  CTE_Raw_Data\n",
    "UNION ALL\n",
    "-- No ultrasound\n",
    "SELECT\n",
    "  weight_pounds,\n",
    "  'Unknown' as is_male,\n",
    "  mother_age,\n",
    "  mother_race,\n",
    "  father_race,\n",
    "  cigarette_use,\n",
    "  mother_married,\n",
    "  ever_born,\n",
    "  CASE\n",
    "       WHEN plurality = 1 THEN 'Single(1)'\n",
    "       ELSE 'Multiple(2+)'\n",
    "  END AS plurality,\n",
    "  weight_gain_pounds\n",
    "  gestation_weeks,\n",
    "  hashmonth\n",
    "FROM\n",
    "    CTE_Raw_Data\n",
    "\"\"\""
   ]
  },
  {
   "cell_type": "markdown",
   "metadata": {},
   "source": [
    "Create temporary BigQuery dataset"
   ]
  },
  {
   "cell_type": "code",
   "execution_count": null,
   "metadata": {},
   "outputs": [],
   "source": [
    "from google.cloud import bigquery\n",
    "\n",
    "# Construct a BigQuery client object.\n",
    "client = bigquery.Client()\n",
    "\n",
    "# Set dataset_id to the ID of the dataset to create.\n",
    "dataset_name = \"temp_babyweight_dataset\"\n",
    "dataset_id = \"{}.{}\".format(client.project, dataset_name)\n",
    "\n",
    "# Construct a full Dataset object to send to the API.\n",
    "dataset = bigquery.Dataset.from_string(dataset_id)\n",
    "\n",
    "# Specify the geographic location where the dataset should reside.\n",
    "dataset.location = \"US\"\n",
    "\n",
    "# Send the dataset to the API for creation.\n",
    "# Raises google.api_core.exceptions.Conflict if the Dataset already\n",
    "# exists within the project.\n",
    "try:\n",
    "    dataset = client.create_dataset(dataset)  # API request\n",
    "    print(\"Created dataset {}.{}\".format(client.project, dataset.dataset_id))\n",
    "except:\n",
    "    print(\"Dataset {}.{} already exists\".format(client.project, dataset.dataset_id))"
   ]
  },
  {
   "cell_type": "markdown",
   "metadata": {},
   "source": [
    "Execute query and write to BigQuery table."
   ]
  },
  {
   "cell_type": "code",
   "execution_count": null,
   "metadata": {},
   "outputs": [],
   "source": [
    "job_config = bigquery.QueryJobConfig()\n",
    "for step in [\"train\", \"eval\"]:\n",
    "    if step == \"train\":\n",
    "        selquery = \"SELECT * FROM ({}) WHERE MOD(hashmonth, 100) < 80\".format(query)\n",
    "    elif step == \"eval\":\n",
    "        selquery = \"SELECT * FROM ({}) WHERE MOD(hashmonth, 100) >= 80 AND MOD(hashmonth, 100) < 90\".format(query)\n",
    "    else: \n",
    "        selquery = \"SELECT * FROM ({}) WHERE MOD(hashmonth, 100) >= 90\".format(query)\n",
    "    # Set the destination table\n",
    "    table_name = \"babyweight_{}\".format(step)\n",
    "    table_ref = client.dataset(dataset_name).table(table_name)\n",
    "    job_config.destination = table_ref\n",
    "    job_config.write_disposition = \"WRITE_TRUNCATE\"\n",
    "\n",
    "    # Start the query, passing in the extra configuration.\n",
    "    query_job = client.query(\n",
    "        query=selquery,\n",
    "        # Location must match that of the dataset(s) referenced in the query\n",
    "        # and of the destination table.\n",
    "        location=\"US\",\n",
    "        job_config=job_config)  # API request - starts the query\n",
    "\n",
    "    query_job.result()  # Waits for the query to finish\n",
    "    print(\"Query results loaded to table {}\".format(table_ref.path))"
   ]
  },
  {
   "cell_type": "markdown",
   "metadata": {},
   "source": [
    "Export BigQuery table to CSV in GCS."
   ]
  },
  {
   "cell_type": "code",
   "execution_count": null,
   "metadata": {},
   "outputs": [],
   "source": [
    "dataset_ref = client.dataset(dataset_id=dataset_name, project=PROJECT)\n",
    "\n",
    "for step in [\"train\", \"eval\"]:\n",
    "    destination_uri = \"gs://{}/{}\".format(BUCKET, \"babyweight/bq_data/{}*.csv\".format(step))\n",
    "    table_name = \"babyweight_{}\".format(step)\n",
    "    table_ref = dataset_ref.table(table_name)\n",
    "    extract_job = client.extract_table(\n",
    "        table_ref,\n",
    "        destination_uri,\n",
    "        # Location must match that of the source table.\n",
    "        location=\"US\",\n",
    "    )  # API request\n",
    "    extract_job.result()  # Waits for job to complete.\n",
    "\n",
    "    print(\"Exported {}:{}.{} to {}\".format(PROJECT, dataset_name, table_name, destination_uri))"
   ]
  },
  {
   "cell_type": "markdown",
   "metadata": {},
   "source": [
    "## View results\n",
    "We can have a look at the elements in our bucket to see the results of our pipeline above."
   ]
  },
  {
   "cell_type": "code",
   "execution_count": null,
   "metadata": {},
   "outputs": [],
   "source": [
    "!gsutil ls gs://$BUCKET/babyweight/bq_data/*000000000000*"
   ]
  },
  {
   "cell_type": "markdown",
   "metadata": {},
   "source": [
    "Note that the BigQuery output methodology includes hashmonth in the output CSV while the DataFlow one does not."
   ]
  },
  {
   "cell_type": "markdown",
   "metadata": {},
   "source": [
    "Copyright 2017 Google Inc. Licensed under the Apache License, Version 2.0 (the \"License\"); you may not use this file except in compliance with the License. You may obtain a copy of the License at http://www.apache.org/licenses/LICENSE-2.0 Unless required by applicable law or agreed to in writing, software distributed under the License is distributed on an \"AS IS\" BASIS, WITHOUT WARRANTIES OR CONDITIONS OF ANY KIND, either express or implied. See the License for the specific language governing permissions and limitations under the License"
   ]
  }
 ],
 "metadata": {
  "kernelspec": {
   "display_name": "Python 2",
   "language": "python",
   "name": "python2"
  },
  "language_info": {
   "codemirror_mode": {
    "name": "ipython",
    "version": 2
   },
   "file_extension": ".py",
   "mimetype": "text/x-python",
   "name": "python",
   "nbconvert_exporter": "python",
   "pygments_lexer": "ipython2",
   "version": "2.7.13"
  }
 },
 "nbformat": 4,
 "nbformat_minor": 2
}
